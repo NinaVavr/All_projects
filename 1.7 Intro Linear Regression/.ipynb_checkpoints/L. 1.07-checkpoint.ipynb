{
 "cells": [
  {
   "cell_type": "code",
   "execution_count": 1,
   "metadata": {
    "id": "vc-6GOSXRGQG"
   },
   "outputs": [],
   "source": [
    "import pandas as pd\n",
    "import numpy as np\n",
    "import matplotlib.pyplot as plt\n",
    "import seaborn as sns\n",
    "%matplotlib inline"
   ]
  },
  {
   "cell_type": "code",
   "execution_count": 3,
   "metadata": {
    "id": "pXjkVIledzqv"
   },
   "outputs": [
    {
     "data": {
      "text/plain": [
       "array([0, 1, 2, 3, 4, 5, 6, 7, 8, 9])"
      ]
     },
     "execution_count": 3,
     "metadata": {},
     "output_type": "execute_result"
    }
   ],
   "source": [
    "# generating an array of x values\n",
    "x = np.arange(0,10)\n",
    "x"
   ]
  },
  {
   "cell_type": "code",
   "execution_count": 9,
   "metadata": {
    "id": "ve8_Nk6hd7lg"
   },
   "outputs": [
    {
     "data": {
      "text/plain": [
       "array([ 3,  4,  5,  6,  7,  8,  9, 10, 11, 12])"
      ]
     },
     "execution_count": 9,
     "metadata": {},
     "output_type": "execute_result"
    }
   ],
   "source": [
    "y = 0 + 1 * x\n",
    "y2 = 3 + 1 * x \n",
    "y3 = -1 + 1 * x\n",
    "#here we are changing the y-intercept (b0), which controls the height of the line\n",
    "y3\n",
    "#plt.plot(x,y)\n",
    "#plt.plot(x,y2)\n",
    "#plt.plot(x,y3)\n",
    "#plt.show()"
   ]
  },
  {
   "cell_type": "code",
   "execution_count": null,
   "metadata": {
    "id": "jHptCfiDd9bQ"
   },
   "outputs": [],
   "source": [
    "y = 0 + x \n",
    "y2 = 0 + 2*x \n",
    "y3 = 0 + -3*x\n",
    "#here we are changing the gradient (aka coefficient or b1), which controls the slope of the line\n",
    "\n",
    "plt.plot(x,y)\n",
    "plt.plot(x,y2)\n",
    "plt.plot(x,y3)\n",
    "plt.show()"
   ]
  },
  {
   "cell_type": "code",
   "execution_count": null,
   "metadata": {
    "id": "97Q-RqHY2SRv"
   },
   "outputs": [],
   "source": [
    "#The whole goal of Linear Regression is to find the \"best\" intercept and slope to \"fit\" our data!\n"
   ]
  },
  {
   "cell_type": "code",
   "execution_count": null,
   "metadata": {
    "id": "a2sGJkxDRGQJ"
   },
   "outputs": [],
   "source": [
    "# apply linear regression on the following data"
   ]
  },
  {
   "cell_type": "code",
   "execution_count": null,
   "metadata": {
    "id": "tLZzo8ExRGQJ"
   },
   "outputs": [],
   "source": [
    "reg_data = pd.read_csv('regression_data.csv')\n",
    "reg_data.head()"
   ]
  },
  {
   "cell_type": "code",
   "execution_count": null,
   "metadata": {
    "id": "cuXr-4QqSKlM"
   },
   "outputs": [],
   "source": [
    "reg_data.describe().T"
   ]
  },
  {
   "cell_type": "code",
   "execution_count": null,
   "metadata": {
    "id": "nQvtB9nf1lj3"
   },
   "outputs": [],
   "source": [
    "from sklearn import linear_model\n",
    "from sklearn.metrics import mean_squared_error, r2_score"
   ]
  },
  {
   "cell_type": "code",
   "execution_count": null,
   "metadata": {
    "id": "hF9wSjb5S1TE"
   },
   "outputs": [],
   "source": [
    "#let's pick the AVGGIFT variable as the one we think is the most explanatory\n",
    "sns.scatterplot(x='AVGGIFT',y='TARGET_D',data=reg_data)\n",
    "plt.show()"
   ]
  },
  {
   "cell_type": "code",
   "execution_count": null,
   "metadata": {
    "id": "L9uI7hO-SKlO"
   },
   "outputs": [],
   "source": [
    "reg_data['TARGET_D'].corr(reg_data['AVGGIFT'])"
   ]
  },
  {
   "cell_type": "code",
   "execution_count": null,
   "metadata": {
    "id": "M7LGIStxifyc"
   },
   "outputs": [],
   "source": [
    "y = reg_data['TARGET_D']\n",
    "X = reg_data[['AVGGIFT']]"
   ]
  },
  {
   "cell_type": "code",
   "execution_count": null,
   "metadata": {
    "id": "G_w3T0lnSKlP"
   },
   "outputs": [],
   "source": [
    "type(y)"
   ]
  },
  {
   "cell_type": "code",
   "execution_count": null,
   "metadata": {
    "id": "SSH1fK5JUBf9"
   },
   "outputs": [],
   "source": [
    "# to perform the linear regression we'll use the sklearn implementation of linear regression\n",
    "# we will use sklearn a lot\n",
    "\n",
    "# we first create the model. This just tells python to be ready to use a linear model, it does not actually compute anything yet\n",
    "\n",
    "lm = linear_model.LinearRegression()"
   ]
  },
  {
   "cell_type": "code",
   "execution_count": null,
   "metadata": {
    "id": "BtK1TjBQilPF"
   },
   "outputs": [],
   "source": [
    "%%time\n",
    "# we now \"fit\" (a.k.a. \"train\") the model in our data\n",
    "# linear regression picks the line (i.e. the intercept and the gradient) that best \"fits\" our data\n",
    "# we will get to the meaning of \"fitting the data\" in a second\n",
    "\n",
    "lm.fit(X,y)\n",
    "print(\"b0 = \" , lm.intercept_)\n",
    "print(\"b1 = \" , lm.coef_) # coefficients is an array because later we will see we can have more than one dimension for our gradient"
   ]
  },
  {
   "cell_type": "code",
   "execution_count": null,
   "metadata": {
    "id": "5TmpVgIDi1gl"
   },
   "outputs": [],
   "source": [
    "#let's visualize this result\n",
    "regression_line = lm.intercept_ + lm.coef_[0]*reg_data['AVGGIFT']\n",
    "plt.plot(reg_data['AVGGIFT'], regression_line, c = 'orange')\n",
    "sns.scatterplot(x='AVGGIFT',y='TARGET_D',data=reg_data)\n",
    "plt.show()"
   ]
  },
  {
   "cell_type": "code",
   "execution_count": null,
   "metadata": {
    "id": "pHe8F43bh7Y8"
   },
   "outputs": [],
   "source": [
    "#we can use this model to predict new or unseen datapoints\n",
    "lm.predict([[10],[20],[35],[55]])\n",
    "#what does this mean"
   ]
  },
  {
   "cell_type": "code",
   "execution_count": null,
   "metadata": {
    "id": "7wjI8Qh4iVJG"
   },
   "outputs": [],
   "source": [
    "#the score is not great, but we have not performed any data preparation yet\n",
    "print(\"R2-score is \", lm.score(X,y))\n",
    "\n",
    "y_pred = lm.predict(X)\n",
    "print(\"mean squared error (MSE) is \", mean_squared_error(y_pred,y))\n",
    "mean_squared_error(y_pred,y)"
   ]
  },
  {
   "cell_type": "code",
   "execution_count": null,
   "metadata": {
    "id": "AkzVyWwMgPFU"
   },
   "outputs": [],
   "source": [
    "#any other line would have a worse result\n",
    "regression_line = lm.intercept_ + lm.coef_[0]*reg_data['AVGGIFT']\n",
    "plt.plot(reg_data['AVGGIFT'], regression_line, c = 'orange')\n",
    "regression_line_2 = lm.intercept_ + 0.8*reg_data['AVGGIFT']\n",
    "plt.plot(reg_data['AVGGIFT'], regression_line_2, c = 'red')\n",
    "regression_line_3 = 10 + lm.coef_[0]*reg_data['AVGGIFT']\n",
    "plt.plot(reg_data['AVGGIFT'], regression_line_3, c = 'green')\n",
    "sns.scatterplot(x='AVGGIFT',y='TARGET_D',data=reg_data)\n",
    "plt.show()"
   ]
  },
  {
   "cell_type": "code",
   "execution_count": null,
   "metadata": {
    "id": "O9b8NHNiSKlS"
   },
   "outputs": [],
   "source": [
    "print(\"MSE fitted line is \", round(mean_squared_error(regression_line, y),2))\n",
    "print(\"MSE line 2 is      \", round(mean_squared_error(regression_line_2, y),2))\n",
    "print(\"MSE line 3 is      \", round(mean_squared_error(regression_line_3, y),2))"
   ]
  },
  {
   "cell_type": "code",
   "execution_count": null,
   "metadata": {
    "id": "bcVF-tcRjam0"
   },
   "outputs": [],
   "source": [
    "%%time\n",
    "#let's bring in more variables\n",
    "y = reg_data['TARGET_D']\n",
    "X2 = reg_data.drop(['TARGET_D'], axis=1)\n",
    "lm2 = linear_model.LinearRegression()\n",
    "lm2.fit(X2,y)\n",
    "print(lm2.score(X2,y))\n",
    "y_pred = lm2.predict(X2)\n",
    "print(mean_squared_error(y_pred,y))\n",
    "#results are better, but now we cannot visualize them"
   ]
  },
  {
   "cell_type": "code",
   "execution_count": null,
   "metadata": {
    "id": "oSpzscJiSKlT"
   },
   "outputs": [],
   "source": [
    "X2.head()"
   ]
  },
  {
   "cell_type": "code",
   "execution_count": null,
   "metadata": {
    "id": "CGywtcusRGQK"
   },
   "outputs": [],
   "source": [
    "print(lm2.intercept_)\n",
    "print(lm2.coef_)\n",
    "\n",
    "# back to presentation-->"
   ]
  },
  {
   "cell_type": "markdown",
   "metadata": {
    "id": "c_V5xRrWlmSk"
   },
   "source": [
    "# Checking assumptions"
   ]
  },
  {
   "cell_type": "code",
   "execution_count": null,
   "metadata": {
    "id": "uCZQHQeJqL_z"
   },
   "outputs": [],
   "source": [
    "# THIS IS PROBABLY THE MOST IMPORTANT LINE IN THIS NOTEBOOK\n",
    "# the best variables are those that have a high correlation with the target (you want to predict, always the y), but low correlation between themselves"
   ]
  },
  {
   "cell_type": "code",
   "execution_count": null,
   "metadata": {
    "id": "oARcUjWhRGQN"
   },
   "outputs": [],
   "source": [
    "correlations_matrix = reg_data.corr()\n",
    "sns.heatmap(correlations_matrix, annot=True)\n",
    "plt.show()"
   ]
  },
  {
   "cell_type": "code",
   "execution_count": null,
   "metadata": {
    "id": "moS4QQWhSKlW"
   },
   "outputs": [],
   "source": [
    "correlations_matrix"
   ]
  },
  {
   "cell_type": "code",
   "execution_count": null,
   "metadata": {
    "id": "aef4evjVRGQN"
   },
   "outputs": [],
   "source": [
    "# We can see that there is a very strong positive correlation between IC1 and IC2, IC2 and IC3, IC3 and IC4\n",
    "# using the concept of multicollinearity, lets drop IC1, IC3 and IC4 and keep IC2 as it has the highest corr wit the target"
   ]
  },
  {
   "cell_type": "code",
   "execution_count": null,
   "metadata": {
    "id": "NkHlkqWjRGQN"
   },
   "outputs": [],
   "source": [
    "reduced_data = reg_data.drop(['IC1', 'IC3', 'IC4'],axis=1)\n",
    "reduced_data.columns"
   ]
  },
  {
   "cell_type": "code",
   "execution_count": null,
   "metadata": {
    "id": "McmgXMcYRGQN"
   },
   "outputs": [],
   "source": [
    "from sklearn import linear_model\n",
    "y = reduced_data['TARGET_D']\n",
    "X3 = reduced_data.drop(['TARGET_D'], axis=1)\n",
    "lm3 = linear_model.LinearRegression()\n",
    "lm3.fit(X3,y)\n",
    "print(lm3.score(X3,y))\n",
    "y_pred=lm3.predict(X3)\n",
    "print(mean_squared_error(y_pred,y))"
   ]
  },
  {
   "cell_type": "code",
   "execution_count": null,
   "metadata": {
    "id": "rGqq7wU9SKlX"
   },
   "outputs": [],
   "source": []
  },
  {
   "cell_type": "code",
   "execution_count": null,
   "metadata": {
    "id": "zBQqsW6LSKlY"
   },
   "outputs": [],
   "source": []
  }
 ],
 "metadata": {
  "colab": {
   "provenance": []
  },
  "kernelspec": {
   "display_name": "Python 3 (ipykernel)",
   "language": "python",
   "name": "python3"
  },
  "language_info": {
   "codemirror_mode": {
    "name": "ipython",
    "version": 3
   },
   "file_extension": ".py",
   "mimetype": "text/x-python",
   "name": "python",
   "nbconvert_exporter": "python",
   "pygments_lexer": "ipython3",
   "version": "3.10.9"
  }
 },
 "nbformat": 4,
 "nbformat_minor": 1
}
