{
 "cells": [
  {
   "cell_type": "markdown",
   "metadata": {
    "id": "lU3gfGiTXjZn"
   },
   "source": [
    "# Lesson 0"
   ]
  },
  {
   "cell_type": "code",
   "execution_count": 1,
   "metadata": {
    "id": "55WE8f9cXlDT"
   },
   "outputs": [],
   "source": [
    "import pandas as pd\n",
    "import numpy as np"
   ]
  },
  {
   "cell_type": "code",
   "execution_count": 2,
   "metadata": {
    "id": "bzVqodtUXmwf"
   },
   "outputs": [],
   "source": [
    "# compute the average, std of heights, shoe size\n",
    "heights=[186, 173, 165, 163, 178, 160, 192, 193, 172, 165, 157, 166, 180, 202]\n",
    "\n",
    "shoe_size = [44, 39, 37, 41, 43, 38, 46, 44, 39, 38, 43, 38, 40, 47]\n"
   ]
  },
  {
   "cell_type": "code",
   "execution_count": 5,
   "metadata": {},
   "outputs": [
    {
     "data": {
      "text/plain": [
       "14"
      ]
     },
     "execution_count": 5,
     "metadata": {},
     "output_type": "execute_result"
    }
   ],
   "source": [
    "len(heights)"
   ]
  },
  {
   "cell_type": "code",
   "execution_count": 12,
   "metadata": {
    "id": "O9_X8ZAF6TpV",
    "outputId": "686b3503-d2bb-4c41-975a-ac1c4cafa145"
   },
   "outputs": [
    {
     "data": {
      "text/plain": [
       "[(38, 3),\n",
       " (44, 2),\n",
       " (39, 2),\n",
       " (43, 2),\n",
       " (37, 1),\n",
       " (41, 1),\n",
       " (46, 1),\n",
       " (40, 1),\n",
       " (47, 1)]"
      ]
     },
     "execution_count": 12,
     "metadata": {},
     "output_type": "execute_result"
    }
   ],
   "source": [
    "# 'average' : measures of centrality: mean, median, mode\n",
    "\n",
    "mean_height = sum(heights)/len(heights)\n",
    "mean_height\n",
    "\n",
    "mean_shoesize = sum(shoe_size)/len(shoe_size)\n",
    "mean_shoesize\n",
    "\n",
    "mean_height = np.mean(heights)\n",
    "mean_height\n",
    "\n",
    "mean_shoesize = np.mean(shoe_size)\n",
    "mean_shoesize\n",
    "\n",
    "heights.sort()\n",
    "heights\n",
    "\n",
    "median_height = np.median(heights)\n",
    "median_height\n",
    "\n",
    "median_shoesize = np.median(shoe_size)\n",
    "median_shoesize\n",
    "\n",
    "# #mode is a bit trickier for lists, dataframes have the describe function\n",
    "from collections import Counter\n",
    "data = Counter(shoe_size)\n",
    "data\n",
    "data.most_common()   # Returns all unique items and their counts\n",
    "data.most_common()  # Returns the highest occurring item\n",
    "#it's a list of tuppals"
   ]
  },
  {
   "cell_type": "code",
   "execution_count": null,
   "metadata": {},
   "outputs": [],
   "source": []
  },
  {
   "cell_type": "code",
   "execution_count": 14,
   "metadata": {},
   "outputs": [
    {
     "name": "stdout",
     "output_type": "stream",
     "text": [
      "[157, 160, 163, 165, 165, 166, 172, 173, 178, 180, 186, 192, 193, 202]\n"
     ]
    }
   ],
   "source": [
    "print(heights)"
   ]
  },
  {
   "cell_type": "code",
   "execution_count": 13,
   "metadata": {},
   "outputs": [
    {
     "data": {
      "text/plain": [
       "184.5"
      ]
     },
     "execution_count": 13,
     "metadata": {},
     "output_type": "execute_result"
    }
   ],
   "source": [
    "\n",
    "# q25, q75 are \"reasonable representatives\" of small/large values \n",
    "# just like the central location measures are \"reasonable representatives\" of the totality of values\n",
    "height_q25 = np.quantile(heights, q=0.25)\n",
    "height_q25\n",
    "\n",
    "height_q75 = np.quantile(heights, q=0.75)\n",
    "height_q75\n",
    "#q25 = Q1\n",
    "#q75 = Q3"
   ]
  },
  {
   "cell_type": "code",
   "execution_count": 15,
   "metadata": {
    "id": "i65M5vkb6TpY",
    "outputId": "81c0137a-188b-4245-b4ba-84d97a842192"
   },
   "outputs": [
    {
     "data": {
      "text/plain": [
       "177.4081632653061"
      ]
     },
     "execution_count": 15,
     "metadata": {},
     "output_type": "execute_result"
    }
   ],
   "source": [
    "# measure of dispersion\n",
    "min_height = min(heights)\n",
    "min_height\n",
    "max_height = max(heights)\n",
    "max_height\n",
    "range_heights = max_height - min_height\n",
    "range_heights\n",
    "\n",
    "# standard deviation as a measure of dispersion\n",
    "heights_std =np.std(heights)\n",
    "heights_std\n",
    "\n",
    "# sometimes you also see variance, which is just the square of the standard deviation\n",
    "heights_var = heights_std ** 2 \n",
    "heights_var"
   ]
  },
  {
   "cell_type": "code",
   "execution_count": 18,
   "metadata": {},
   "outputs": [],
   "source": [
    "# reset heights to original order\n",
    "heights = [186, 173, 165, 163, 178, 160, 192, 193, 172, 165, 157, 166, 180, 202]"
   ]
  },
  {
   "cell_type": "code",
   "execution_count": 19,
   "metadata": {
    "id": "2P2THEIF6TpZ",
    "outputId": "40c5b915-4ada-4135-c89b-aaef6240c0ea"
   },
   "outputs": [
    {
     "data": {
      "image/png": "[encoded data removed]",
      "text/plain": [
       "<Figure size 640x480 with 1 Axes>"
      ]
     },
     "metadata": {},
     "output_type": "display_data"
    }
   ],
   "source": [
    "import matplotlib.pyplot as plt\n",
    "#%matplotlib inline\n",
    "plt.scatter(heights, shoe_size)\n",
    "plt.show()"
   ]
  },
  {
   "cell_type": "code",
   "execution_count": null,
   "metadata": {
    "id": "NtTehyl56Tpa"
   },
   "outputs": [],
   "source": [
    "# correlation\n",
    "# positive correlation: if x goes up, y also tends to go up\n",
    "# negative correlation: if x goes up, y tends to go down\n",
    "# zero correlation: no visible trend\n",
    "# see image"
   ]
  },
  {
   "cell_type": "code",
   "execution_count": 20,
   "metadata": {
    "id": "Zo57dnHDRhtW"
   },
   "outputs": [],
   "source": [
    "pd.set_option('display.max_columns', None)\n",
    "import warnings\n",
    "warnings.filterwarnings('ignore')\n"
   ]
  },
  {
   "cell_type": "code",
   "execution_count": 25,
   "metadata": {
    "colab": {
     "base_uri": "https://localhost:8080/",
     "height": 198
    },
    "id": "kHWhe5UjQ7Id",
    "outputId": "ef461d1f-606a-406f-a9a2-4cc3a0eb17b9"
   },
   "outputs": [
    {
     "data": {
      "text/html": [
       "<div>\n",
       "<style scoped>\n",
       "    .dataframe tbody tr th:only-of-type {\n",
       "        vertical-align: middle;\n",
       "    }\n",
       "\n",
       "    .dataframe tbody tr th {\n",
       "        vertical-align: top;\n",
       "    }\n",
       "\n",
       "    .dataframe thead th {\n",
       "        text-align: right;\n",
       "    }\n",
       "</style>\n",
       "<table border=\"1\" class=\"dataframe\">\n",
       "  <thead>\n",
       "    <tr style=\"text-align: right;\">\n",
       "      <th></th>\n",
       "      <th>id</th>\n",
       "      <th>state</th>\n",
       "      <th>gender</th>\n",
       "      <th>median_home_val</th>\n",
       "      <th>median_household_income</th>\n",
       "      <th>ic2</th>\n",
       "      <th>ic3</th>\n",
       "      <th>ic4</th>\n",
       "      <th>ic5</th>\n",
       "      <th>avggift</th>\n",
       "      <th>target_d</th>\n",
       "    </tr>\n",
       "  </thead>\n",
       "  <tbody>\n",
       "    <tr>\n",
       "      <th>0</th>\n",
       "      <td>44060</td>\n",
       "      <td>FL</td>\n",
       "      <td>M</td>\n",
       "      <td>1158.437751</td>\n",
       "      <td>392</td>\n",
       "      <td>430</td>\n",
       "      <td>466</td>\n",
       "      <td>520</td>\n",
       "      <td>21975</td>\n",
       "      <td>28.000000</td>\n",
       "      <td>100.0</td>\n",
       "    </tr>\n",
       "    <tr>\n",
       "      <th>1</th>\n",
       "      <td>96093</td>\n",
       "      <td>IL</td>\n",
       "      <td>M</td>\n",
       "      <td>537.000000</td>\n",
       "      <td>365</td>\n",
       "      <td>415</td>\n",
       "      <td>410</td>\n",
       "      <td>473</td>\n",
       "      <td>19387</td>\n",
       "      <td>5.666667</td>\n",
       "      <td>7.0</td>\n",
       "    </tr>\n",
       "    <tr>\n",
       "      <th>2</th>\n",
       "      <td>43333</td>\n",
       "      <td>FL</td>\n",
       "      <td>F</td>\n",
       "      <td>725.000000</td>\n",
       "      <td>301</td>\n",
       "      <td>340</td>\n",
       "      <td>361</td>\n",
       "      <td>436</td>\n",
       "      <td>18837</td>\n",
       "      <td>4.111111</td>\n",
       "      <td>5.0</td>\n",
       "    </tr>\n",
       "    <tr>\n",
       "      <th>3</th>\n",
       "      <td>21885</td>\n",
       "      <td>NC</td>\n",
       "      <td>M</td>\n",
       "      <td>1158.437751</td>\n",
       "      <td>401</td>\n",
       "      <td>407</td>\n",
       "      <td>399</td>\n",
       "      <td>413</td>\n",
       "      <td>14014</td>\n",
       "      <td>27.277778</td>\n",
       "      <td>38.0</td>\n",
       "    </tr>\n",
       "    <tr>\n",
       "      <th>4</th>\n",
       "      <td>190108</td>\n",
       "      <td>FL</td>\n",
       "      <td>F</td>\n",
       "      <td>995.000000</td>\n",
       "      <td>252</td>\n",
       "      <td>280</td>\n",
       "      <td>316</td>\n",
       "      <td>348</td>\n",
       "      <td>17991</td>\n",
       "      <td>6.000000</td>\n",
       "      <td>5.0</td>\n",
       "    </tr>\n",
       "  </tbody>\n",
       "</table>\n",
       "</div>"
      ],
      "text/plain": [
       "       id state gender  median_home_val  median_household_income  ic2  ic3  \\\n",
       "0   44060    FL      M      1158.437751                      392  430  466   \n",
       "1   96093    IL      M       537.000000                      365  415  410   \n",
       "2   43333    FL      F       725.000000                      301  340  361   \n",
       "3   21885    NC      M      1158.437751                      401  407  399   \n",
       "4  190108    FL      F       995.000000                      252  280  316   \n",
       "\n",
       "   ic4    ic5    avggift  target_d  \n",
       "0  520  21975  28.000000     100.0  \n",
       "1  473  19387   5.666667       7.0  \n",
       "2  436  18837   4.111111       5.0  \n",
       "3  413  14014  27.277778      38.0  \n",
       "4  348  17991   6.000000       5.0  "
      ]
     },
     "execution_count": 25,
     "metadata": {},
     "output_type": "execute_result"
    }
   ],
   "source": [
    "data = pd.read_csv('merged_clean_ver1.csv')\n",
    "# if when writing the file I would have used:\n",
    "# data.to_csv('merged_clean_ver1.csv', index=False)\n",
    "# then I would not have to do this:\n",
    "data = data.drop(['Unnamed: 0'],axis=1)\n",
    "data.head()"
   ]
  },
  {
   "cell_type": "markdown",
   "metadata": {
    "id": "-FTZ-rvpQ7Id"
   },
   "source": [
    "# Lesson 1 "
   ]
  },
  {
   "cell_type": "markdown",
   "metadata": {
    "id": "Obtepy-0Q7Id"
   },
   "source": [
    "Measures of central tendency - Mean, median, mode\n",
    "Measures of spread / dispersion - SD, var, range, quartiles, percentiles\n",
    "Meaures of frequency - Frequency\n",
    "Describe function using python"
   ]
  },
  {
   "cell_type": "code",
   "execution_count": 22,
   "metadata": {},
   "outputs": [
    {
     "data": {
      "text/plain": [
       "Unnamed: 0                   int64\n",
       "id                           int64\n",
       "state                       object\n",
       "gender                      object\n",
       "median_home_val            float64\n",
       "median_household_income      int64\n",
       "ic2                          int64\n",
       "ic3                          int64\n",
       "ic4                          int64\n",
       "ic5                          int64\n",
       "avggift                    float64\n",
       "target_d                   float64\n",
       "dtype: object"
      ]
     },
     "execution_count": 22,
     "metadata": {},
     "output_type": "execute_result"
    }
   ],
   "source": [
    "data.dtypes"
   ]
  },
  {
   "cell_type": "code",
   "execution_count": null,
   "metadata": {},
   "outputs": [],
   "source": []
  },
  {
   "cell_type": "code",
   "execution_count": null,
   "metadata": {},
   "outputs": [],
   "source": []
  },
  {
   "cell_type": "code",
   "execution_count": 31,
   "metadata": {
    "colab": {
     "base_uri": "https://localhost:8080/",
     "height": 378
    },
    "id": "e5JyWN1KQ7Ie",
    "outputId": "fcc60f66-6732-4e9d-ee4f-ced2a4144e37"
   },
   "outputs": [
    {
     "data": {
      "text/html": [
       "<div>\n",
       "<style scoped>\n",
       "    .dataframe tbody tr th:only-of-type {\n",
       "        vertical-align: middle;\n",
       "    }\n",
       "\n",
       "    .dataframe tbody tr th {\n",
       "        vertical-align: top;\n",
       "    }\n",
       "\n",
       "    .dataframe thead th {\n",
       "        text-align: right;\n",
       "    }\n",
       "</style>\n",
       "<table border=\"1\" class=\"dataframe\">\n",
       "  <thead>\n",
       "    <tr style=\"text-align: right;\">\n",
       "      <th></th>\n",
       "      <th>count</th>\n",
       "      <th>mean</th>\n",
       "      <th>std</th>\n",
       "      <th>min</th>\n",
       "      <th>25%</th>\n",
       "      <th>50%</th>\n",
       "      <th>75%</th>\n",
       "      <th>max</th>\n",
       "    </tr>\n",
       "  </thead>\n",
       "  <tbody>\n",
       "    <tr>\n",
       "      <th>id</th>\n",
       "      <td>3993.0</td>\n",
       "      <td>98929.308039</td>\n",
       "      <td>58179.839090</td>\n",
       "      <td>12.00000</td>\n",
       "      <td>46153.0000</td>\n",
       "      <td>101432.0</td>\n",
       "      <td>151653.000000</td>\n",
       "      <td>191779.0</td>\n",
       "    </tr>\n",
       "    <tr>\n",
       "      <th>median_home_val</th>\n",
       "      <td>3993.0</td>\n",
       "      <td>1158.437751</td>\n",
       "      <td>1033.485773</td>\n",
       "      <td>0.00000</td>\n",
       "      <td>548.0000</td>\n",
       "      <td>803.0</td>\n",
       "      <td>1349.000000</td>\n",
       "      <td>5982.0</td>\n",
       "    </tr>\n",
       "    <tr>\n",
       "      <th>median_household_income</th>\n",
       "      <td>3993.0</td>\n",
       "      <td>351.622840</td>\n",
       "      <td>168.488445</td>\n",
       "      <td>0.00000</td>\n",
       "      <td>239.0000</td>\n",
       "      <td>318.0</td>\n",
       "      <td>425.000000</td>\n",
       "      <td>1500.0</td>\n",
       "    </tr>\n",
       "    <tr>\n",
       "      <th>ic2</th>\n",
       "      <td>3993.0</td>\n",
       "      <td>400.713248</td>\n",
       "      <td>180.568500</td>\n",
       "      <td>0.00000</td>\n",
       "      <td>284.0000</td>\n",
       "      <td>366.0</td>\n",
       "      <td>478.000000</td>\n",
       "      <td>1500.0</td>\n",
       "    </tr>\n",
       "    <tr>\n",
       "      <th>ic3</th>\n",
       "      <td>3993.0</td>\n",
       "      <td>399.876283</td>\n",
       "      <td>164.822741</td>\n",
       "      <td>0.00000</td>\n",
       "      <td>287.0000</td>\n",
       "      <td>365.0</td>\n",
       "      <td>480.000000</td>\n",
       "      <td>1311.0</td>\n",
       "    </tr>\n",
       "    <tr>\n",
       "      <th>ic4</th>\n",
       "      <td>3993.0</td>\n",
       "      <td>444.732031</td>\n",
       "      <td>175.004178</td>\n",
       "      <td>0.00000</td>\n",
       "      <td>325.0000</td>\n",
       "      <td>410.0</td>\n",
       "      <td>528.000000</td>\n",
       "      <td>1331.0</td>\n",
       "    </tr>\n",
       "    <tr>\n",
       "      <th>ic5</th>\n",
       "      <td>3993.0</td>\n",
       "      <td>16456.413724</td>\n",
       "      <td>9455.318118</td>\n",
       "      <td>0.00000</td>\n",
       "      <td>11136.0000</td>\n",
       "      <td>14356.0</td>\n",
       "      <td>18780.000000</td>\n",
       "      <td>174523.0</td>\n",
       "    </tr>\n",
       "    <tr>\n",
       "      <th>avggift</th>\n",
       "      <td>3993.0</td>\n",
       "      <td>11.785117</td>\n",
       "      <td>10.172672</td>\n",
       "      <td>2.26087</td>\n",
       "      <td>7.1875</td>\n",
       "      <td>10.0</td>\n",
       "      <td>14.428571</td>\n",
       "      <td>450.0</td>\n",
       "    </tr>\n",
       "    <tr>\n",
       "      <th>target_d</th>\n",
       "      <td>3993.0</td>\n",
       "      <td>15.665036</td>\n",
       "      <td>12.703041</td>\n",
       "      <td>1.00000</td>\n",
       "      <td>10.0000</td>\n",
       "      <td>14.0</td>\n",
       "      <td>20.000000</td>\n",
       "      <td>200.0</td>\n",
       "    </tr>\n",
       "  </tbody>\n",
       "</table>\n",
       "</div>"
      ],
      "text/plain": [
       "                          count          mean           std       min  \\\n",
       "id                       3993.0  98929.308039  58179.839090  12.00000   \n",
       "median_home_val          3993.0   1158.437751   1033.485773   0.00000   \n",
       "median_household_income  3993.0    351.622840    168.488445   0.00000   \n",
       "ic2                      3993.0    400.713248    180.568500   0.00000   \n",
       "ic3                      3993.0    399.876283    164.822741   0.00000   \n",
       "ic4                      3993.0    444.732031    175.004178   0.00000   \n",
       "ic5                      3993.0  16456.413724   9455.318118   0.00000   \n",
       "avggift                  3993.0     11.785117     10.172672   2.26087   \n",
       "target_d                 3993.0     15.665036     12.703041   1.00000   \n",
       "\n",
       "                                25%       50%            75%       max  \n",
       "id                       46153.0000  101432.0  151653.000000  191779.0  \n",
       "median_home_val            548.0000     803.0    1349.000000    5982.0  \n",
       "median_household_income    239.0000     318.0     425.000000    1500.0  \n",
       "ic2                        284.0000     366.0     478.000000    1500.0  \n",
       "ic3                        287.0000     365.0     480.000000    1311.0  \n",
       "ic4                        325.0000     410.0     528.000000    1331.0  \n",
       "ic5                      11136.0000   14356.0   18780.000000  174523.0  \n",
       "avggift                      7.1875      10.0      14.428571     450.0  \n",
       "target_d                    10.0000      14.0      20.000000     200.0  "
      ]
     },
     "execution_count": 31,
     "metadata": {},
     "output_type": "execute_result"
    }
   ],
   "source": [
    "data.describe()\n",
    "\n",
    "\n",
    "data.describe().T\n"
   ]
  },
  {
   "cell_type": "code",
   "execution_count": 32,
   "metadata": {
    "id": "4IO4hzt1Q7If"
   },
   "outputs": [
    {
     "data": {
      "text/html": [
       "<div>\n",
       "<style scoped>\n",
       "    .dataframe tbody tr th:only-of-type {\n",
       "        vertical-align: middle;\n",
       "    }\n",
       "\n",
       "    .dataframe tbody tr th {\n",
       "        vertical-align: top;\n",
       "    }\n",
       "\n",
       "    .dataframe thead th {\n",
       "        text-align: right;\n",
       "    }\n",
       "</style>\n",
       "<table border=\"1\" class=\"dataframe\">\n",
       "  <thead>\n",
       "    <tr style=\"text-align: right;\">\n",
       "      <th></th>\n",
       "      <th>count</th>\n",
       "      <th>unique</th>\n",
       "      <th>top</th>\n",
       "      <th>freq</th>\n",
       "      <th>mean</th>\n",
       "      <th>std</th>\n",
       "      <th>min</th>\n",
       "      <th>25%</th>\n",
       "      <th>50%</th>\n",
       "      <th>75%</th>\n",
       "      <th>max</th>\n",
       "    </tr>\n",
       "  </thead>\n",
       "  <tbody>\n",
       "    <tr>\n",
       "      <th>id</th>\n",
       "      <td>3993.0</td>\n",
       "      <td>NaN</td>\n",
       "      <td>NaN</td>\n",
       "      <td>NaN</td>\n",
       "      <td>98929.308039</td>\n",
       "      <td>58179.83909</td>\n",
       "      <td>12.0</td>\n",
       "      <td>46153.0</td>\n",
       "      <td>101432.0</td>\n",
       "      <td>151653.0</td>\n",
       "      <td>191779.0</td>\n",
       "    </tr>\n",
       "    <tr>\n",
       "      <th>state</th>\n",
       "      <td>3984</td>\n",
       "      <td>52</td>\n",
       "      <td>CA</td>\n",
       "      <td>749</td>\n",
       "      <td>NaN</td>\n",
       "      <td>NaN</td>\n",
       "      <td>NaN</td>\n",
       "      <td>NaN</td>\n",
       "      <td>NaN</td>\n",
       "      <td>NaN</td>\n",
       "      <td>NaN</td>\n",
       "    </tr>\n",
       "    <tr>\n",
       "      <th>gender</th>\n",
       "      <td>3993</td>\n",
       "      <td>10</td>\n",
       "      <td>F</td>\n",
       "      <td>2080</td>\n",
       "      <td>NaN</td>\n",
       "      <td>NaN</td>\n",
       "      <td>NaN</td>\n",
       "      <td>NaN</td>\n",
       "      <td>NaN</td>\n",
       "      <td>NaN</td>\n",
       "      <td>NaN</td>\n",
       "    </tr>\n",
       "    <tr>\n",
       "      <th>median_home_val</th>\n",
       "      <td>3993.0</td>\n",
       "      <td>NaN</td>\n",
       "      <td>NaN</td>\n",
       "      <td>NaN</td>\n",
       "      <td>1158.437751</td>\n",
       "      <td>1033.485773</td>\n",
       "      <td>0.0</td>\n",
       "      <td>548.0</td>\n",
       "      <td>803.0</td>\n",
       "      <td>1349.0</td>\n",
       "      <td>5982.0</td>\n",
       "    </tr>\n",
       "    <tr>\n",
       "      <th>median_household_income</th>\n",
       "      <td>3993.0</td>\n",
       "      <td>NaN</td>\n",
       "      <td>NaN</td>\n",
       "      <td>NaN</td>\n",
       "      <td>351.62284</td>\n",
       "      <td>168.488445</td>\n",
       "      <td>0.0</td>\n",
       "      <td>239.0</td>\n",
       "      <td>318.0</td>\n",
       "      <td>425.0</td>\n",
       "      <td>1500.0</td>\n",
       "    </tr>\n",
       "    <tr>\n",
       "      <th>ic2</th>\n",
       "      <td>3993.0</td>\n",
       "      <td>NaN</td>\n",
       "      <td>NaN</td>\n",
       "      <td>NaN</td>\n",
       "      <td>400.713248</td>\n",
       "      <td>180.5685</td>\n",
       "      <td>0.0</td>\n",
       "      <td>284.0</td>\n",
       "      <td>366.0</td>\n",
       "      <td>478.0</td>\n",
       "      <td>1500.0</td>\n",
       "    </tr>\n",
       "    <tr>\n",
       "      <th>ic3</th>\n",
       "      <td>3993.0</td>\n",
       "      <td>NaN</td>\n",
       "      <td>NaN</td>\n",
       "      <td>NaN</td>\n",
       "      <td>399.876283</td>\n",
       "      <td>164.822741</td>\n",
       "      <td>0.0</td>\n",
       "      <td>287.0</td>\n",
       "      <td>365.0</td>\n",
       "      <td>480.0</td>\n",
       "      <td>1311.0</td>\n",
       "    </tr>\n",
       "    <tr>\n",
       "      <th>ic4</th>\n",
       "      <td>3993.0</td>\n",
       "      <td>NaN</td>\n",
       "      <td>NaN</td>\n",
       "      <td>NaN</td>\n",
       "      <td>444.732031</td>\n",
       "      <td>175.004178</td>\n",
       "      <td>0.0</td>\n",
       "      <td>325.0</td>\n",
       "      <td>410.0</td>\n",
       "      <td>528.0</td>\n",
       "      <td>1331.0</td>\n",
       "    </tr>\n",
       "    <tr>\n",
       "      <th>ic5</th>\n",
       "      <td>3993.0</td>\n",
       "      <td>NaN</td>\n",
       "      <td>NaN</td>\n",
       "      <td>NaN</td>\n",
       "      <td>16456.413724</td>\n",
       "      <td>9455.318118</td>\n",
       "      <td>0.0</td>\n",
       "      <td>11136.0</td>\n",
       "      <td>14356.0</td>\n",
       "      <td>18780.0</td>\n",
       "      <td>174523.0</td>\n",
       "    </tr>\n",
       "    <tr>\n",
       "      <th>avggift</th>\n",
       "      <td>3993.0</td>\n",
       "      <td>NaN</td>\n",
       "      <td>NaN</td>\n",
       "      <td>NaN</td>\n",
       "      <td>11.785117</td>\n",
       "      <td>10.172672</td>\n",
       "      <td>2.26087</td>\n",
       "      <td>7.1875</td>\n",
       "      <td>10.0</td>\n",
       "      <td>14.428571</td>\n",
       "      <td>450.0</td>\n",
       "    </tr>\n",
       "    <tr>\n",
       "      <th>target_d</th>\n",
       "      <td>3993.0</td>\n",
       "      <td>NaN</td>\n",
       "      <td>NaN</td>\n",
       "      <td>NaN</td>\n",
       "      <td>15.665036</td>\n",
       "      <td>12.703041</td>\n",
       "      <td>1.0</td>\n",
       "      <td>10.0</td>\n",
       "      <td>14.0</td>\n",
       "      <td>20.0</td>\n",
       "      <td>200.0</td>\n",
       "    </tr>\n",
       "  </tbody>\n",
       "</table>\n",
       "</div>"
      ],
      "text/plain": [
       "                          count unique  top  freq          mean          std  \\\n",
       "id                       3993.0    NaN  NaN   NaN  98929.308039  58179.83909   \n",
       "state                      3984     52   CA   749           NaN          NaN   \n",
       "gender                     3993     10    F  2080           NaN          NaN   \n",
       "median_home_val          3993.0    NaN  NaN   NaN   1158.437751  1033.485773   \n",
       "median_household_income  3993.0    NaN  NaN   NaN     351.62284   168.488445   \n",
       "ic2                      3993.0    NaN  NaN   NaN    400.713248     180.5685   \n",
       "ic3                      3993.0    NaN  NaN   NaN    399.876283   164.822741   \n",
       "ic4                      3993.0    NaN  NaN   NaN    444.732031   175.004178   \n",
       "ic5                      3993.0    NaN  NaN   NaN  16456.413724  9455.318118   \n",
       "avggift                  3993.0    NaN  NaN   NaN     11.785117    10.172672   \n",
       "target_d                 3993.0    NaN  NaN   NaN     15.665036    12.703041   \n",
       "\n",
       "                             min      25%       50%        75%       max  \n",
       "id                          12.0  46153.0  101432.0   151653.0  191779.0  \n",
       "state                        NaN      NaN       NaN        NaN       NaN  \n",
       "gender                       NaN      NaN       NaN        NaN       NaN  \n",
       "median_home_val              0.0    548.0     803.0     1349.0    5982.0  \n",
       "median_household_income      0.0    239.0     318.0      425.0    1500.0  \n",
       "ic2                          0.0    284.0     366.0      478.0    1500.0  \n",
       "ic3                          0.0    287.0     365.0      480.0    1311.0  \n",
       "ic4                          0.0    325.0     410.0      528.0    1331.0  \n",
       "ic5                          0.0  11136.0   14356.0    18780.0  174523.0  \n",
       "avggift                  2.26087   7.1875      10.0  14.428571     450.0  \n",
       "target_d                     1.0     10.0      14.0       20.0     200.0  "
      ]
     },
     "execution_count": 32,
     "metadata": {},
     "output_type": "execute_result"
    }
   ],
   "source": [
    "data.describe(include='all').T"
   ]
  },
  {
   "cell_type": "code",
   "execution_count": 33,
   "metadata": {
    "id": "Y6bcDfSlQ7If"
   },
   "outputs": [
    {
     "data": {
      "text/html": [
       "<div>\n",
       "<style scoped>\n",
       "    .dataframe tbody tr th:only-of-type {\n",
       "        vertical-align: middle;\n",
       "    }\n",
       "\n",
       "    .dataframe tbody tr th {\n",
       "        vertical-align: top;\n",
       "    }\n",
       "\n",
       "    .dataframe thead th {\n",
       "        text-align: right;\n",
       "    }\n",
       "</style>\n",
       "<table border=\"1\" class=\"dataframe\">\n",
       "  <thead>\n",
       "    <tr style=\"text-align: right;\">\n",
       "      <th></th>\n",
       "      <th>count</th>\n",
       "      <th>unique</th>\n",
       "      <th>top</th>\n",
       "      <th>freq</th>\n",
       "    </tr>\n",
       "  </thead>\n",
       "  <tbody>\n",
       "    <tr>\n",
       "      <th>state</th>\n",
       "      <td>3984</td>\n",
       "      <td>52</td>\n",
       "      <td>CA</td>\n",
       "      <td>749</td>\n",
       "    </tr>\n",
       "    <tr>\n",
       "      <th>gender</th>\n",
       "      <td>3993</td>\n",
       "      <td>10</td>\n",
       "      <td>F</td>\n",
       "      <td>2080</td>\n",
       "    </tr>\n",
       "  </tbody>\n",
       "</table>\n",
       "</div>"
      ],
      "text/plain": [
       "       count unique top  freq\n",
       "state   3984     52  CA   749\n",
       "gender  3993     10   F  2080"
      ]
     },
     "execution_count": 33,
     "metadata": {},
     "output_type": "execute_result"
    }
   ],
   "source": [
    "data.describe(include=[np.object]).T"
   ]
  },
  {
   "cell_type": "code",
   "execution_count": 39,
   "metadata": {
    "id": "OJ51VRytQ7If",
    "outputId": "8aab93c6-aa04-4b35-b02b-99790767b0f8",
    "scrolled": true
   },
   "outputs": [
    {
     "data": {
      "text/html": [
       "<div>\n",
       "<style scoped>\n",
       "    .dataframe tbody tr th:only-of-type {\n",
       "        vertical-align: middle;\n",
       "    }\n",
       "\n",
       "    .dataframe tbody tr th {\n",
       "        vertical-align: top;\n",
       "    }\n",
       "\n",
       "    .dataframe thead th {\n",
       "        text-align: right;\n",
       "    }\n",
       "</style>\n",
       "<table border=\"1\" class=\"dataframe\">\n",
       "  <thead>\n",
       "    <tr style=\"text-align: right;\">\n",
       "      <th></th>\n",
       "      <th>count</th>\n",
       "      <th>mean</th>\n",
       "      <th>std</th>\n",
       "      <th>min</th>\n",
       "      <th>25%</th>\n",
       "      <th>50%</th>\n",
       "      <th>75%</th>\n",
       "      <th>max</th>\n",
       "      <th>iqr</th>\n",
       "      <th>range</th>\n",
       "    </tr>\n",
       "  </thead>\n",
       "  <tbody>\n",
       "    <tr>\n",
       "      <th>id</th>\n",
       "      <td>3993.0</td>\n",
       "      <td>98929.31</td>\n",
       "      <td>58179.84</td>\n",
       "      <td>12.00</td>\n",
       "      <td>46153.00</td>\n",
       "      <td>101432.0</td>\n",
       "      <td>151653.00</td>\n",
       "      <td>191779.0</td>\n",
       "      <td>105500.00</td>\n",
       "      <td>191767.00</td>\n",
       "    </tr>\n",
       "    <tr>\n",
       "      <th>median_home_val</th>\n",
       "      <td>3993.0</td>\n",
       "      <td>1158.44</td>\n",
       "      <td>1033.49</td>\n",
       "      <td>0.00</td>\n",
       "      <td>548.00</td>\n",
       "      <td>803.0</td>\n",
       "      <td>1349.00</td>\n",
       "      <td>5982.0</td>\n",
       "      <td>801.00</td>\n",
       "      <td>5982.00</td>\n",
       "    </tr>\n",
       "    <tr>\n",
       "      <th>median_household_income</th>\n",
       "      <td>3993.0</td>\n",
       "      <td>351.62</td>\n",
       "      <td>168.49</td>\n",
       "      <td>0.00</td>\n",
       "      <td>239.00</td>\n",
       "      <td>318.0</td>\n",
       "      <td>425.00</td>\n",
       "      <td>1500.0</td>\n",
       "      <td>186.00</td>\n",
       "      <td>1500.00</td>\n",
       "    </tr>\n",
       "    <tr>\n",
       "      <th>ic2</th>\n",
       "      <td>3993.0</td>\n",
       "      <td>400.71</td>\n",
       "      <td>180.57</td>\n",
       "      <td>0.00</td>\n",
       "      <td>284.00</td>\n",
       "      <td>366.0</td>\n",
       "      <td>478.00</td>\n",
       "      <td>1500.0</td>\n",
       "      <td>194.00</td>\n",
       "      <td>1500.00</td>\n",
       "    </tr>\n",
       "    <tr>\n",
       "      <th>ic3</th>\n",
       "      <td>3993.0</td>\n",
       "      <td>399.88</td>\n",
       "      <td>164.82</td>\n",
       "      <td>0.00</td>\n",
       "      <td>287.00</td>\n",
       "      <td>365.0</td>\n",
       "      <td>480.00</td>\n",
       "      <td>1311.0</td>\n",
       "      <td>193.00</td>\n",
       "      <td>1311.00</td>\n",
       "    </tr>\n",
       "    <tr>\n",
       "      <th>ic4</th>\n",
       "      <td>3993.0</td>\n",
       "      <td>444.73</td>\n",
       "      <td>175.00</td>\n",
       "      <td>0.00</td>\n",
       "      <td>325.00</td>\n",
       "      <td>410.0</td>\n",
       "      <td>528.00</td>\n",
       "      <td>1331.0</td>\n",
       "      <td>203.00</td>\n",
       "      <td>1331.00</td>\n",
       "    </tr>\n",
       "    <tr>\n",
       "      <th>ic5</th>\n",
       "      <td>3993.0</td>\n",
       "      <td>16456.41</td>\n",
       "      <td>9455.32</td>\n",
       "      <td>0.00</td>\n",
       "      <td>11136.00</td>\n",
       "      <td>14356.0</td>\n",
       "      <td>18780.00</td>\n",
       "      <td>174523.0</td>\n",
       "      <td>7644.00</td>\n",
       "      <td>174523.00</td>\n",
       "    </tr>\n",
       "    <tr>\n",
       "      <th>avggift</th>\n",
       "      <td>3993.0</td>\n",
       "      <td>11.79</td>\n",
       "      <td>10.17</td>\n",
       "      <td>2.26</td>\n",
       "      <td>7.19</td>\n",
       "      <td>10.0</td>\n",
       "      <td>14.43</td>\n",
       "      <td>450.0</td>\n",
       "      <td>7.24</td>\n",
       "      <td>447.74</td>\n",
       "    </tr>\n",
       "    <tr>\n",
       "      <th>target_d</th>\n",
       "      <td>3993.0</td>\n",
       "      <td>15.67</td>\n",
       "      <td>12.70</td>\n",
       "      <td>1.00</td>\n",
       "      <td>10.00</td>\n",
       "      <td>14.0</td>\n",
       "      <td>20.00</td>\n",
       "      <td>200.0</td>\n",
       "      <td>10.00</td>\n",
       "      <td>199.00</td>\n",
       "    </tr>\n",
       "  </tbody>\n",
       "</table>\n",
       "</div>"
      ],
      "text/plain": [
       "                          count      mean       std    min       25%  \\\n",
       "id                       3993.0  98929.31  58179.84  12.00  46153.00   \n",
       "median_home_val          3993.0   1158.44   1033.49   0.00    548.00   \n",
       "median_household_income  3993.0    351.62    168.49   0.00    239.00   \n",
       "ic2                      3993.0    400.71    180.57   0.00    284.00   \n",
       "ic3                      3993.0    399.88    164.82   0.00    287.00   \n",
       "ic4                      3993.0    444.73    175.00   0.00    325.00   \n",
       "ic5                      3993.0  16456.41   9455.32   0.00  11136.00   \n",
       "avggift                  3993.0     11.79     10.17   2.26      7.19   \n",
       "target_d                 3993.0     15.67     12.70   1.00     10.00   \n",
       "\n",
       "                              50%        75%       max        iqr      range  \n",
       "id                       101432.0  151653.00  191779.0  105500.00  191767.00  \n",
       "median_home_val             803.0    1349.00    5982.0     801.00    5982.00  \n",
       "median_household_income     318.0     425.00    1500.0     186.00    1500.00  \n",
       "ic2                         366.0     478.00    1500.0     194.00    1500.00  \n",
       "ic3                         365.0     480.00    1311.0     193.00    1311.00  \n",
       "ic4                         410.0     528.00    1331.0     203.00    1331.00  \n",
       "ic5                       14356.0   18780.00  174523.0    7644.00  174523.00  \n",
       "avggift                      10.0      14.43     450.0       7.24     447.74  \n",
       "target_d                     14.0      20.00     200.0      10.00     199.00  "
      ]
     },
     "execution_count": 39,
     "metadata": {},
     "output_type": "execute_result"
    }
   ],
   "source": [
    "summary = data.describe().T\n",
    "summary['iqr'] = summary['75%']-summary['25%']\n",
    "\n",
    "summary['range'] = summary['max']-summary['min']\n",
    "\n",
    "def roundforme(x):\n",
    "    return round(x,2)\n",
    "\n",
    "summary['mean'] = list(map(roundforme, summary['mean']))\n",
    "#summary['mean'] = summary['mean'].apply(lambda x : round(x, 2))\n",
    "summary['mean'] = summary['mean'].apply(roundforme)\n",
    "\n",
    "summary\n",
    "for col in summary.columns:\n",
    "    summary[col] = summary[col].apply(lambda x : round(x, 2))\n",
    "    \n",
    "summary"
   ]
  },
  {
   "cell_type": "markdown",
   "metadata": {
    "id": "i9RsAJ5vQ7Ig"
   },
   "source": [
    "# Lesson 2  "
   ]
  },
  {
   "cell_type": "code",
   "execution_count": 40,
   "metadata": {
    "colab": {
     "base_uri": "https://localhost:8080/",
     "height": 265
    },
    "id": "YWiApdA7eQxf",
    "outputId": "0b3bcd75-7c08-4bda-9fd9-d65dd185d04b"
   },
   "outputs": [
    {
     "data": {
      "image/png": "[encoded data removed]",
      "text/plain": [
       "<Figure size 640x480 with 1 Axes>"
      ]
     },
     "metadata": {},
     "output_type": "display_data"
    }
   ],
   "source": [
    "import matplotlib.pyplot as plt\n",
    "plt.scatter(x=data['ic2'], y=data['ic3'])\n",
    "plt.show()\n",
    "\n",
    "#there is a clear relation between the two variables (is this expected?) let's quantify that"
   ]
  },
  {
   "cell_type": "code",
   "execution_count": 42,
   "metadata": {
    "id": "OZLmp2YRemDV"
   },
   "outputs": [],
   "source": [
    "import scipy.stats as stats"
   ]
  },
  {
   "cell_type": "code",
   "execution_count": 47,
   "metadata": {
    "colab": {
     "base_uri": "https://localhost:8080/"
    },
    "id": "xGefz9fWeQ0G",
    "outputId": "d49af33f-5b40-4e7e-e9d3-09ade75dee03"
   },
   "outputs": [
    {
     "name": "stdout",
     "output_type": "stream",
     "text": [
      "0.95 0.0\n"
     ]
    }
   ],
   "source": [
    "x=data['ic2']\n",
    "y=data['ic3']\n",
    "print(round(stats.pearsonr(x, y)[0],2),stats.pearsonr(x,y)[1]) # gives correlation coefficient and the p value "
   ]
  },
  {
   "cell_type": "code",
   "execution_count": 44,
   "metadata": {},
   "outputs": [
    {
     "data": {
      "text/plain": [
       "PearsonRResult(statistic=0.9535853403294168, pvalue=0.0)"
      ]
     },
     "execution_count": 44,
     "metadata": {},
     "output_type": "execute_result"
    }
   ],
   "source": [
    "stats.pearsonr(x, y)"
   ]
  },
  {
   "cell_type": "code",
   "execution_count": 48,
   "metadata": {
    "colab": {
     "base_uri": "https://localhost:8080/"
    },
    "id": "yoKHkQHgeQ3O",
    "outputId": "2a7a76d0-d2ca-47bf-df6e-c4e94a891d33"
   },
   "outputs": [
    {
     "data": {
      "text/plain": [
       "0.9535853403294169"
      ]
     },
     "execution_count": 48,
     "metadata": {},
     "output_type": "execute_result"
    }
   ],
   "source": [
    "x.corr(y) # this is the pandas implementation of the correlation coefficient \n",
    "round(data['ic2'].corr(data['ic3']),2)\n",
    "data['ic2'].corr(data['ic3'])"
   ]
  },
  {
   "cell_type": "code",
   "execution_count": 49,
   "metadata": {
    "colab": {
     "base_uri": "https://localhost:8080/"
    },
    "id": "RXmxnb2TeQ5s",
    "outputId": "df5c2f1d-2c98-46ef-fd0b-2f3bae43399a"
   },
   "outputs": [
    {
     "data": {
      "text/plain": [
       "SignificanceResult(statistic=0.9510617375454639, pvalue=0.0)"
      ]
     },
     "execution_count": 49,
     "metadata": {},
     "output_type": "execute_result"
    }
   ],
   "source": [
    "stats.spearmanr(x, y)"
   ]
  },
  {
   "cell_type": "code",
   "execution_count": 50,
   "metadata": {
    "colab": {
     "base_uri": "https://localhost:8080/"
    },
    "id": "LwAaNcbveQ8b",
    "outputId": "68bc3c13-d7dd-43c6-df58-e8140b246a9b"
   },
   "outputs": [
    {
     "data": {
      "text/plain": [
       "SignificanceResult(statistic=0.8254641303546064, pvalue=0.0)"
      ]
     },
     "execution_count": 50,
     "metadata": {},
     "output_type": "execute_result"
    }
   ],
   "source": [
    "stats.kendalltau(x, y)"
   ]
  },
  {
   "cell_type": "code",
   "execution_count": null,
   "metadata": {
    "id": "uqz3oezAeQ_J"
   },
   "outputs": [],
   "source": []
  }
 ],
 "metadata": {
  "colab": {
   "name": "Lesson_1_05_morning.ipynb",
   "provenance": [],
   "toc_visible": true
  },
  "kernelspec": {
   "display_name": "Python 3 (ipykernel)",
   "language": "python",
   "name": "python3"
  },
  "language_info": {
   "codemirror_mode": {
    "name": "ipython",
    "version": 3
   },
   "file_extension": ".py",
   "mimetype": "text/x-python",
   "name": "python",
   "nbconvert_exporter": "python",
   "pygments_lexer": "ipython3",
   "version": "3.10.9"
  }
 },
 "nbformat": 4,
 "nbformat_minor": 1
}
