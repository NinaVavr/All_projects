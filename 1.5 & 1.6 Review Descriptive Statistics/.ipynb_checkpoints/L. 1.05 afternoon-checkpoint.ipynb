{
 "cells": [
  {
   "cell_type": "markdown",
   "metadata": {
    "id": "HqjBILyzh-Kl"
   },
   "source": [
    "# Lesson 3"
   ]
  },
  {
   "cell_type": "code",
   "execution_count": 1,
   "metadata": {
    "id": "BXAK7WYrwBQY"
   },
   "outputs": [],
   "source": [
    "import pandas as pd\n",
    "import numpy as np"
   ]
  },
  {
   "cell_type": "code",
   "execution_count": 2,
   "metadata": {
    "colab": {
     "base_uri": "https://localhost:8080/",
     "height": 198
    },
    "executionInfo": {
     "elapsed": 585,
     "status": "ok",
     "timestamp": 1616581269231,
     "user": {
      "displayName": "David Henriques",
      "photoUrl": "",
      "userId": "14332050621134291491"
     },
     "user_tz": 0
    },
    "id": "BzPatdo_rP6e",
    "outputId": "6d1b82b0-da5b-4900-caf3-51b307914d8b"
   },
   "outputs": [
    {
     "data": {
      "text/html": [
       "<div>\n",
       "<style scoped>\n",
       "    .dataframe tbody tr th:only-of-type {\n",
       "        vertical-align: middle;\n",
       "    }\n",
       "\n",
       "    .dataframe tbody tr th {\n",
       "        vertical-align: top;\n",
       "    }\n",
       "\n",
       "    .dataframe thead th {\n",
       "        text-align: right;\n",
       "    }\n",
       "</style>\n",
       "<table border=\"1\" class=\"dataframe\">\n",
       "  <thead>\n",
       "    <tr style=\"text-align: right;\">\n",
       "      <th></th>\n",
       "      <th>gender</th>\n",
       "      <th>median_home_val</th>\n",
       "      <th>ic2</th>\n",
       "      <th>ic3</th>\n",
       "      <th>avggift</th>\n",
       "      <th>target_d</th>\n",
       "    </tr>\n",
       "  </thead>\n",
       "  <tbody>\n",
       "    <tr>\n",
       "      <th>0</th>\n",
       "      <td>M</td>\n",
       "      <td>1158.437751</td>\n",
       "      <td>430</td>\n",
       "      <td>466</td>\n",
       "      <td>28.000000</td>\n",
       "      <td>100.0</td>\n",
       "    </tr>\n",
       "    <tr>\n",
       "      <th>1</th>\n",
       "      <td>M</td>\n",
       "      <td>537.000000</td>\n",
       "      <td>415</td>\n",
       "      <td>410</td>\n",
       "      <td>5.666667</td>\n",
       "      <td>7.0</td>\n",
       "    </tr>\n",
       "    <tr>\n",
       "      <th>2</th>\n",
       "      <td>F</td>\n",
       "      <td>725.000000</td>\n",
       "      <td>340</td>\n",
       "      <td>361</td>\n",
       "      <td>4.111111</td>\n",
       "      <td>5.0</td>\n",
       "    </tr>\n",
       "    <tr>\n",
       "      <th>3</th>\n",
       "      <td>M</td>\n",
       "      <td>1158.437751</td>\n",
       "      <td>407</td>\n",
       "      <td>399</td>\n",
       "      <td>27.277778</td>\n",
       "      <td>38.0</td>\n",
       "    </tr>\n",
       "    <tr>\n",
       "      <th>4</th>\n",
       "      <td>F</td>\n",
       "      <td>995.000000</td>\n",
       "      <td>280</td>\n",
       "      <td>316</td>\n",
       "      <td>6.000000</td>\n",
       "      <td>5.0</td>\n",
       "    </tr>\n",
       "  </tbody>\n",
       "</table>\n",
       "</div>"
      ],
      "text/plain": [
       "  gender  median_home_val  ic2  ic3    avggift  target_d\n",
       "0      M      1158.437751  430  466  28.000000     100.0\n",
       "1      M       537.000000  415  410   5.666667       7.0\n",
       "2      F       725.000000  340  361   4.111111       5.0\n",
       "3      M      1158.437751  407  399  27.277778      38.0\n",
       "4      F       995.000000  280  316   6.000000       5.0"
      ]
     },
     "execution_count": 2,
     "metadata": {},
     "output_type": "execute_result"
    }
   ],
   "source": [
    "data = pd.read_csv('merged_clean_reduced.csv')\n",
    "data.head()"
   ]
  },
  {
   "cell_type": "code",
   "execution_count": 3,
   "metadata": {},
   "outputs": [
    {
     "data": {
      "text/plain": [
       "(3546, 6)"
      ]
     },
     "execution_count": 3,
     "metadata": {},
     "output_type": "execute_result"
    }
   ],
   "source": [
    "data.shape"
   ]
  },
  {
   "cell_type": "code",
   "execution_count": null,
   "metadata": {
    "id": "DwFxeXyMQ7Ig"
   },
   "outputs": [],
   "source": [
    "# Exploratory data analysis using matplotlib"
   ]
  },
  {
   "cell_type": "code",
   "execution_count": 4,
   "metadata": {
    "id": "n32j4tUdW_FO"
   },
   "outputs": [],
   "source": [
    "#!pip3 install seaborn if you need to\n",
    "import matplotlib.pyplot as plt\n",
    "import seaborn as sns \n",
    "%matplotlib inline"
   ]
  },
  {
   "cell_type": "code",
   "execution_count": 5,
   "metadata": {},
   "outputs": [
    {
     "data": {
      "text/plain": [
       "F    2080\n",
       "M    1466\n",
       "Name: gender, dtype: int64"
      ]
     },
     "execution_count": 5,
     "metadata": {},
     "output_type": "execute_result"
    }
   ],
   "source": [
    "data['gender'].value_counts()"
   ]
  },
  {
   "cell_type": "code",
   "execution_count": 6,
   "metadata": {},
   "outputs": [
    {
     "data": {
      "image/png": "[encoded data removed]",
      "text/plain": [
       "<Figure size 640x480 with 1 Axes>"
      ]
     },
     "metadata": {},
     "output_type": "display_data"
    }
   ],
   "source": [
    "# everything can be a bar chart, but that is a sad sad world\n",
    "sns.barplot(x=\"gender\", y=\"target_d\", data=data)\n",
    "plt.show()"
   ]
  },
  {
   "cell_type": "code",
   "execution_count": null,
   "metadata": {},
   "outputs": [],
   "source": [
    "data['donated_big'] = data['target_d']>10\n",
    "data.head()"
   ]
  },
  {
   "cell_type": "code",
   "execution_count": null,
   "metadata": {
    "colab": {
     "base_uri": "https://localhost:8080/",
     "height": 279
    },
    "executionInfo": {
     "elapsed": 830,
     "status": "ok",
     "timestamp": 1616581393487,
     "user": {
      "displayName": "David Henriques",
      "photoUrl": "",
      "userId": "14332050621134291491"
     },
     "user_tz": 0
    },
    "id": "OL3UTHgyr_de",
    "outputId": "0ecabb08-1526-4268-ab4f-e7c79987d102"
   },
   "outputs": [],
   "source": [
    "# everything can be a bar chart, but that is a sad sad world\n",
    "sns.barplot(x=\"donated_big\", y=\"median_home_val\", data=data)\n",
    "plt.show()"
   ]
  },
  {
   "cell_type": "code",
   "execution_count": null,
   "metadata": {
    "colab": {
     "base_uri": "https://localhost:8080/",
     "height": 279
    },
    "id": "j6T5dWxFq3cM",
    "outputId": "139dd795-0269-46d6-9cb9-6519f2cc7916"
   },
   "outputs": [],
   "source": [
    "# boxplots are very powerful for EDA but you should never put one in front of a client\n",
    "sns.boxplot(x = 'gender',y='target_d', data=data)\n",
    "plt.show()"
   ]
  },
  {
   "cell_type": "code",
   "execution_count": null,
   "metadata": {
    "colab": {
     "base_uri": "https://localhost:8080/",
     "height": 266
    },
    "id": "w8OLeBoYtSYY",
    "outputId": "797addd4-cead-4f91-ed97-773f88493499"
   },
   "outputs": [],
   "source": [
    "# for quick visualization somethime we do this without explicitly calling sns or plt \n",
    "data[['median_home_val']].boxplot()\n",
    "plt.show()"
   ]
  },
  {
   "cell_type": "code",
   "execution_count": null,
   "metadata": {
    "colab": {
     "base_uri": "https://localhost:8080/",
     "height": 369
    },
    "id": "J9h9lIB849vA",
    "outputId": "7b9a43f9-4e27-430b-cc58-270da877e81f"
   },
   "outputs": [],
   "source": [
    "# distributions can shed a bit more light than boxplots, but are not as succint\n",
    "sns.distplot(data['target_d'], bins=50)\n",
    "plt.show()"
   ]
  },
  {
   "cell_type": "code",
   "execution_count": null,
   "metadata": {
    "colab": {
     "base_uri": "https://localhost:8080/",
     "height": 265
    },
    "id": "w5W364XX5APw",
    "outputId": "b4f05792-542a-4593-d06e-7a15b4ec4f7e"
   },
   "outputs": [],
   "source": [
    "# for quick visualization\n",
    "data['median_home_val'].hist(bins=100)\n",
    "plt.show()"
   ]
  },
  {
   "cell_type": "code",
   "execution_count": null,
   "metadata": {
    "colab": {
     "base_uri": "https://localhost:8080/",
     "height": 279
    },
    "id": "lwDFCTCMQ7Ig",
    "outputId": "6e701b4a-9b8d-416c-b76a-4e3cb5f4db1a"
   },
   "outputs": [],
   "source": [
    "#scatterplots are great to compare two distinct variables and see if they are somehow related!\n",
    "sns.scatterplot(x=data['ic2'], y=data['ic'])\n",
    "plt.show()"
   ]
  },
  {
   "cell_type": "code",
   "execution_count": null,
   "metadata": {
    "colab": {
     "base_uri": "https://localhost:8080/",
     "height": 903
    },
    "id": "6hpeHUUOqHSG",
    "outputId": "9c1bc6cd-bf5b-4bf3-b65d-b64e8cf5cc59"
   },
   "outputs": [],
   "source": [
    "# the big bomb of Visual Data Anlysis\n",
    "data=data.drop(['donated_big'], axis=1)\n",
    "sns.pairplot(data)\n"
   ]
  },
  {
   "cell_type": "code",
   "execution_count": null,
   "metadata": {
    "colab": {
     "base_uri": "https://localhost:8080/",
     "height": 198
    },
    "id": "Xo23iu6XQ7Ij",
    "outputId": "3380fe8f-a306-48b7-c2a6-e5b0c3cda6be"
   },
   "outputs": [],
   "source": [
    "#finally, some notions on correlation: is our dataset generally independent or are we seeing the same thing over and over?\n",
    "# when not specified, always shows Pearson correlation\n",
    "correlations_matrix = data.corr()\n",
    "correlations_matrix"
   ]
  },
  {
   "cell_type": "code",
   "execution_count": null,
   "metadata": {
    "colab": {
     "base_uri": "https://localhost:8080/",
     "height": 270
    },
    "id": "c6xasQXKln-t",
    "outputId": "29ed9d5b-aa71-4701-d9d5-f492ae298c8a"
   },
   "outputs": [],
   "source": [
    "sns.heatmap(correlations_matrix, annot=True)\n",
    "plt.show()"
   ]
  },
  {
   "cell_type": "markdown",
   "metadata": {
    "id": "7AMUf_ltmJZW"
   },
   "source": [
    "# Lesson 4"
   ]
  },
  {
   "cell_type": "code",
   "execution_count": null,
   "metadata": {
    "id": "FR2WMZPEltqS"
   },
   "outputs": [],
   "source": [
    "#discussion on distributions + normal distribution"
   ]
  },
  {
   "cell_type": "code",
   "execution_count": null,
   "metadata": {
    "colab": {
     "base_uri": "https://localhost:8080/",
     "height": 369
    },
    "id": "GShafZ_omNot",
    "outputId": "cfea0fbe-79ae-4279-e70d-4548a6f77762"
   },
   "outputs": [],
   "source": [
    "sns.distplot(data['median_home_val'], bins=60)\n",
    "plt.show()"
   ]
  },
  {
   "cell_type": "code",
   "execution_count": null,
   "metadata": {
    "id": "2N75lwpxBAWx"
   },
   "outputs": [],
   "source": [
    "heights=[181, 180, 172, 160, 165, 170, 175, 173, 168, 192, 180, 172, 202]\n",
    "\n",
    "shoe_size = [46, 44, 42, 37, 39, 42, 40, 39, 40, 44, 42, 40, 46]\n"
   ]
  },
  {
   "cell_type": "code",
   "execution_count": null,
   "metadata": {
    "colab": {
     "base_uri": "https://localhost:8080/",
     "height": 369
    },
    "executionInfo": {
     "elapsed": 919,
     "status": "ok",
     "timestamp": 1616585734306,
     "user": {
      "displayName": "David Henriques",
      "photoUrl": "",
      "userId": "14332050621134291491"
     },
     "user_tz": 0
    },
    "id": "idzUwez_BDeO",
    "outputId": "52e71a50-3dd2-4c50-f89e-1fae5ac034b9"
   },
   "outputs": [],
   "source": [
    "sns.distplot(heights,bins=20)\n",
    "plt.show()"
   ]
  },
  {
   "cell_type": "code",
   "execution_count": null,
   "metadata": {
    "colab": {
     "base_uri": "https://localhost:8080/",
     "height": 369
    },
    "executionInfo": {
     "elapsed": 969,
     "status": "ok",
     "timestamp": 1616585751145,
     "user": {
      "displayName": "David Henriques",
      "photoUrl": "",
      "userId": "14332050621134291491"
     },
     "user_tz": 0
    },
    "id": "Sp11rDJdBNmX",
    "outputId": "9aa9dcbf-234a-4669-9d49-cda154f24fa2"
   },
   "outputs": [],
   "source": [
    "sns.distplot(shoe_size,bins=20)\n",
    "plt.show()"
   ]
  },
  {
   "cell_type": "code",
   "execution_count": null,
   "metadata": {
    "id": "bkgsyxsjmZcz"
   },
   "outputs": [],
   "source": [
    "import random\n",
    "throw_10000_dice = [random.randint(1,6) for i in range(10000)]\n",
    "throw_10000_pairsofdice = [random.randint(1,6)+random.randint(1,6) for i in range(10000)]\n",
    "throw_10000_triosofdice = [random.randint(1,6)+random.randint(1,6)+random.randint(1,6) for i in range(10000)]"
   ]
  },
  {
   "cell_type": "code",
   "execution_count": null,
   "metadata": {
    "colab": {
     "base_uri": "https://localhost:8080/",
     "height": 369
    },
    "executionInfo": {
     "elapsed": 1243,
     "status": "ok",
     "timestamp": 1616586235519,
     "user": {
      "displayName": "David Henriques",
      "photoUrl": "",
      "userId": "14332050621134291491"
     },
     "user_tz": 0
    },
    "id": "a5-M4_9ADCfE",
    "outputId": "1b46cf99-78cd-499d-e73e-0bbe0cbfb6c3"
   },
   "outputs": [],
   "source": [
    "sns.distplot(throw_10000_dice)\n",
    "plt.show()"
   ]
  },
  {
   "cell_type": "code",
   "execution_count": null,
   "metadata": {
    "colab": {
     "base_uri": "https://localhost:8080/",
     "height": 369
    },
    "id": "WO_vSAzlm56t",
    "outputId": "4545649e-8d6b-41a7-a0ba-248f4b634d4b"
   },
   "outputs": [],
   "source": [
    "sns.distplot(throw_10000_pairsofdice)\n",
    "plt.show()"
   ]
  },
  {
   "cell_type": "code",
   "execution_count": null,
   "metadata": {},
   "outputs": [],
   "source": [
    "sns.distplot(throw_10000_triosofdice)\n",
    "plt.show()"
   ]
  },
  {
   "cell_type": "code",
   "execution_count": null,
   "metadata": {},
   "outputs": [],
   "source": [
    "np.random.randn(5)"
   ]
  },
  {
   "cell_type": "code",
   "execution_count": null,
   "metadata": {
    "colab": {
     "base_uri": "https://localhost:8080/",
     "height": 369
    },
    "id": "2OVaO8iRm6eg",
    "outputId": "4bc97cc6-20cd-42be-8ba4-fed152992ac6"
   },
   "outputs": [],
   "source": [
    "mu, sigma = 100, 50\n",
    "x = mu + sigma * np.random.randn(500)\n",
    "\n",
    "# the histogram of the data\n",
    "sns.distplot(x,bins=50)\n",
    "plt.show()"
   ]
  },
  {
   "cell_type": "code",
   "execution_count": null,
   "metadata": {
    "colab": {
     "base_uri": "https://localhost:8080/",
     "height": 369
    },
    "id": "ttnMza2onRy0",
    "outputId": "23a501b8-e48e-4c82-ecc2-639ee37f4fb3"
   },
   "outputs": [],
   "source": [
    "mu, sigma = 100, 50\n",
    "x = mu + sigma * np.random.randn(5000)\n",
    "# the histogram of the data\n",
    "sns.distplot(x,bins=50)\n",
    "plt.show()"
   ]
  },
  {
   "cell_type": "code",
   "execution_count": null,
   "metadata": {
    "colab": {
     "base_uri": "https://localhost:8080/",
     "height": 369
    },
    "id": "0DfQj4YRnYhs",
    "outputId": "d230219e-3e42-42f6-bb90-923b8c79ea7a",
    "scrolled": true
   },
   "outputs": [],
   "source": [
    "mu, sigma = 100, 50\n",
    "x = mu + sigma * np.random.randn(50000)\n",
    "# the histogram of the data\n",
    "sns.distplot(x,bins=500)\n",
    "plt.show()"
   ]
  },
  {
   "cell_type": "code",
   "execution_count": null,
   "metadata": {
    "id": "fUg9bIFbniEQ"
   },
   "outputs": [],
   "source": [
    "# why is this distribution so important?\n",
    "# occurs naturally\n",
    "# single peak, symmetrical, tapers off"
   ]
  },
  {
   "cell_type": "code",
   "execution_count": null,
   "metadata": {
    "colab": {
     "base_uri": "https://localhost:8080/",
     "height": 369
    },
    "executionInfo": {
     "elapsed": 945,
     "status": "ok",
     "timestamp": 1616585784324,
     "user": {
      "displayName": "David Henriques",
      "photoUrl": "",
      "userId": "14332050621134291491"
     },
     "user_tz": 0
    },
    "id": "HMZUSyjPBR_7",
    "outputId": "6da5dad6-5cba-49a8-c63c-29078ec2ecd9"
   },
   "outputs": [],
   "source": [
    "#discussion back on shoe sizes, are they normally distributed?\n",
    "shoe_size = [46, 44, 42, 37, 39, 42, 40, 39, 40, 44, 42, 40, 46]\n",
    "\n",
    "sns.distplot(shoe_size,bins=20)\n",
    "plt.show()"
   ]
  },
  {
   "cell_type": "code",
   "execution_count": null,
   "metadata": {
    "id": "4s7lgmZoBXgy"
   },
   "outputs": [],
   "source": []
  }
 ],
 "metadata": {
  "colab": {
   "collapsed_sections": [],
   "name": "lesson_1_05_afternoon.ipynb",
   "provenance": []
  },
  "kernelspec": {
   "display_name": "Python 3 (ipykernel)",
   "language": "python",
   "name": "python3"
  },
  "language_info": {
   "codemirror_mode": {
    "name": "ipython",
    "version": 3
   },
   "file_extension": ".py",
   "mimetype": "text/x-python",
   "name": "python",
   "nbconvert_exporter": "python",
   "pygments_lexer": "ipython3",
   "version": "3.10.9"
  }
 },
 "nbformat": 4,
 "nbformat_minor": 1
}
