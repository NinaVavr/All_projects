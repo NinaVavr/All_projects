{
 "cells": [
  {
   "cell_type": "code",
   "execution_count": 1,
   "metadata": {
    "id": "ON__8MOB8trA"
   },
   "outputs": [],
   "source": [
    "import pandas as pd\n",
    "import numpy as np\n",
    "import matplotlib.pyplot as plt\n",
    "import seaborn as sns\n",
    "%matplotlib inline\n"
   ]
  },
  {
   "cell_type": "code",
   "execution_count": 78,
   "metadata": {
    "id": "Vjheiwjs8trG"
   },
   "outputs": [],
   "source": [
    "data = pd.read_csv('regression_data1.csv')"
   ]
  },
  {
   "cell_type": "code",
   "execution_count": 3,
   "metadata": {
    "id": "c6jYbmjk8trH"
   },
   "outputs": [
    {
     "data": {
      "text/html": [
       "<div>\n",
       "<style scoped>\n",
       "    .dataframe tbody tr th:only-of-type {\n",
       "        vertical-align: middle;\n",
       "    }\n",
       "\n",
       "    .dataframe tbody tr th {\n",
       "        vertical-align: top;\n",
       "    }\n",
       "\n",
       "    .dataframe thead th {\n",
       "        text-align: right;\n",
       "    }\n",
       "</style>\n",
       "<table border=\"1\" class=\"dataframe\">\n",
       "  <thead>\n",
       "    <tr style=\"text-align: right;\">\n",
       "      <th></th>\n",
       "      <th>HV1</th>\n",
       "      <th>IC1</th>\n",
       "      <th>IC2</th>\n",
       "      <th>IC3</th>\n",
       "      <th>IC4</th>\n",
       "      <th>IC5</th>\n",
       "      <th>AVGGIFT</th>\n",
       "      <th>TARGET_D</th>\n",
       "    </tr>\n",
       "  </thead>\n",
       "  <tbody>\n",
       "    <tr>\n",
       "      <th>0</th>\n",
       "      <td>2346</td>\n",
       "      <td>420</td>\n",
       "      <td>446</td>\n",
       "      <td>468</td>\n",
       "      <td>503</td>\n",
       "      <td>14552</td>\n",
       "      <td>15.500000</td>\n",
       "      <td>21.0</td>\n",
       "    </tr>\n",
       "    <tr>\n",
       "      <th>1</th>\n",
       "      <td>497</td>\n",
       "      <td>350</td>\n",
       "      <td>364</td>\n",
       "      <td>357</td>\n",
       "      <td>384</td>\n",
       "      <td>11696</td>\n",
       "      <td>3.080000</td>\n",
       "      <td>3.0</td>\n",
       "    </tr>\n",
       "    <tr>\n",
       "      <th>2</th>\n",
       "      <td>1229</td>\n",
       "      <td>469</td>\n",
       "      <td>502</td>\n",
       "      <td>507</td>\n",
       "      <td>544</td>\n",
       "      <td>17313</td>\n",
       "      <td>7.500000</td>\n",
       "      <td>20.0</td>\n",
       "    </tr>\n",
       "    <tr>\n",
       "      <th>3</th>\n",
       "      <td>325</td>\n",
       "      <td>148</td>\n",
       "      <td>181</td>\n",
       "      <td>171</td>\n",
       "      <td>209</td>\n",
       "      <td>6334</td>\n",
       "      <td>6.700000</td>\n",
       "      <td>5.0</td>\n",
       "    </tr>\n",
       "    <tr>\n",
       "      <th>4</th>\n",
       "      <td>768</td>\n",
       "      <td>174</td>\n",
       "      <td>201</td>\n",
       "      <td>220</td>\n",
       "      <td>249</td>\n",
       "      <td>7802</td>\n",
       "      <td>8.785714</td>\n",
       "      <td>10.0</td>\n",
       "    </tr>\n",
       "  </tbody>\n",
       "</table>\n",
       "</div>"
      ],
      "text/plain": [
       "    HV1  IC1  IC2  IC3  IC4    IC5    AVGGIFT  TARGET_D\n",
       "0  2346  420  446  468  503  14552  15.500000      21.0\n",
       "1   497  350  364  357  384  11696   3.080000       3.0\n",
       "2  1229  469  502  507  544  17313   7.500000      20.0\n",
       "3   325  148  181  171  209   6334   6.700000       5.0\n",
       "4   768  174  201  220  249   7802   8.785714      10.0"
      ]
     },
     "execution_count": 3,
     "metadata": {},
     "output_type": "execute_result"
    }
   ],
   "source": [
    "data.head()"
   ]
  },
  {
   "cell_type": "code",
   "execution_count": 4,
   "metadata": {
    "id": "0kxuTKxjTO8y"
   },
   "outputs": [
    {
     "data": {
      "text/html": [
       "<div>\n",
       "<style scoped>\n",
       "    .dataframe tbody tr th:only-of-type {\n",
       "        vertical-align: middle;\n",
       "    }\n",
       "\n",
       "    .dataframe tbody tr th {\n",
       "        vertical-align: top;\n",
       "    }\n",
       "\n",
       "    .dataframe thead th {\n",
       "        text-align: right;\n",
       "    }\n",
       "</style>\n",
       "<table border=\"1\" class=\"dataframe\">\n",
       "  <thead>\n",
       "    <tr style=\"text-align: right;\">\n",
       "      <th></th>\n",
       "      <th>count</th>\n",
       "      <th>mean</th>\n",
       "      <th>std</th>\n",
       "      <th>min</th>\n",
       "      <th>25%</th>\n",
       "      <th>50%</th>\n",
       "      <th>75%</th>\n",
       "      <th>max</th>\n",
       "    </tr>\n",
       "  </thead>\n",
       "  <tbody>\n",
       "    <tr>\n",
       "      <th>HV1</th>\n",
       "      <td>4843.0</td>\n",
       "      <td>1163.701425</td>\n",
       "      <td>1032.104682</td>\n",
       "      <td>0.00000</td>\n",
       "      <td>548.000000</td>\n",
       "      <td>809.0</td>\n",
       "      <td>1367.5</td>\n",
       "      <td>5982.0</td>\n",
       "    </tr>\n",
       "    <tr>\n",
       "      <th>IC1</th>\n",
       "      <td>4843.0</td>\n",
       "      <td>352.831922</td>\n",
       "      <td>171.357547</td>\n",
       "      <td>0.00000</td>\n",
       "      <td>239.000000</td>\n",
       "      <td>318.0</td>\n",
       "      <td>427.0</td>\n",
       "      <td>1500.0</td>\n",
       "    </tr>\n",
       "    <tr>\n",
       "      <th>IC2</th>\n",
       "      <td>4843.0</td>\n",
       "      <td>401.913690</td>\n",
       "      <td>182.660078</td>\n",
       "      <td>0.00000</td>\n",
       "      <td>283.000000</td>\n",
       "      <td>366.0</td>\n",
       "      <td>481.0</td>\n",
       "      <td>1500.0</td>\n",
       "    </tr>\n",
       "    <tr>\n",
       "      <th>IC3</th>\n",
       "      <td>4843.0</td>\n",
       "      <td>400.962214</td>\n",
       "      <td>166.681913</td>\n",
       "      <td>0.00000</td>\n",
       "      <td>287.000000</td>\n",
       "      <td>366.0</td>\n",
       "      <td>482.5</td>\n",
       "      <td>1394.0</td>\n",
       "    </tr>\n",
       "    <tr>\n",
       "      <th>IC4</th>\n",
       "      <td>4843.0</td>\n",
       "      <td>446.035102</td>\n",
       "      <td>176.689128</td>\n",
       "      <td>0.00000</td>\n",
       "      <td>325.000000</td>\n",
       "      <td>411.0</td>\n",
       "      <td>531.5</td>\n",
       "      <td>1394.0</td>\n",
       "    </tr>\n",
       "    <tr>\n",
       "      <th>IC5</th>\n",
       "      <td>4843.0</td>\n",
       "      <td>16483.862482</td>\n",
       "      <td>9499.090544</td>\n",
       "      <td>0.00000</td>\n",
       "      <td>11164.000000</td>\n",
       "      <td>14377.0</td>\n",
       "      <td>18819.5</td>\n",
       "      <td>174523.0</td>\n",
       "    </tr>\n",
       "    <tr>\n",
       "      <th>AVGGIFT</th>\n",
       "      <td>4843.0</td>\n",
       "      <td>11.836754</td>\n",
       "      <td>10.147951</td>\n",
       "      <td>2.26087</td>\n",
       "      <td>7.181818</td>\n",
       "      <td>10.0</td>\n",
       "      <td>14.5</td>\n",
       "      <td>450.0</td>\n",
       "    </tr>\n",
       "    <tr>\n",
       "      <th>TARGET_D</th>\n",
       "      <td>4843.0</td>\n",
       "      <td>15.624344</td>\n",
       "      <td>12.445137</td>\n",
       "      <td>1.00000</td>\n",
       "      <td>10.000000</td>\n",
       "      <td>13.0</td>\n",
       "      <td>20.0</td>\n",
       "      <td>200.0</td>\n",
       "    </tr>\n",
       "  </tbody>\n",
       "</table>\n",
       "</div>"
      ],
      "text/plain": [
       "           count          mean          std      min           25%      50%  \\\n",
       "HV1       4843.0   1163.701425  1032.104682  0.00000    548.000000    809.0   \n",
       "IC1       4843.0    352.831922   171.357547  0.00000    239.000000    318.0   \n",
       "IC2       4843.0    401.913690   182.660078  0.00000    283.000000    366.0   \n",
       "IC3       4843.0    400.962214   166.681913  0.00000    287.000000    366.0   \n",
       "IC4       4843.0    446.035102   176.689128  0.00000    325.000000    411.0   \n",
       "IC5       4843.0  16483.862482  9499.090544  0.00000  11164.000000  14377.0   \n",
       "AVGGIFT   4843.0     11.836754    10.147951  2.26087      7.181818     10.0   \n",
       "TARGET_D  4843.0     15.624344    12.445137  1.00000     10.000000     13.0   \n",
       "\n",
       "              75%       max  \n",
       "HV1        1367.5    5982.0  \n",
       "IC1         427.0    1500.0  \n",
       "IC2         481.0    1500.0  \n",
       "IC3         482.5    1394.0  \n",
       "IC4         531.5    1394.0  \n",
       "IC5       18819.5  174523.0  \n",
       "AVGGIFT      14.5     450.0  \n",
       "TARGET_D     20.0     200.0  "
      ]
     },
     "execution_count": 4,
     "metadata": {},
     "output_type": "execute_result"
    }
   ],
   "source": [
    "data.describe().T"
   ]
  },
  {
   "cell_type": "code",
   "execution_count": 5,
   "metadata": {
    "id": "wZlFCIpe8trI"
   },
   "outputs": [
    {
     "data": {
      "image/png": "[encoded data removed]",
      "text/plain": [
       "<Figure size 640x480 with 1 Axes>"
      ]
     },
     "metadata": {},
     "output_type": "display_data"
    }
   ],
   "source": [
    "data['HV1'].hist()\n",
    "plt.show()\n"
   ]
  },
  {
   "cell_type": "code",
   "execution_count": 6,
   "metadata": {
    "id": "HfFrAX4f8trI"
   },
   "outputs": [
    {
     "data": {
      "image/png": "[encoded data removed]",
      "text/plain": [
       "<Figure size 500x500 with 1 Axes>"
      ]
     },
     "metadata": {},
     "output_type": "display_data"
    }
   ],
   "source": [
    "sns.displot(data['HV1'])\n",
    "plt.show()\n"
   ]
  },
  {
   "cell_type": "code",
   "execution_count": 7,
   "metadata": {
    "id": "wPZFRiX98trJ"
   },
   "outputs": [
    {
     "data": {
      "image/png": "[encoded data removed]",
      "text/plain": [
       "<Figure size 500x500 with 1 Axes>"
      ]
     },
     "metadata": {},
     "output_type": "display_data"
    }
   ],
   "source": [
    "sns.displot(data['IC1'])\n",
    "plt.show()\n"
   ]
  },
  {
   "cell_type": "code",
   "execution_count": 8,
   "metadata": {
    "id": "RnnPGN0Q8trJ"
   },
   "outputs": [
    {
     "data": {
      "image/png": "[encoded data removed]",
      "text/plain": [
       "<Figure size 640x480 with 1 Axes>"
      ]
     },
     "metadata": {},
     "output_type": "display_data"
    }
   ],
   "source": [
    "sns.boxplot(x=data['IC1'])\n",
    "plt.show()\n"
   ]
  },
  {
   "cell_type": "code",
   "execution_count": 9,
   "metadata": {
    "id": "9yKKesCq8trJ"
   },
   "outputs": [],
   "source": [
    "# removing the outliers from IC1 - we don't always do it, only for good reasons\n",
    "# but if we want to do it, this is how:\n",
    "iqr = np.percentile(data['IC1'],75) - np.percentile(data['IC1'],25)\n",
    "upper_limit = np.percentile(data['IC1'],75) + 1.5*iqr\n",
    "lower_limit = np.percentile(data['IC1'],25) - 1.5*iqr\n"
   ]
  },
  {
   "cell_type": "code",
   "execution_count": 10,
   "metadata": {
    "id": "JBoT03xW8trK"
   },
   "outputs": [
    {
     "data": {
      "text/plain": [
       "709.0"
      ]
     },
     "execution_count": 10,
     "metadata": {},
     "output_type": "execute_result"
    }
   ],
   "source": [
    "upper_limit"
   ]
  },
  {
   "cell_type": "code",
   "execution_count": 11,
   "metadata": {},
   "outputs": [
    {
     "data": {
      "text/plain": [
       "-43.0"
      ]
     },
     "execution_count": 11,
     "metadata": {},
     "output_type": "execute_result"
    }
   ],
   "source": [
    "lower_limit"
   ]
  },
  {
   "cell_type": "code",
   "execution_count": 12,
   "metadata": {
    "id": "bEwfi9B5TO82"
   },
   "outputs": [
    {
     "data": {
      "text/plain": [
       "(4843, 8)"
      ]
     },
     "execution_count": 12,
     "metadata": {},
     "output_type": "execute_result"
    }
   ],
   "source": [
    "data.shape"
   ]
  },
  {
   "cell_type": "code",
   "execution_count": 13,
   "metadata": {
    "id": "v6vp-C-N8trK"
   },
   "outputs": [
    {
     "data": {
      "image/png": "[encoded data removed]",
      "text/plain": [
       "<Figure size 500x500 with 1 Axes>"
      ]
     },
     "metadata": {},
     "output_type": "display_data"
    }
   ],
   "source": [
    "data1 = data[(data['IC1']>lower_limit) & (data['IC1']<upper_limit)].copy()\n",
    "sns.displot(data1['IC1'])\n",
    "plt.show()"
   ]
  },
  {
   "cell_type": "code",
   "execution_count": 14,
   "metadata": {
    "id": "t4J_nmfmTO83"
   },
   "outputs": [
    {
     "data": {
      "text/plain": [
       "(4670, 8)"
      ]
     },
     "execution_count": 14,
     "metadata": {},
     "output_type": "execute_result"
    }
   ],
   "source": [
    "data1.shape"
   ]
  },
  {
   "cell_type": "code",
   "execution_count": 29,
   "metadata": {
    "id": "9as7xs5_TO83",
    "scrolled": true
   },
   "outputs": [
    {
     "data": {
      "image/png": "[encoded data removed]",
      "text/plain": [
       "<Figure size 500x500 with 1 Axes>"
      ]
     },
     "metadata": {},
     "output_type": "display_data"
    }
   ],
   "source": [
    "data2 = data[(data['IC1']>np.percentile(data['IC1'],25) - 3*iqr) & (data['IC1']<np.percentile(data['IC1'],75) + 3*iqr)].copy()\n",
    "sns.displot(data2['IC1'])\n",
    "plt.show()"
   ]
  },
  {
   "cell_type": "code",
   "execution_count": 35,
   "metadata": {
    "id": "KIRHk6SSTO84"
   },
   "outputs": [],
   "source": [
    "data = data[(data['IC1']>lower_limit) & (data['IC1']<upper_limit)]"
   ]
  },
  {
   "cell_type": "code",
   "execution_count": null,
   "metadata": {
    "id": "qoECSKvd8trK"
   },
   "outputs": [],
   "source": [
    "#Activity 1\n",
    "# Draw a box plot for the IC2.\n",
    "# Print the descriptive statistics for IC2.\n",
    "# Remove the outliers from the column IC2."
   ]
  },
  {
   "cell_type": "code",
   "execution_count": 36,
   "metadata": {
    "id": "0aa_vh_D8trK"
   },
   "outputs": [
    {
     "data": {
      "image/png": "[encoded data removed]",
      "text/plain": [
       "<Figure size 500x500 with 1 Axes>"
      ]
     },
     "metadata": {},
     "output_type": "display_data"
    }
   ],
   "source": [
    "sns.displot(data['IC2'])\n",
    "plt.show()"
   ]
  },
  {
   "cell_type": "code",
   "execution_count": 37,
   "metadata": {},
   "outputs": [
    {
     "data": {
      "image/png": "[encoded data removed]",
      "text/plain": [
       "<Figure size 640x480 with 1 Axes>"
      ]
     },
     "metadata": {},
     "output_type": "display_data"
    }
   ],
   "source": [
    "sns.boxplot(x=data['IC2'])\n",
    "plt.show()"
   ]
  },
  {
   "cell_type": "code",
   "execution_count": 38,
   "metadata": {},
   "outputs": [],
   "source": [
    "iqr2 = np.percentile(data['IC2'],75) - np.percentile(data['IC2'],25)\n",
    "upper_limit2 = np.percentile(data['IC2'],75) + 1.5*iqr\n",
    "lower_limit2 = np.percentile(data['IC2'],25) - 1.5*iqr"
   ]
  },
  {
   "cell_type": "code",
   "execution_count": 52,
   "metadata": {},
   "outputs": [
    {
     "data": {
      "text/plain": [
       "count    4670.000000\n",
       "mean      380.943255\n",
       "std       141.325353\n",
       "min         0.000000\n",
       "25%       280.000000\n",
       "50%       361.000000\n",
       "75%       465.000000\n",
       "max      1177.000000\n",
       "Name: IC2, dtype: float64"
      ]
     },
     "execution_count": 52,
     "metadata": {},
     "output_type": "execute_result"
    }
   ],
   "source": [
    "data['IC2'].describe()"
   ]
  },
  {
   "cell_type": "code",
   "execution_count": 53,
   "metadata": {},
   "outputs": [
    {
     "data": {
      "text/plain": [
       "747.0"
      ]
     },
     "execution_count": 53,
     "metadata": {},
     "output_type": "execute_result"
    }
   ],
   "source": [
    "upper_limit2\n"
   ]
  },
  {
   "cell_type": "code",
   "execution_count": 54,
   "metadata": {},
   "outputs": [
    {
     "data": {
      "text/plain": [
       "-2.0"
      ]
     },
     "execution_count": 54,
     "metadata": {},
     "output_type": "execute_result"
    }
   ],
   "source": [
    "lower_limit2"
   ]
  },
  {
   "cell_type": "code",
   "execution_count": 50,
   "metadata": {},
   "outputs": [],
   "source": [
    "data2 = data[(data['IC2']>lower_limit) & (data['IC2']<upper_limit)]"
   ]
  },
  {
   "cell_type": "code",
   "execution_count": 51,
   "metadata": {},
   "outputs": [
    {
     "data": {
      "text/plain": [
       "(4578, 8)"
      ]
     },
     "execution_count": 51,
     "metadata": {},
     "output_type": "execute_result"
    }
   ],
   "source": [
    "data2.shape"
   ]
  },
  {
   "cell_type": "code",
   "execution_count": 55,
   "metadata": {},
   "outputs": [
    {
     "data": {
      "image/png": "[encoded data removed]",
      "text/plain": [
       "<Figure size 500x500 with 1 Axes>"
      ]
     },
     "metadata": {},
     "output_type": "display_data"
    }
   ],
   "source": [
    "data3 = data[(data['IC2']>lower_limit) & (data['IC2']<upper_limit)].copy()\n",
    "sns.displot(data3['IC1'])\n",
    "plt.show()"
   ]
  },
  {
   "cell_type": "code",
   "execution_count": null,
   "metadata": {
    "id": "-gxZoPKc8trL"
   },
   "outputs": [],
   "source": [
    "\n"
   ]
  },
  {
   "cell_type": "code",
   "execution_count": null,
   "metadata": {
    "id": "4iT7TnF98trL"
   },
   "outputs": [],
   "source": [
    "\n",
    "#End Acivity1\n"
   ]
  },
  {
   "cell_type": "code",
   "execution_count": 56,
   "metadata": {
    "id": "UjENYGVLTO85"
   },
   "outputs": [
    {
     "data": {
      "text/plain": [
       "-43.0"
      ]
     },
     "execution_count": 56,
     "metadata": {},
     "output_type": "execute_result"
    }
   ],
   "source": [
    "lower_limit"
   ]
  },
  {
   "cell_type": "code",
   "execution_count": 57,
   "metadata": {
    "id": "Gsgj-M_dTO86"
   },
   "outputs": [
    {
     "data": {
      "text/plain": [
       "(4670, 8)"
      ]
     },
     "execution_count": 57,
     "metadata": {},
     "output_type": "execute_result"
    }
   ],
   "source": [
    "data.shape"
   ]
  },
  {
   "cell_type": "code",
   "execution_count": 58,
   "metadata": {
    "id": "qbU9Sez28trL"
   },
   "outputs": [
    {
     "name": "stderr",
     "output_type": "stream",
     "text": [
      "C:\\Users\\ninav\\AppData\\Local\\Temp\\ipykernel_3984\\555370698.py:1: UserWarning: \n",
      "\n",
      "`distplot` is a deprecated function and will be removed in seaborn v0.14.0.\n",
      "\n",
      "Please adapt your code to use either `displot` (a figure-level function with\n",
      "similar flexibility) or `histplot` (an axes-level function for histograms).\n",
      "\n",
      "For a guide to updating your code to use the new functions, please see\n",
      "https://gist.github.com/mwaskom/de44147ed2974457ad6372750bbe5751\n",
      "\n",
      "  sns.distplot(data['HV1'])\n"
     ]
    },
    {
     "data": {
      "image/png": "[encoded data removed]",
      "text/plain": [
       "<Figure size 640x480 with 1 Axes>"
      ]
     },
     "metadata": {},
     "output_type": "display_data"
    }
   ],
   "source": [
    "sns.distplot(data['HV1'])\n",
    "plt.show()\n"
   ]
  },
  {
   "cell_type": "code",
   "execution_count": 59,
   "metadata": {
    "id": "PnjUje8zTO86"
   },
   "outputs": [],
   "source": [
    "# we want to have all the features in a reasonable (and similar) range.\n",
    "# sometimes we do that by scaling (normalizing), and sometimes by perofrmming a log transformation\n",
    "# or a box-cox transform"
   ]
  },
  {
   "cell_type": "code",
   "execution_count": 60,
   "metadata": {
    "id": "EiHNfXfb8trM"
   },
   "outputs": [
    {
     "data": {
      "image/png": "[encoded data removed]",
      "text/plain": [
       "<Figure size 500x500 with 1 Axes>"
      ]
     },
     "metadata": {},
     "output_type": "display_data"
    }
   ],
   "source": [
    "# Log10 tranformation: reduce range of 0 - 100000 to a range of 0-5\n",
    "\n",
    "# Code to test how the transformation will look like.\n",
    "# Here we are trying two different codes. Notice that in the first function\n",
    "# we are replacing the -inf values after we take logarithm by 0 while in\n",
    "# the second case we will replace them with np.NaN. The idea is that\n",
    "# we will then replace those NaN values in the column with the mean or\n",
    "# median of the column\n",
    "\n",
    "def log_transfom_clean1(x):\n",
    "    x = np.log10(x)\n",
    "    if np.isfinite(x):\n",
    "        return x\n",
    "    else:\n",
    "        return 0\n",
    "\n",
    "AVGGIFT_log = data['AVGGIFT'].apply(log_transfom_clean1)\n",
    "sns.displot(AVGGIFT_log)\n",
    "plt.show()\n"
   ]
  },
  {
   "cell_type": "code",
   "execution_count": 61,
   "metadata": {
    "id": "okbHg47tTO87"
   },
   "outputs": [
    {
     "data": {
      "image/png": "[encoded data removed]",
      "text/plain": [
       "<Figure size 500x500 with 1 Axes>"
      ]
     },
     "metadata": {},
     "output_type": "display_data"
    }
   ],
   "source": [
    "sns.displot(data['AVGGIFT'])\n",
    "plt.show()"
   ]
  },
  {
   "cell_type": "code",
   "execution_count": 62,
   "metadata": {
    "id": "M2stNgZy8trM"
   },
   "outputs": [
    {
     "data": {
      "image/png": "[encoded data removed]",
      "text/plain": [
       "<Figure size 500x500 with 1 Axes>"
      ]
     },
     "metadata": {},
     "output_type": "display_data"
    }
   ],
   "source": [
    "def log_transform_clean2(x):\n",
    "    x = np.log10(x)\n",
    "    if np.isfinite(x):\n",
    "        return x\n",
    "    else:\n",
    "        return np.NAN # We are returning NaNs so that we can replace them with means later\n",
    "data['AVGGIFT_log'] = list(map(log_transform_clean2, data['AVGGIFT']))\n",
    "# Now we replace the NAN by the mean\n",
    "data['AVGGIFT_log'] = data['AVGGIFT_log'].fillna(np.mean(data['AVGGIFT_log']))\n",
    "sns.displot(data['AVGGIFT_log'])\n",
    "plt.show()\n"
   ]
  },
  {
   "cell_type": "code",
   "execution_count": null,
   "metadata": {
    "id": "ONWi9mk2TO88"
   },
   "outputs": [],
   "source": [
    "data.head()"
   ]
  },
  {
   "cell_type": "code",
   "execution_count": 64,
   "metadata": {
    "id": "fgj4ewkoTO88"
   },
   "outputs": [
    {
     "data": {
      "text/plain": [
       "0.7252863217667848"
      ]
     },
     "execution_count": 64,
     "metadata": {},
     "output_type": "execute_result"
    }
   ],
   "source": [
    "data['AVGGIFT'].corr(data['AVGGIFT_log'])"
   ]
  },
  {
   "cell_type": "code",
   "execution_count": 65,
   "metadata": {
    "id": "ArQOppE18trM"
   },
   "outputs": [
    {
     "data": {
      "text/html": [
       "<div>\n",
       "<style scoped>\n",
       "    .dataframe tbody tr th:only-of-type {\n",
       "        vertical-align: middle;\n",
       "    }\n",
       "\n",
       "    .dataframe tbody tr th {\n",
       "        vertical-align: top;\n",
       "    }\n",
       "\n",
       "    .dataframe thead th {\n",
       "        text-align: right;\n",
       "    }\n",
       "</style>\n",
       "<table border=\"1\" class=\"dataframe\">\n",
       "  <thead>\n",
       "    <tr style=\"text-align: right;\">\n",
       "      <th></th>\n",
       "      <th>HV1</th>\n",
       "      <th>IC1</th>\n",
       "      <th>IC2</th>\n",
       "      <th>IC3</th>\n",
       "      <th>IC4</th>\n",
       "      <th>IC5</th>\n",
       "      <th>TARGET_D</th>\n",
       "      <th>AVGGIFT_log</th>\n",
       "    </tr>\n",
       "  </thead>\n",
       "  <tbody>\n",
       "    <tr>\n",
       "      <th>0</th>\n",
       "      <td>2346</td>\n",
       "      <td>420</td>\n",
       "      <td>446</td>\n",
       "      <td>468</td>\n",
       "      <td>503</td>\n",
       "      <td>14552</td>\n",
       "      <td>21.0</td>\n",
       "      <td>1.190332</td>\n",
       "    </tr>\n",
       "    <tr>\n",
       "      <th>1</th>\n",
       "      <td>497</td>\n",
       "      <td>350</td>\n",
       "      <td>364</td>\n",
       "      <td>357</td>\n",
       "      <td>384</td>\n",
       "      <td>11696</td>\n",
       "      <td>3.0</td>\n",
       "      <td>0.488551</td>\n",
       "    </tr>\n",
       "    <tr>\n",
       "      <th>2</th>\n",
       "      <td>1229</td>\n",
       "      <td>469</td>\n",
       "      <td>502</td>\n",
       "      <td>507</td>\n",
       "      <td>544</td>\n",
       "      <td>17313</td>\n",
       "      <td>20.0</td>\n",
       "      <td>0.875061</td>\n",
       "    </tr>\n",
       "    <tr>\n",
       "      <th>3</th>\n",
       "      <td>325</td>\n",
       "      <td>148</td>\n",
       "      <td>181</td>\n",
       "      <td>171</td>\n",
       "      <td>209</td>\n",
       "      <td>6334</td>\n",
       "      <td>5.0</td>\n",
       "      <td>0.826075</td>\n",
       "    </tr>\n",
       "    <tr>\n",
       "      <th>4</th>\n",
       "      <td>768</td>\n",
       "      <td>174</td>\n",
       "      <td>201</td>\n",
       "      <td>220</td>\n",
       "      <td>249</td>\n",
       "      <td>7802</td>\n",
       "      <td>10.0</td>\n",
       "      <td>0.943777</td>\n",
       "    </tr>\n",
       "  </tbody>\n",
       "</table>\n",
       "</div>"
      ],
      "text/plain": [
       "    HV1  IC1  IC2  IC3  IC4    IC5  TARGET_D  AVGGIFT_log\n",
       "0  2346  420  446  468  503  14552      21.0     1.190332\n",
       "1   497  350  364  357  384  11696       3.0     0.488551\n",
       "2  1229  469  502  507  544  17313      20.0     0.875061\n",
       "3   325  148  181  171  209   6334       5.0     0.826075\n",
       "4   768  174  201  220  249   7802      10.0     0.943777"
      ]
     },
     "execution_count": 65,
     "metadata": {},
     "output_type": "execute_result"
    }
   ],
   "source": [
    "data = data.drop(['AVGGIFT'], axis=1)\n",
    "data.head()"
   ]
  },
  {
   "cell_type": "code",
   "execution_count": null,
   "metadata": {
    "id": "fXTVEY7z8trM"
   },
   "outputs": [],
   "source": [
    "# Activity 2\n",
    "# Repeat the process(log transformation) for the column HV1. Define the function again yourself.\n",
    "# Remove the tails of the transformed column to make it closer to the normal distribution.\n",
    "# This time change the factor from 1.5 to 3 when calculating the upper limit and the lower limit. Check the distribution plot. Does it remove the tails effectively? If not change the factor back to 1.5 and see the results."
   ]
  },
  {
   "cell_type": "code",
   "execution_count": 66,
   "metadata": {
    "id": "pmdOWH0M8trN"
   },
   "outputs": [
    {
     "name": "stderr",
     "output_type": "stream",
     "text": [
      "C:\\Users\\ninav\\AppData\\Local\\Temp\\ipykernel_3984\\318420476.py:1: RuntimeWarning: divide by zero encountered in log10\n",
      "  np.log10(0)\n"
     ]
    },
    {
     "data": {
      "text/plain": [
       "-inf"
      ]
     },
     "execution_count": 66,
     "metadata": {},
     "output_type": "execute_result"
    }
   ],
   "source": [
    "np.log10(0)\n",
    "\n"
   ]
  },
  {
   "cell_type": "code",
   "execution_count": null,
   "metadata": {
    "id": "ePLxNq1H8trN"
   },
   "outputs": [],
   "source": [
    "# 2\n",
    "\n"
   ]
  },
  {
   "cell_type": "code",
   "execution_count": null,
   "metadata": {
    "id": "MYjUqs9ITO8-"
   },
   "outputs": [],
   "source": []
  },
  {
   "cell_type": "code",
   "execution_count": null,
   "metadata": {
    "id": "olxMz87i8trN"
   },
   "outputs": [],
   "source": [
    "#End Activity 2"
   ]
  },
  {
   "cell_type": "code",
   "execution_count": null,
   "metadata": {
    "id": "v_YBFqNK8trN"
   },
   "outputs": [],
   "source": [
    "# # BoxCox transformation - another one of many transforms, to get the data more like normal\n",
    "\n",
    "# # BoxCox does not like nagative values\n",
    "# #Since this is median household income, we can filter out negative values:\n",
    "# len(data[data['IC1']<=0])  # number of such observations.\n",
    "# # if you do not want to lose this data, replace it with the mean of the column\n",
    "# data['IC1_'] = np.where(data['IC1']<=0,0,data['IC1'])\n",
    "\n",
    "# # now calculate mean of the new column , excluding zeros in the count\n",
    "# mean = np.sum(data['IC1_'])/len(data[data['IC1_']>0])\n",
    "\n",
    "# data['IC1_'] = data['IC1_'].replace(0,mean)\n",
    "# # data = data.drop(['IC1'], axis=1)\n",
    "# sns.displot(data['IC1_'])\n",
    "# plt.show()\n"
   ]
  },
  {
   "cell_type": "code",
   "execution_count": null,
   "metadata": {
    "id": "HaJoWs0K8trO"
   },
   "outputs": [],
   "source": [
    "# from scipy import stats\n",
    "# xt, lmbda = stats.boxcox(data['IC1_'])\n",
    "# sns.displot(xt)\n",
    "# plt.show()\n"
   ]
  },
  {
   "cell_type": "code",
   "execution_count": null,
   "metadata": {
    "id": "IFqZz1nq8trO"
   },
   "outputs": [],
   "source": []
  },
  {
   "cell_type": "code",
   "execution_count": null,
   "metadata": {
    "id": "jeEhUBRk8trO"
   },
   "outputs": [],
   "source": [
    "#Activity 3\n",
    "# Repeat the same steps for column IC3 for box-cox transformation."
   ]
  },
  {
   "cell_type": "code",
   "execution_count": null,
   "metadata": {
    "id": "lMYEpa9o8trO"
   },
   "outputs": [],
   "source": [
    "# # Repeat the same steps for column 'IC3'\n",
    "# # for box cox transformation, we can also use sklearn's preprocessing module. It will be introduced later\n",
    "\n",
    "\n"
   ]
  },
  {
   "cell_type": "code",
   "execution_count": null,
   "metadata": {
    "id": "kC-jDnV78trP"
   },
   "outputs": [],
   "source": [
    "\n",
    "\n",
    "# End Activity 3\n"
   ]
  },
  {
   "cell_type": "markdown",
   "metadata": {
    "id": "bNqxJjB8TO9A"
   },
   "source": [
    "### NOTE: \n",
    "the transformations that we did before aim to make the distributions more like a normal distribution.\n",
    "While there are numeric modelling methods that require this, Linear Regression is not one of them.\n",
    "LR only requires the <i>error terms</i> to be normally ditributed.\n",
    "We still wanted to show these transformations as they might come in handy.\n"
   ]
  },
  {
   "cell_type": "code",
   "execution_count": 67,
   "metadata": {
    "id": "0sUiMkTo8trP"
   },
   "outputs": [
    {
     "data": {
      "text/html": [
       "<div>\n",
       "<style scoped>\n",
       "    .dataframe tbody tr th:only-of-type {\n",
       "        vertical-align: middle;\n",
       "    }\n",
       "\n",
       "    .dataframe tbody tr th {\n",
       "        vertical-align: top;\n",
       "    }\n",
       "\n",
       "    .dataframe thead th {\n",
       "        text-align: right;\n",
       "    }\n",
       "</style>\n",
       "<table border=\"1\" class=\"dataframe\">\n",
       "  <thead>\n",
       "    <tr style=\"text-align: right;\">\n",
       "      <th></th>\n",
       "      <th>HV1</th>\n",
       "      <th>IC1</th>\n",
       "      <th>IC2</th>\n",
       "      <th>IC3</th>\n",
       "      <th>IC4</th>\n",
       "      <th>IC5</th>\n",
       "      <th>AVGGIFT</th>\n",
       "      <th>TARGET_D</th>\n",
       "    </tr>\n",
       "  </thead>\n",
       "  <tbody>\n",
       "    <tr>\n",
       "      <th>0</th>\n",
       "      <td>2346</td>\n",
       "      <td>420</td>\n",
       "      <td>446</td>\n",
       "      <td>468</td>\n",
       "      <td>503</td>\n",
       "      <td>14552</td>\n",
       "      <td>15.500000</td>\n",
       "      <td>21.0</td>\n",
       "    </tr>\n",
       "    <tr>\n",
       "      <th>1</th>\n",
       "      <td>497</td>\n",
       "      <td>350</td>\n",
       "      <td>364</td>\n",
       "      <td>357</td>\n",
       "      <td>384</td>\n",
       "      <td>11696</td>\n",
       "      <td>3.080000</td>\n",
       "      <td>3.0</td>\n",
       "    </tr>\n",
       "    <tr>\n",
       "      <th>2</th>\n",
       "      <td>1229</td>\n",
       "      <td>469</td>\n",
       "      <td>502</td>\n",
       "      <td>507</td>\n",
       "      <td>544</td>\n",
       "      <td>17313</td>\n",
       "      <td>7.500000</td>\n",
       "      <td>20.0</td>\n",
       "    </tr>\n",
       "    <tr>\n",
       "      <th>3</th>\n",
       "      <td>325</td>\n",
       "      <td>148</td>\n",
       "      <td>181</td>\n",
       "      <td>171</td>\n",
       "      <td>209</td>\n",
       "      <td>6334</td>\n",
       "      <td>6.700000</td>\n",
       "      <td>5.0</td>\n",
       "    </tr>\n",
       "    <tr>\n",
       "      <th>4</th>\n",
       "      <td>768</td>\n",
       "      <td>174</td>\n",
       "      <td>201</td>\n",
       "      <td>220</td>\n",
       "      <td>249</td>\n",
       "      <td>7802</td>\n",
       "      <td>8.785714</td>\n",
       "      <td>10.0</td>\n",
       "    </tr>\n",
       "  </tbody>\n",
       "</table>\n",
       "</div>"
      ],
      "text/plain": [
       "    HV1  IC1  IC2  IC3  IC4    IC5    AVGGIFT  TARGET_D\n",
       "0  2346  420  446  468  503  14552  15.500000      21.0\n",
       "1   497  350  364  357  384  11696   3.080000       3.0\n",
       "2  1229  469  502  507  544  17313   7.500000      20.0\n",
       "3   325  148  181  171  209   6334   6.700000       5.0\n",
       "4   768  174  201  220  249   7802   8.785714      10.0"
      ]
     },
     "metadata": {},
     "output_type": "display_data"
    },
    {
     "data": {
      "text/plain": [
       "(4843, 8)"
      ]
     },
     "execution_count": 67,
     "metadata": {},
     "output_type": "execute_result"
    }
   ],
   "source": [
    "# Normalizing and scaling ()\n",
    "# going back to oiginal data\n",
    "data = pd.read_csv('regression_data1.csv') \n",
    "display(data.head())\n",
    "data.shape"
   ]
  },
  {
   "cell_type": "code",
   "execution_count": 68,
   "metadata": {
    "id": "SDdp6Aq4TO9B"
   },
   "outputs": [
    {
     "data": {
      "text/html": [
       "<div>\n",
       "<style scoped>\n",
       "    .dataframe tbody tr th:only-of-type {\n",
       "        vertical-align: middle;\n",
       "    }\n",
       "\n",
       "    .dataframe tbody tr th {\n",
       "        vertical-align: top;\n",
       "    }\n",
       "\n",
       "    .dataframe thead th {\n",
       "        text-align: right;\n",
       "    }\n",
       "</style>\n",
       "<table border=\"1\" class=\"dataframe\">\n",
       "  <thead>\n",
       "    <tr style=\"text-align: right;\">\n",
       "      <th></th>\n",
       "      <th>HV1</th>\n",
       "      <th>IC1</th>\n",
       "      <th>IC2</th>\n",
       "      <th>IC3</th>\n",
       "      <th>IC4</th>\n",
       "      <th>IC5</th>\n",
       "      <th>AVGGIFT</th>\n",
       "      <th>TARGET_D</th>\n",
       "    </tr>\n",
       "  </thead>\n",
       "  <tbody>\n",
       "    <tr>\n",
       "      <th>HV1</th>\n",
       "      <td>1.000000</td>\n",
       "      <td>0.703625</td>\n",
       "      <td>0.739520</td>\n",
       "      <td>0.731628</td>\n",
       "      <td>0.746706</td>\n",
       "      <td>0.737448</td>\n",
       "      <td>0.137374</td>\n",
       "      <td>0.126180</td>\n",
       "    </tr>\n",
       "    <tr>\n",
       "      <th>IC1</th>\n",
       "      <td>0.703625</td>\n",
       "      <td>1.000000</td>\n",
       "      <td>0.952263</td>\n",
       "      <td>0.974436</td>\n",
       "      <td>0.928996</td>\n",
       "      <td>0.811115</td>\n",
       "      <td>0.118425</td>\n",
       "      <td>0.118255</td>\n",
       "    </tr>\n",
       "    <tr>\n",
       "      <th>IC2</th>\n",
       "      <td>0.739520</td>\n",
       "      <td>0.952263</td>\n",
       "      <td>1.000000</td>\n",
       "      <td>0.954477</td>\n",
       "      <td>0.972286</td>\n",
       "      <td>0.875394</td>\n",
       "      <td>0.134469</td>\n",
       "      <td>0.134289</td>\n",
       "    </tr>\n",
       "    <tr>\n",
       "      <th>IC3</th>\n",
       "      <td>0.731628</td>\n",
       "      <td>0.974436</td>\n",
       "      <td>0.954477</td>\n",
       "      <td>1.000000</td>\n",
       "      <td>0.972117</td>\n",
       "      <td>0.829505</td>\n",
       "      <td>0.126843</td>\n",
       "      <td>0.127239</td>\n",
       "    </tr>\n",
       "    <tr>\n",
       "      <th>IC4</th>\n",
       "      <td>0.746706</td>\n",
       "      <td>0.928996</td>\n",
       "      <td>0.972286</td>\n",
       "      <td>0.972117</td>\n",
       "      <td>1.000000</td>\n",
       "      <td>0.868960</td>\n",
       "      <td>0.133909</td>\n",
       "      <td>0.136632</td>\n",
       "    </tr>\n",
       "    <tr>\n",
       "      <th>IC5</th>\n",
       "      <td>0.737448</td>\n",
       "      <td>0.811115</td>\n",
       "      <td>0.875394</td>\n",
       "      <td>0.829505</td>\n",
       "      <td>0.868960</td>\n",
       "      <td>1.000000</td>\n",
       "      <td>0.135712</td>\n",
       "      <td>0.135409</td>\n",
       "    </tr>\n",
       "    <tr>\n",
       "      <th>AVGGIFT</th>\n",
       "      <td>0.137374</td>\n",
       "      <td>0.118425</td>\n",
       "      <td>0.134469</td>\n",
       "      <td>0.126843</td>\n",
       "      <td>0.133909</td>\n",
       "      <td>0.135712</td>\n",
       "      <td>1.000000</td>\n",
       "      <td>0.516725</td>\n",
       "    </tr>\n",
       "    <tr>\n",
       "      <th>TARGET_D</th>\n",
       "      <td>0.126180</td>\n",
       "      <td>0.118255</td>\n",
       "      <td>0.134289</td>\n",
       "      <td>0.127239</td>\n",
       "      <td>0.136632</td>\n",
       "      <td>0.135409</td>\n",
       "      <td>0.516725</td>\n",
       "      <td>1.000000</td>\n",
       "    </tr>\n",
       "  </tbody>\n",
       "</table>\n",
       "</div>"
      ],
      "text/plain": [
       "               HV1       IC1       IC2       IC3       IC4       IC5  \\\n",
       "HV1       1.000000  0.703625  0.739520  0.731628  0.746706  0.737448   \n",
       "IC1       0.703625  1.000000  0.952263  0.974436  0.928996  0.811115   \n",
       "IC2       0.739520  0.952263  1.000000  0.954477  0.972286  0.875394   \n",
       "IC3       0.731628  0.974436  0.954477  1.000000  0.972117  0.829505   \n",
       "IC4       0.746706  0.928996  0.972286  0.972117  1.000000  0.868960   \n",
       "IC5       0.737448  0.811115  0.875394  0.829505  0.868960  1.000000   \n",
       "AVGGIFT   0.137374  0.118425  0.134469  0.126843  0.133909  0.135712   \n",
       "TARGET_D  0.126180  0.118255  0.134289  0.127239  0.136632  0.135409   \n",
       "\n",
       "           AVGGIFT  TARGET_D  \n",
       "HV1       0.137374  0.126180  \n",
       "IC1       0.118425  0.118255  \n",
       "IC2       0.134469  0.134289  \n",
       "IC3       0.126843  0.127239  \n",
       "IC4       0.133909  0.136632  \n",
       "IC5       0.135712  0.135409  \n",
       "AVGGIFT   1.000000  0.516725  \n",
       "TARGET_D  0.516725  1.000000  "
      ]
     },
     "execution_count": 68,
     "metadata": {},
     "output_type": "execute_result"
    }
   ],
   "source": [
    "data.corr()"
   ]
  },
  {
   "cell_type": "code",
   "execution_count": 69,
   "metadata": {
    "executionInfo": {
     "elapsed": 27,
     "status": "aborted",
     "timestamp": 1669220740389,
     "user": {
      "displayName": "Jan Molendijk",
      "userId": "00665875236133738524"
     },
     "user_tz": -60
    },
    "id": "czQqJtE7TO9B"
   },
   "outputs": [
    {
     "data": {
      "text/html": [
       "<div>\n",
       "<style scoped>\n",
       "    .dataframe tbody tr th:only-of-type {\n",
       "        vertical-align: middle;\n",
       "    }\n",
       "\n",
       "    .dataframe tbody tr th {\n",
       "        vertical-align: top;\n",
       "    }\n",
       "\n",
       "    .dataframe thead th {\n",
       "        text-align: right;\n",
       "    }\n",
       "</style>\n",
       "<table border=\"1\" class=\"dataframe\">\n",
       "  <thead>\n",
       "    <tr style=\"text-align: right;\">\n",
       "      <th></th>\n",
       "      <th>count</th>\n",
       "      <th>mean</th>\n",
       "      <th>std</th>\n",
       "      <th>min</th>\n",
       "      <th>25%</th>\n",
       "      <th>50%</th>\n",
       "      <th>75%</th>\n",
       "      <th>max</th>\n",
       "    </tr>\n",
       "  </thead>\n",
       "  <tbody>\n",
       "    <tr>\n",
       "      <th>HV1</th>\n",
       "      <td>4843.0</td>\n",
       "      <td>1163.701425</td>\n",
       "      <td>1032.104682</td>\n",
       "      <td>0.00000</td>\n",
       "      <td>548.000000</td>\n",
       "      <td>809.0</td>\n",
       "      <td>1367.5</td>\n",
       "      <td>5982.0</td>\n",
       "    </tr>\n",
       "    <tr>\n",
       "      <th>IC1</th>\n",
       "      <td>4843.0</td>\n",
       "      <td>352.831922</td>\n",
       "      <td>171.357547</td>\n",
       "      <td>0.00000</td>\n",
       "      <td>239.000000</td>\n",
       "      <td>318.0</td>\n",
       "      <td>427.0</td>\n",
       "      <td>1500.0</td>\n",
       "    </tr>\n",
       "    <tr>\n",
       "      <th>IC2</th>\n",
       "      <td>4843.0</td>\n",
       "      <td>401.913690</td>\n",
       "      <td>182.660078</td>\n",
       "      <td>0.00000</td>\n",
       "      <td>283.000000</td>\n",
       "      <td>366.0</td>\n",
       "      <td>481.0</td>\n",
       "      <td>1500.0</td>\n",
       "    </tr>\n",
       "    <tr>\n",
       "      <th>IC3</th>\n",
       "      <td>4843.0</td>\n",
       "      <td>400.962214</td>\n",
       "      <td>166.681913</td>\n",
       "      <td>0.00000</td>\n",
       "      <td>287.000000</td>\n",
       "      <td>366.0</td>\n",
       "      <td>482.5</td>\n",
       "      <td>1394.0</td>\n",
       "    </tr>\n",
       "    <tr>\n",
       "      <th>IC4</th>\n",
       "      <td>4843.0</td>\n",
       "      <td>446.035102</td>\n",
       "      <td>176.689128</td>\n",
       "      <td>0.00000</td>\n",
       "      <td>325.000000</td>\n",
       "      <td>411.0</td>\n",
       "      <td>531.5</td>\n",
       "      <td>1394.0</td>\n",
       "    </tr>\n",
       "    <tr>\n",
       "      <th>IC5</th>\n",
       "      <td>4843.0</td>\n",
       "      <td>16483.862482</td>\n",
       "      <td>9499.090544</td>\n",
       "      <td>0.00000</td>\n",
       "      <td>11164.000000</td>\n",
       "      <td>14377.0</td>\n",
       "      <td>18819.5</td>\n",
       "      <td>174523.0</td>\n",
       "    </tr>\n",
       "    <tr>\n",
       "      <th>AVGGIFT</th>\n",
       "      <td>4843.0</td>\n",
       "      <td>11.836754</td>\n",
       "      <td>10.147951</td>\n",
       "      <td>2.26087</td>\n",
       "      <td>7.181818</td>\n",
       "      <td>10.0</td>\n",
       "      <td>14.5</td>\n",
       "      <td>450.0</td>\n",
       "    </tr>\n",
       "    <tr>\n",
       "      <th>TARGET_D</th>\n",
       "      <td>4843.0</td>\n",
       "      <td>15.624344</td>\n",
       "      <td>12.445137</td>\n",
       "      <td>1.00000</td>\n",
       "      <td>10.000000</td>\n",
       "      <td>13.0</td>\n",
       "      <td>20.0</td>\n",
       "      <td>200.0</td>\n",
       "    </tr>\n",
       "  </tbody>\n",
       "</table>\n",
       "</div>"
      ],
      "text/plain": [
       "           count          mean          std      min           25%      50%  \\\n",
       "HV1       4843.0   1163.701425  1032.104682  0.00000    548.000000    809.0   \n",
       "IC1       4843.0    352.831922   171.357547  0.00000    239.000000    318.0   \n",
       "IC2       4843.0    401.913690   182.660078  0.00000    283.000000    366.0   \n",
       "IC3       4843.0    400.962214   166.681913  0.00000    287.000000    366.0   \n",
       "IC4       4843.0    446.035102   176.689128  0.00000    325.000000    411.0   \n",
       "IC5       4843.0  16483.862482  9499.090544  0.00000  11164.000000  14377.0   \n",
       "AVGGIFT   4843.0     11.836754    10.147951  2.26087      7.181818     10.0   \n",
       "TARGET_D  4843.0     15.624344    12.445137  1.00000     10.000000     13.0   \n",
       "\n",
       "              75%       max  \n",
       "HV1        1367.5    5982.0  \n",
       "IC1         427.0    1500.0  \n",
       "IC2         481.0    1500.0  \n",
       "IC3         482.5    1394.0  \n",
       "IC4         531.5    1394.0  \n",
       "IC5       18819.5  174523.0  \n",
       "AVGGIFT      14.5     450.0  \n",
       "TARGET_D     20.0     200.0  "
      ]
     },
     "execution_count": 69,
     "metadata": {},
     "output_type": "execute_result"
    }
   ],
   "source": [
    "data.describe().T"
   ]
  },
  {
   "cell_type": "code",
   "execution_count": 70,
   "metadata": {
    "executionInfo": {
     "elapsed": 29,
     "status": "aborted",
     "timestamp": 1669220740391,
     "user": {
      "displayName": "Jan Molendijk",
      "userId": "00665875236133738524"
     },
     "user_tz": -60
    },
    "id": "K0HsOo7NTO9C"
   },
   "outputs": [
    {
     "data": {
      "text/plain": [
       "{'whiskers': [<matplotlib.lines.Line2D at 0x29f65b772e0>,\n",
       "  <matplotlib.lines.Line2D at 0x29f65b77580>],\n",
       " 'caps': [<matplotlib.lines.Line2D at 0x29f65b77820>,\n",
       "  <matplotlib.lines.Line2D at 0x29f65b77ac0>],\n",
       " 'boxes': [<matplotlib.lines.Line2D at 0x29f65b77040>],\n",
       " 'medians': [<matplotlib.lines.Line2D at 0x29f65b77d60>],\n",
       " 'fliers': [<matplotlib.lines.Line2D at 0x29f65b4c040>],\n",
       " 'means': []}"
      ]
     },
     "execution_count": 70,
     "metadata": {},
     "output_type": "execute_result"
    },
    {
     "data": {
      "image/png": "[encoded data removed]",
      "text/plain": [
       "<Figure size 640x480 with 1 Axes>"
      ]
     },
     "metadata": {},
     "output_type": "display_data"
    }
   ],
   "source": [
    "plt.boxplot(data['IC5'])"
   ]
  },
  {
   "cell_type": "code",
   "execution_count": 71,
   "metadata": {
    "executionInfo": {
     "elapsed": 30,
     "status": "aborted",
     "timestamp": 1669220740392,
     "user": {
      "displayName": "Jan Molendijk",
      "userId": "00665875236133738524"
     },
     "user_tz": -60
    },
    "id": "GTLdksfK8trP"
   },
   "outputs": [
    {
     "data": {
      "image/png": "[encoded data removed]",
      "text/plain": [
       "<Figure size 640x480 with 1 Axes>"
      ]
     },
     "metadata": {},
     "output_type": "display_data"
    }
   ],
   "source": [
    "sns.scatterplot(x=data['AVGGIFT'], y=data['TARGET_D'])\n",
    "plt.show()"
   ]
  },
  {
   "cell_type": "code",
   "execution_count": 73,
   "metadata": {
    "executionInfo": {
     "elapsed": 30,
     "status": "aborted",
     "timestamp": 1669220740393,
     "user": {
      "displayName": "Jan Molendijk",
      "userId": "00665875236133738524"
     },
     "user_tz": -60
    },
    "id": "h1MPHPZI8trQ"
   },
   "outputs": [],
   "source": [
    "from sklearn.preprocessing import MinMaxScaler # do not use the function Normalise() - it does something entirely different\n",
    "from sklearn.preprocessing import StandardScaler\n",
    "\n",
    "y = data['TARGET_D']\n",
    "X = data.drop(['TARGET_D'], axis=1)\n",
    "X_num = X.select_dtypes(include = np.number)\n",
    "X_cat = X.select_dtypes(include = object)"
   ]
  },
  {
   "cell_type": "code",
   "execution_count": 74,
   "metadata": {
    "executionInfo": {
     "elapsed": 31,
     "status": "aborted",
     "timestamp": 1669220740394,
     "user": {
      "displayName": "Jan Molendijk",
      "userId": "00665875236133738524"
     },
     "user_tz": -60
    },
    "id": "zhBYmzjY8trQ"
   },
   "outputs": [
    {
     "data": {
      "text/html": [
       "<div>\n",
       "<style scoped>\n",
       "    .dataframe tbody tr th:only-of-type {\n",
       "        vertical-align: middle;\n",
       "    }\n",
       "\n",
       "    .dataframe tbody tr th {\n",
       "        vertical-align: top;\n",
       "    }\n",
       "\n",
       "    .dataframe thead th {\n",
       "        text-align: right;\n",
       "    }\n",
       "</style>\n",
       "<table border=\"1\" class=\"dataframe\">\n",
       "  <thead>\n",
       "    <tr style=\"text-align: right;\">\n",
       "      <th></th>\n",
       "      <th>HV1</th>\n",
       "      <th>IC1</th>\n",
       "      <th>IC2</th>\n",
       "      <th>IC3</th>\n",
       "      <th>IC4</th>\n",
       "      <th>IC5</th>\n",
       "      <th>AVGGIFT</th>\n",
       "    </tr>\n",
       "  </thead>\n",
       "  <tbody>\n",
       "    <tr>\n",
       "      <th>0</th>\n",
       "      <td>2346</td>\n",
       "      <td>420</td>\n",
       "      <td>446</td>\n",
       "      <td>468</td>\n",
       "      <td>503</td>\n",
       "      <td>14552</td>\n",
       "      <td>15.500000</td>\n",
       "    </tr>\n",
       "    <tr>\n",
       "      <th>1</th>\n",
       "      <td>497</td>\n",
       "      <td>350</td>\n",
       "      <td>364</td>\n",
       "      <td>357</td>\n",
       "      <td>384</td>\n",
       "      <td>11696</td>\n",
       "      <td>3.080000</td>\n",
       "    </tr>\n",
       "    <tr>\n",
       "      <th>2</th>\n",
       "      <td>1229</td>\n",
       "      <td>469</td>\n",
       "      <td>502</td>\n",
       "      <td>507</td>\n",
       "      <td>544</td>\n",
       "      <td>17313</td>\n",
       "      <td>7.500000</td>\n",
       "    </tr>\n",
       "    <tr>\n",
       "      <th>3</th>\n",
       "      <td>325</td>\n",
       "      <td>148</td>\n",
       "      <td>181</td>\n",
       "      <td>171</td>\n",
       "      <td>209</td>\n",
       "      <td>6334</td>\n",
       "      <td>6.700000</td>\n",
       "    </tr>\n",
       "    <tr>\n",
       "      <th>4</th>\n",
       "      <td>768</td>\n",
       "      <td>174</td>\n",
       "      <td>201</td>\n",
       "      <td>220</td>\n",
       "      <td>249</td>\n",
       "      <td>7802</td>\n",
       "      <td>8.785714</td>\n",
       "    </tr>\n",
       "    <tr>\n",
       "      <th>...</th>\n",
       "      <td>...</td>\n",
       "      <td>...</td>\n",
       "      <td>...</td>\n",
       "      <td>...</td>\n",
       "      <td>...</td>\n",
       "      <td>...</td>\n",
       "      <td>...</td>\n",
       "    </tr>\n",
       "    <tr>\n",
       "      <th>4838</th>\n",
       "      <td>701</td>\n",
       "      <td>297</td>\n",
       "      <td>335</td>\n",
       "      <td>405</td>\n",
       "      <td>468</td>\n",
       "      <td>15258</td>\n",
       "      <td>15.500000</td>\n",
       "    </tr>\n",
       "    <tr>\n",
       "      <th>4839</th>\n",
       "      <td>3357</td>\n",
       "      <td>284</td>\n",
       "      <td>455</td>\n",
       "      <td>343</td>\n",
       "      <td>447</td>\n",
       "      <td>24240</td>\n",
       "      <td>11.857143</td>\n",
       "    </tr>\n",
       "    <tr>\n",
       "      <th>4840</th>\n",
       "      <td>700</td>\n",
       "      <td>322</td>\n",
       "      <td>415</td>\n",
       "      <td>356</td>\n",
       "      <td>446</td>\n",
       "      <td>14360</td>\n",
       "      <td>11.333333</td>\n",
       "    </tr>\n",
       "    <tr>\n",
       "      <th>4841</th>\n",
       "      <td>601</td>\n",
       "      <td>206</td>\n",
       "      <td>225</td>\n",
       "      <td>251</td>\n",
       "      <td>289</td>\n",
       "      <td>9801</td>\n",
       "      <td>13.000000</td>\n",
       "    </tr>\n",
       "    <tr>\n",
       "      <th>4842</th>\n",
       "      <td>919</td>\n",
       "      <td>425</td>\n",
       "      <td>562</td>\n",
       "      <td>558</td>\n",
       "      <td>697</td>\n",
       "      <td>25784</td>\n",
       "      <td>17.923077</td>\n",
       "    </tr>\n",
       "  </tbody>\n",
       "</table>\n",
       "<p>4843 rows × 7 columns</p>\n",
       "</div>"
      ],
      "text/plain": [
       "       HV1  IC1  IC2  IC3  IC4    IC5    AVGGIFT\n",
       "0     2346  420  446  468  503  14552  15.500000\n",
       "1      497  350  364  357  384  11696   3.080000\n",
       "2     1229  469  502  507  544  17313   7.500000\n",
       "3      325  148  181  171  209   6334   6.700000\n",
       "4      768  174  201  220  249   7802   8.785714\n",
       "...    ...  ...  ...  ...  ...    ...        ...\n",
       "4838   701  297  335  405  468  15258  15.500000\n",
       "4839  3357  284  455  343  447  24240  11.857143\n",
       "4840   700  322  415  356  446  14360  11.333333\n",
       "4841   601  206  225  251  289   9801  13.000000\n",
       "4842   919  425  562  558  697  25784  17.923077\n",
       "\n",
       "[4843 rows x 7 columns]"
      ]
     },
     "execution_count": 74,
     "metadata": {},
     "output_type": "execute_result"
    }
   ],
   "source": [
    "X_num"
   ]
  },
  {
   "cell_type": "code",
   "execution_count": 75,
   "metadata": {
    "executionInfo": {
     "elapsed": 30,
     "status": "aborted",
     "timestamp": 1669220740394,
     "user": {
      "displayName": "Jan Molendijk",
      "userId": "00665875236133738524"
     },
     "user_tz": -60
    },
    "id": "3qaWniU28trQ"
   },
   "outputs": [
    {
     "name": "stdout",
     "output_type": "stream",
     "text": [
      "(4843, 7)\n"
     ]
    },
    {
     "data": {
      "text/html": [
       "<div>\n",
       "<style scoped>\n",
       "    .dataframe tbody tr th:only-of-type {\n",
       "        vertical-align: middle;\n",
       "    }\n",
       "\n",
       "    .dataframe tbody tr th {\n",
       "        vertical-align: top;\n",
       "    }\n",
       "\n",
       "    .dataframe thead th {\n",
       "        text-align: right;\n",
       "    }\n",
       "</style>\n",
       "<table border=\"1\" class=\"dataframe\">\n",
       "  <thead>\n",
       "    <tr style=\"text-align: right;\">\n",
       "      <th></th>\n",
       "      <th>HV1</th>\n",
       "      <th>IC1</th>\n",
       "      <th>IC2</th>\n",
       "      <th>IC3</th>\n",
       "      <th>IC4</th>\n",
       "      <th>IC5</th>\n",
       "      <th>AVGGIFT</th>\n",
       "    </tr>\n",
       "  </thead>\n",
       "  <tbody>\n",
       "    <tr>\n",
       "      <th>0</th>\n",
       "      <td>0.392177</td>\n",
       "      <td>0.280000</td>\n",
       "      <td>0.297333</td>\n",
       "      <td>0.335725</td>\n",
       "      <td>0.360832</td>\n",
       "      <td>0.083382</td>\n",
       "      <td>0.029569</td>\n",
       "    </tr>\n",
       "    <tr>\n",
       "      <th>1</th>\n",
       "      <td>0.083083</td>\n",
       "      <td>0.233333</td>\n",
       "      <td>0.242667</td>\n",
       "      <td>0.256098</td>\n",
       "      <td>0.275466</td>\n",
       "      <td>0.067017</td>\n",
       "      <td>0.001829</td>\n",
       "    </tr>\n",
       "    <tr>\n",
       "      <th>2</th>\n",
       "      <td>0.205450</td>\n",
       "      <td>0.312667</td>\n",
       "      <td>0.334667</td>\n",
       "      <td>0.363702</td>\n",
       "      <td>0.390244</td>\n",
       "      <td>0.099202</td>\n",
       "      <td>0.011701</td>\n",
       "    </tr>\n",
       "    <tr>\n",
       "      <th>3</th>\n",
       "      <td>0.054330</td>\n",
       "      <td>0.098667</td>\n",
       "      <td>0.120667</td>\n",
       "      <td>0.122669</td>\n",
       "      <td>0.149928</td>\n",
       "      <td>0.036293</td>\n",
       "      <td>0.009915</td>\n",
       "    </tr>\n",
       "    <tr>\n",
       "      <th>4</th>\n",
       "      <td>0.128385</td>\n",
       "      <td>0.116000</td>\n",
       "      <td>0.134000</td>\n",
       "      <td>0.157819</td>\n",
       "      <td>0.178623</td>\n",
       "      <td>0.044705</td>\n",
       "      <td>0.014573</td>\n",
       "    </tr>\n",
       "    <tr>\n",
       "      <th>...</th>\n",
       "      <td>...</td>\n",
       "      <td>...</td>\n",
       "      <td>...</td>\n",
       "      <td>...</td>\n",
       "      <td>...</td>\n",
       "      <td>...</td>\n",
       "      <td>...</td>\n",
       "    </tr>\n",
       "    <tr>\n",
       "      <th>4838</th>\n",
       "      <td>0.117185</td>\n",
       "      <td>0.198000</td>\n",
       "      <td>0.223333</td>\n",
       "      <td>0.290531</td>\n",
       "      <td>0.335725</td>\n",
       "      <td>0.087427</td>\n",
       "      <td>0.029569</td>\n",
       "    </tr>\n",
       "    <tr>\n",
       "      <th>4839</th>\n",
       "      <td>0.561184</td>\n",
       "      <td>0.189333</td>\n",
       "      <td>0.303333</td>\n",
       "      <td>0.246055</td>\n",
       "      <td>0.320660</td>\n",
       "      <td>0.138893</td>\n",
       "      <td>0.021433</td>\n",
       "    </tr>\n",
       "    <tr>\n",
       "      <th>4840</th>\n",
       "      <td>0.117018</td>\n",
       "      <td>0.214667</td>\n",
       "      <td>0.276667</td>\n",
       "      <td>0.255380</td>\n",
       "      <td>0.319943</td>\n",
       "      <td>0.082281</td>\n",
       "      <td>0.020263</td>\n",
       "    </tr>\n",
       "    <tr>\n",
       "      <th>4841</th>\n",
       "      <td>0.100468</td>\n",
       "      <td>0.137333</td>\n",
       "      <td>0.150000</td>\n",
       "      <td>0.180057</td>\n",
       "      <td>0.207317</td>\n",
       "      <td>0.056159</td>\n",
       "      <td>0.023985</td>\n",
       "    </tr>\n",
       "    <tr>\n",
       "      <th>4842</th>\n",
       "      <td>0.153628</td>\n",
       "      <td>0.283333</td>\n",
       "      <td>0.374667</td>\n",
       "      <td>0.400287</td>\n",
       "      <td>0.500000</td>\n",
       "      <td>0.147740</td>\n",
       "      <td>0.034981</td>\n",
       "    </tr>\n",
       "  </tbody>\n",
       "</table>\n",
       "<p>4843 rows × 7 columns</p>\n",
       "</div>"
      ],
      "text/plain": [
       "           HV1       IC1       IC2       IC3       IC4       IC5   AVGGIFT\n",
       "0     0.392177  0.280000  0.297333  0.335725  0.360832  0.083382  0.029569\n",
       "1     0.083083  0.233333  0.242667  0.256098  0.275466  0.067017  0.001829\n",
       "2     0.205450  0.312667  0.334667  0.363702  0.390244  0.099202  0.011701\n",
       "3     0.054330  0.098667  0.120667  0.122669  0.149928  0.036293  0.009915\n",
       "4     0.128385  0.116000  0.134000  0.157819  0.178623  0.044705  0.014573\n",
       "...        ...       ...       ...       ...       ...       ...       ...\n",
       "4838  0.117185  0.198000  0.223333  0.290531  0.335725  0.087427  0.029569\n",
       "4839  0.561184  0.189333  0.303333  0.246055  0.320660  0.138893  0.021433\n",
       "4840  0.117018  0.214667  0.276667  0.255380  0.319943  0.082281  0.020263\n",
       "4841  0.100468  0.137333  0.150000  0.180057  0.207317  0.056159  0.023985\n",
       "4842  0.153628  0.283333  0.374667  0.400287  0.500000  0.147740  0.034981\n",
       "\n",
       "[4843 rows x 7 columns]"
      ]
     },
     "execution_count": 75,
     "metadata": {},
     "output_type": "execute_result"
    }
   ],
   "source": [
    "# Normalizing data: make data range from 0 - 1, instead of from min to max\n",
    "transformer = MinMaxScaler().fit(X_num)\n",
    "x_normalized = transformer.transform(X_num)\n",
    "print(x_normalized.shape)\n",
    "x_normalized\n",
    "pd.DataFrame(x_normalized, columns=X_num.columns)"
   ]
  },
  {
   "cell_type": "code",
   "execution_count": 93,
   "metadata": {
    "executionInfo": {
     "elapsed": 31,
     "status": "aborted",
     "timestamp": 1669220740395,
     "user": {
      "displayName": "Jan Molendijk",
      "userId": "00665875236133738524"
     },
     "user_tz": -60
    },
    "id": "PgB2a3j6TO9D"
   },
   "outputs": [
    {
     "data": {
      "text/html": [
       "<div>\n",
       "<style scoped>\n",
       "    .dataframe tbody tr th:only-of-type {\n",
       "        vertical-align: middle;\n",
       "    }\n",
       "\n",
       "    .dataframe tbody tr th {\n",
       "        vertical-align: top;\n",
       "    }\n",
       "\n",
       "    .dataframe thead th {\n",
       "        text-align: right;\n",
       "    }\n",
       "</style>\n",
       "<table border=\"1\" class=\"dataframe\">\n",
       "  <thead>\n",
       "    <tr style=\"text-align: right;\">\n",
       "      <th></th>\n",
       "      <th>HV1</th>\n",
       "      <th>IC1</th>\n",
       "      <th>IC2</th>\n",
       "      <th>IC3</th>\n",
       "      <th>IC4</th>\n",
       "      <th>IC5</th>\n",
       "      <th>AVGGIFT</th>\n",
       "    </tr>\n",
       "  </thead>\n",
       "  <tbody>\n",
       "    <tr>\n",
       "      <th>HV1</th>\n",
       "      <td>1.000000</td>\n",
       "      <td>0.703625</td>\n",
       "      <td>0.739520</td>\n",
       "      <td>0.731628</td>\n",
       "      <td>0.746706</td>\n",
       "      <td>0.737448</td>\n",
       "      <td>0.137374</td>\n",
       "    </tr>\n",
       "    <tr>\n",
       "      <th>IC1</th>\n",
       "      <td>0.703625</td>\n",
       "      <td>1.000000</td>\n",
       "      <td>0.952263</td>\n",
       "      <td>0.974436</td>\n",
       "      <td>0.928996</td>\n",
       "      <td>0.811115</td>\n",
       "      <td>0.118425</td>\n",
       "    </tr>\n",
       "    <tr>\n",
       "      <th>IC2</th>\n",
       "      <td>0.739520</td>\n",
       "      <td>0.952263</td>\n",
       "      <td>1.000000</td>\n",
       "      <td>0.954477</td>\n",
       "      <td>0.972286</td>\n",
       "      <td>0.875394</td>\n",
       "      <td>0.134469</td>\n",
       "    </tr>\n",
       "    <tr>\n",
       "      <th>IC3</th>\n",
       "      <td>0.731628</td>\n",
       "      <td>0.974436</td>\n",
       "      <td>0.954477</td>\n",
       "      <td>1.000000</td>\n",
       "      <td>0.972117</td>\n",
       "      <td>0.829505</td>\n",
       "      <td>0.126843</td>\n",
       "    </tr>\n",
       "    <tr>\n",
       "      <th>IC4</th>\n",
       "      <td>0.746706</td>\n",
       "      <td>0.928996</td>\n",
       "      <td>0.972286</td>\n",
       "      <td>0.972117</td>\n",
       "      <td>1.000000</td>\n",
       "      <td>0.868960</td>\n",
       "      <td>0.133909</td>\n",
       "    </tr>\n",
       "    <tr>\n",
       "      <th>IC5</th>\n",
       "      <td>0.737448</td>\n",
       "      <td>0.811115</td>\n",
       "      <td>0.875394</td>\n",
       "      <td>0.829505</td>\n",
       "      <td>0.868960</td>\n",
       "      <td>1.000000</td>\n",
       "      <td>0.135712</td>\n",
       "    </tr>\n",
       "    <tr>\n",
       "      <th>AVGGIFT</th>\n",
       "      <td>0.137374</td>\n",
       "      <td>0.118425</td>\n",
       "      <td>0.134469</td>\n",
       "      <td>0.126843</td>\n",
       "      <td>0.133909</td>\n",
       "      <td>0.135712</td>\n",
       "      <td>1.000000</td>\n",
       "    </tr>\n",
       "  </tbody>\n",
       "</table>\n",
       "</div>"
      ],
      "text/plain": [
       "              HV1       IC1       IC2       IC3       IC4       IC5   AVGGIFT\n",
       "HV1      1.000000  0.703625  0.739520  0.731628  0.746706  0.737448  0.137374\n",
       "IC1      0.703625  1.000000  0.952263  0.974436  0.928996  0.811115  0.118425\n",
       "IC2      0.739520  0.952263  1.000000  0.954477  0.972286  0.875394  0.134469\n",
       "IC3      0.731628  0.974436  0.954477  1.000000  0.972117  0.829505  0.126843\n",
       "IC4      0.746706  0.928996  0.972286  0.972117  1.000000  0.868960  0.133909\n",
       "IC5      0.737448  0.811115  0.875394  0.829505  0.868960  1.000000  0.135712\n",
       "AVGGIFT  0.137374  0.118425  0.134469  0.126843  0.133909  0.135712  1.000000"
      ]
     },
     "execution_count": 93,
     "metadata": {},
     "output_type": "execute_result"
    }
   ],
   "source": [
    "pd.DataFrame(x_normalized, columns=X_num.columns).corr()"
   ]
  },
  {
   "cell_type": "code",
   "execution_count": 76,
   "metadata": {
    "executionInfo": {
     "elapsed": 31,
     "status": "aborted",
     "timestamp": 1669220740396,
     "user": {
      "displayName": "Jan Molendijk",
      "userId": "00665875236133738524"
     },
     "user_tz": -60
    },
    "id": "Hgm0dHMK8trQ",
    "scrolled": true
   },
   "outputs": [
    {
     "name": "stdout",
     "output_type": "stream",
     "text": [
      "(4843, 7)\n"
     ]
    },
    {
     "data": {
      "text/html": [
       "<div>\n",
       "<style scoped>\n",
       "    .dataframe tbody tr th:only-of-type {\n",
       "        vertical-align: middle;\n",
       "    }\n",
       "\n",
       "    .dataframe tbody tr th {\n",
       "        vertical-align: top;\n",
       "    }\n",
       "\n",
       "    .dataframe thead th {\n",
       "        text-align: right;\n",
       "    }\n",
       "</style>\n",
       "<table border=\"1\" class=\"dataframe\">\n",
       "  <thead>\n",
       "    <tr style=\"text-align: right;\">\n",
       "      <th></th>\n",
       "      <th>HV1</th>\n",
       "      <th>IC1</th>\n",
       "      <th>IC2</th>\n",
       "      <th>IC3</th>\n",
       "      <th>IC4</th>\n",
       "      <th>IC5</th>\n",
       "      <th>AVGGIFT</th>\n",
       "    </tr>\n",
       "  </thead>\n",
       "  <tbody>\n",
       "    <tr>\n",
       "      <th>0</th>\n",
       "      <td>1.145640</td>\n",
       "      <td>0.392017</td>\n",
       "      <td>0.241382</td>\n",
       "      <td>0.402231</td>\n",
       "      <td>0.322435</td>\n",
       "      <td>-0.203394</td>\n",
       "      <td>0.361021</td>\n",
       "    </tr>\n",
       "    <tr>\n",
       "      <th>1</th>\n",
       "      <td>-0.646030</td>\n",
       "      <td>-0.016528</td>\n",
       "      <td>-0.207586</td>\n",
       "      <td>-0.263776</td>\n",
       "      <td>-0.351134</td>\n",
       "      <td>-0.504086</td>\n",
       "      <td>-0.862998</td>\n",
       "    </tr>\n",
       "    <tr>\n",
       "      <th>2</th>\n",
       "      <td>0.063274</td>\n",
       "      <td>0.677998</td>\n",
       "      <td>0.547994</td>\n",
       "      <td>0.636234</td>\n",
       "      <td>0.554505</td>\n",
       "      <td>0.087295</td>\n",
       "      <td>-0.427397</td>\n",
       "    </tr>\n",
       "    <tr>\n",
       "      <th>3</th>\n",
       "      <td>-0.812697</td>\n",
       "      <td>-1.195472</td>\n",
       "      <td>-1.209550</td>\n",
       "      <td>-1.379790</td>\n",
       "      <td>-1.341676</td>\n",
       "      <td>-1.068619</td>\n",
       "      <td>-0.506239</td>\n",
       "    </tr>\n",
       "    <tr>\n",
       "      <th>4</th>\n",
       "      <td>-0.383432</td>\n",
       "      <td>-1.043726</td>\n",
       "      <td>-1.100046</td>\n",
       "      <td>-1.085786</td>\n",
       "      <td>-1.115266</td>\n",
       "      <td>-0.914062</td>\n",
       "      <td>-0.300687</td>\n",
       "    </tr>\n",
       "    <tr>\n",
       "      <th>...</th>\n",
       "      <td>...</td>\n",
       "      <td>...</td>\n",
       "      <td>...</td>\n",
       "      <td>...</td>\n",
       "      <td>...</td>\n",
       "      <td>...</td>\n",
       "      <td>...</td>\n",
       "    </tr>\n",
       "    <tr>\n",
       "      <th>4838</th>\n",
       "      <td>-0.448355</td>\n",
       "      <td>-0.325855</td>\n",
       "      <td>-0.366367</td>\n",
       "      <td>0.024227</td>\n",
       "      <td>0.124327</td>\n",
       "      <td>-0.129064</td>\n",
       "      <td>0.361021</td>\n",
       "    </tr>\n",
       "    <tr>\n",
       "      <th>4839</th>\n",
       "      <td>2.125293</td>\n",
       "      <td>-0.401727</td>\n",
       "      <td>0.290659</td>\n",
       "      <td>-0.347777</td>\n",
       "      <td>0.005462</td>\n",
       "      <td>0.816598</td>\n",
       "      <td>0.002009</td>\n",
       "    </tr>\n",
       "    <tr>\n",
       "      <th>4840</th>\n",
       "      <td>-0.449324</td>\n",
       "      <td>-0.179946</td>\n",
       "      <td>0.071650</td>\n",
       "      <td>-0.269776</td>\n",
       "      <td>-0.000199</td>\n",
       "      <td>-0.223609</td>\n",
       "      <td>-0.049613</td>\n",
       "    </tr>\n",
       "    <tr>\n",
       "      <th>4841</th>\n",
       "      <td>-0.545254</td>\n",
       "      <td>-0.856963</td>\n",
       "      <td>-0.968641</td>\n",
       "      <td>-0.899784</td>\n",
       "      <td>-0.888857</td>\n",
       "      <td>-0.703599</td>\n",
       "      <td>0.114640</td>\n",
       "    </tr>\n",
       "    <tr>\n",
       "      <th>4842</th>\n",
       "      <td>-0.237114</td>\n",
       "      <td>0.421198</td>\n",
       "      <td>0.876507</td>\n",
       "      <td>0.942238</td>\n",
       "      <td>1.420522</td>\n",
       "      <td>0.979157</td>\n",
       "      <td>0.599821</td>\n",
       "    </tr>\n",
       "  </tbody>\n",
       "</table>\n",
       "<p>4843 rows × 7 columns</p>\n",
       "</div>"
      ],
      "text/plain": [
       "           HV1       IC1       IC2       IC3       IC4       IC5   AVGGIFT\n",
       "0     1.145640  0.392017  0.241382  0.402231  0.322435 -0.203394  0.361021\n",
       "1    -0.646030 -0.016528 -0.207586 -0.263776 -0.351134 -0.504086 -0.862998\n",
       "2     0.063274  0.677998  0.547994  0.636234  0.554505  0.087295 -0.427397\n",
       "3    -0.812697 -1.195472 -1.209550 -1.379790 -1.341676 -1.068619 -0.506239\n",
       "4    -0.383432 -1.043726 -1.100046 -1.085786 -1.115266 -0.914062 -0.300687\n",
       "...        ...       ...       ...       ...       ...       ...       ...\n",
       "4838 -0.448355 -0.325855 -0.366367  0.024227  0.124327 -0.129064  0.361021\n",
       "4839  2.125293 -0.401727  0.290659 -0.347777  0.005462  0.816598  0.002009\n",
       "4840 -0.449324 -0.179946  0.071650 -0.269776 -0.000199 -0.223609 -0.049613\n",
       "4841 -0.545254 -0.856963 -0.968641 -0.899784 -0.888857 -0.703599  0.114640\n",
       "4842 -0.237114  0.421198  0.876507  0.942238  1.420522  0.979157  0.599821\n",
       "\n",
       "[4843 rows x 7 columns]"
      ]
     },
     "execution_count": 76,
     "metadata": {},
     "output_type": "execute_result"
    }
   ],
   "source": [
    "# scaling standard scaler: make data distributed with mean=0 and std=1\n",
    "transformer = StandardScaler().fit(X_num)\n",
    "x_standardized = transformer.transform(X_num)\n",
    "print(x_standardized.shape)\n",
    "pd.DataFrame(x_standardized, columns=X_num.columns)"
   ]
  },
  {
   "cell_type": "code",
   "execution_count": 77,
   "metadata": {
    "executionInfo": {
     "elapsed": 31,
     "status": "aborted",
     "timestamp": 1669220740397,
     "user": {
      "displayName": "Jan Molendijk",
      "userId": "00665875236133738524"
     },
     "user_tz": -60
    },
    "id": "CqpsZAnATO9D"
   },
   "outputs": [
    {
     "data": {
      "text/html": [
       "<div>\n",
       "<style scoped>\n",
       "    .dataframe tbody tr th:only-of-type {\n",
       "        vertical-align: middle;\n",
       "    }\n",
       "\n",
       "    .dataframe tbody tr th {\n",
       "        vertical-align: top;\n",
       "    }\n",
       "\n",
       "    .dataframe thead th {\n",
       "        text-align: right;\n",
       "    }\n",
       "</style>\n",
       "<table border=\"1\" class=\"dataframe\">\n",
       "  <thead>\n",
       "    <tr style=\"text-align: right;\">\n",
       "      <th></th>\n",
       "      <th>count</th>\n",
       "      <th>mean</th>\n",
       "      <th>std</th>\n",
       "      <th>min</th>\n",
       "      <th>25%</th>\n",
       "      <th>50%</th>\n",
       "      <th>75%</th>\n",
       "      <th>max</th>\n",
       "    </tr>\n",
       "  </thead>\n",
       "  <tbody>\n",
       "    <tr>\n",
       "      <th>HV1</th>\n",
       "      <td>4843.0</td>\n",
       "      <td>-9.683217e-17</td>\n",
       "      <td>1.000103</td>\n",
       "      <td>-1.127620</td>\n",
       "      <td>-0.596611</td>\n",
       "      <td>-0.343704</td>\n",
       "      <td>0.197480</td>\n",
       "      <td>4.668902</td>\n",
       "    </tr>\n",
       "    <tr>\n",
       "      <th>IC1</th>\n",
       "      <td>4843.0</td>\n",
       "      <td>1.591862e-16</td>\n",
       "      <td>1.000103</td>\n",
       "      <td>-2.059252</td>\n",
       "      <td>-0.664363</td>\n",
       "      <td>-0.203291</td>\n",
       "      <td>0.432871</td>\n",
       "      <td>6.695279</td>\n",
       "    </tr>\n",
       "    <tr>\n",
       "      <th>IC2</th>\n",
       "      <td>4843.0</td>\n",
       "      <td>2.200731e-17</td>\n",
       "      <td>1.000103</td>\n",
       "      <td>-2.200564</td>\n",
       "      <td>-0.651078</td>\n",
       "      <td>-0.196635</td>\n",
       "      <td>0.433015</td>\n",
       "      <td>6.012259</td>\n",
       "    </tr>\n",
       "    <tr>\n",
       "      <th>IC3</th>\n",
       "      <td>4843.0</td>\n",
       "      <td>1.261753e-16</td>\n",
       "      <td>1.000103</td>\n",
       "      <td>-2.405802</td>\n",
       "      <td>-0.683781</td>\n",
       "      <td>-0.209776</td>\n",
       "      <td>0.489232</td>\n",
       "      <td>5.958297</td>\n",
       "    </tr>\n",
       "    <tr>\n",
       "      <th>IC4</th>\n",
       "      <td>4843.0</td>\n",
       "      <td>-9.536502e-17</td>\n",
       "      <td>1.000103</td>\n",
       "      <td>-2.524667</td>\n",
       "      <td>-0.685088</td>\n",
       "      <td>-0.198307</td>\n",
       "      <td>0.483752</td>\n",
       "      <td>5.365711</td>\n",
       "    </tr>\n",
       "    <tr>\n",
       "      <th>IC5</th>\n",
       "      <td>4843.0</td>\n",
       "      <td>-6.088690e-17</td>\n",
       "      <td>1.000103</td>\n",
       "      <td>-1.735489</td>\n",
       "      <td>-0.560097</td>\n",
       "      <td>-0.221819</td>\n",
       "      <td>0.245906</td>\n",
       "      <td>16.639009</td>\n",
       "    </tr>\n",
       "    <tr>\n",
       "      <th>AVGGIFT</th>\n",
       "      <td>4843.0</td>\n",
       "      <td>-8.436136e-17</td>\n",
       "      <td>1.000103</td>\n",
       "      <td>-0.943725</td>\n",
       "      <td>-0.458754</td>\n",
       "      <td>-0.181016</td>\n",
       "      <td>0.262469</td>\n",
       "      <td>43.181965</td>\n",
       "    </tr>\n",
       "  </tbody>\n",
       "</table>\n",
       "</div>"
      ],
      "text/plain": [
       "          count          mean       std       min       25%       50%  \\\n",
       "HV1      4843.0 -9.683217e-17  1.000103 -1.127620 -0.596611 -0.343704   \n",
       "IC1      4843.0  1.591862e-16  1.000103 -2.059252 -0.664363 -0.203291   \n",
       "IC2      4843.0  2.200731e-17  1.000103 -2.200564 -0.651078 -0.196635   \n",
       "IC3      4843.0  1.261753e-16  1.000103 -2.405802 -0.683781 -0.209776   \n",
       "IC4      4843.0 -9.536502e-17  1.000103 -2.524667 -0.685088 -0.198307   \n",
       "IC5      4843.0 -6.088690e-17  1.000103 -1.735489 -0.560097 -0.221819   \n",
       "AVGGIFT  4843.0 -8.436136e-17  1.000103 -0.943725 -0.458754 -0.181016   \n",
       "\n",
       "              75%        max  \n",
       "HV1      0.197480   4.668902  \n",
       "IC1      0.432871   6.695279  \n",
       "IC2      0.433015   6.012259  \n",
       "IC3      0.489232   5.958297  \n",
       "IC4      0.483752   5.365711  \n",
       "IC5      0.245906  16.639009  \n",
       "AVGGIFT  0.262469  43.181965  "
      ]
     },
     "execution_count": 77,
     "metadata": {},
     "output_type": "execute_result"
    }
   ],
   "source": [
    "pd.DataFrame(x_standardized, columns=X_num.columns).describe().T"
   ]
  },
  {
   "cell_type": "code",
   "execution_count": null,
   "metadata": {
    "executionInfo": {
     "elapsed": 32,
     "status": "aborted",
     "timestamp": 1669220740399,
     "user": {
      "displayName": "Jan Molendijk",
      "userId": "00665875236133738524"
     },
     "user_tz": -60
    },
    "id": "kqxkbPGH8trR"
   },
   "outputs": [],
   "source": [
    "#Activity 4\n",
    "\n",
    "# Keep using the same file (regression_data1.csv) for this exercise.\n",
    "\n",
    "# Select 3 numeric columns.\n",
    "# Plot distributions.\n",
    "# Normalize using minmaxscaler\n",
    "# Plot the distributions again.\n",
    "# do the same for standardscaler"
   ]
  },
  {
   "cell_type": "code",
   "execution_count": null,
   "metadata": {},
   "outputs": [],
   "source": []
  },
  {
   "cell_type": "code",
   "execution_count": null,
   "metadata": {},
   "outputs": [],
   "source": []
  },
  {
   "cell_type": "code",
   "execution_count": null,
   "metadata": {},
   "outputs": [],
   "source": []
  },
  {
   "cell_type": "code",
   "execution_count": null,
   "metadata": {},
   "outputs": [],
   "source": []
  },
  {
   "cell_type": "code",
   "execution_count": 80,
   "metadata": {
    "executionInfo": {
     "elapsed": 36,
     "status": "aborted",
     "timestamp": 1669220740403,
     "user": {
      "displayName": "Jan Molendijk",
      "userId": "00665875236133738524"
     },
     "user_tz": -60
    },
    "id": "8v4DFFUC8trR"
   },
   "outputs": [
    {
     "data": {
      "text/html": [
       "<div>\n",
       "<style scoped>\n",
       "    .dataframe tbody tr th:only-of-type {\n",
       "        vertical-align: middle;\n",
       "    }\n",
       "\n",
       "    .dataframe tbody tr th {\n",
       "        vertical-align: top;\n",
       "    }\n",
       "\n",
       "    .dataframe thead th {\n",
       "        text-align: right;\n",
       "    }\n",
       "</style>\n",
       "<table border=\"1\" class=\"dataframe\">\n",
       "  <thead>\n",
       "    <tr style=\"text-align: right;\">\n",
       "      <th></th>\n",
       "      <th>HV1</th>\n",
       "      <th>IC1</th>\n",
       "      <th>IC2</th>\n",
       "      <th>IC3</th>\n",
       "      <th>IC4</th>\n",
       "      <th>IC5</th>\n",
       "      <th>AVGGIFT</th>\n",
       "      <th>TARGET_D</th>\n",
       "    </tr>\n",
       "  </thead>\n",
       "  <tbody>\n",
       "    <tr>\n",
       "      <th>0</th>\n",
       "      <td>2346</td>\n",
       "      <td>420</td>\n",
       "      <td>446</td>\n",
       "      <td>468</td>\n",
       "      <td>503</td>\n",
       "      <td>14552</td>\n",
       "      <td>15.500000</td>\n",
       "      <td>21.0</td>\n",
       "    </tr>\n",
       "    <tr>\n",
       "      <th>1</th>\n",
       "      <td>497</td>\n",
       "      <td>350</td>\n",
       "      <td>364</td>\n",
       "      <td>357</td>\n",
       "      <td>384</td>\n",
       "      <td>11696</td>\n",
       "      <td>3.080000</td>\n",
       "      <td>3.0</td>\n",
       "    </tr>\n",
       "    <tr>\n",
       "      <th>2</th>\n",
       "      <td>1229</td>\n",
       "      <td>469</td>\n",
       "      <td>502</td>\n",
       "      <td>507</td>\n",
       "      <td>544</td>\n",
       "      <td>17313</td>\n",
       "      <td>7.500000</td>\n",
       "      <td>20.0</td>\n",
       "    </tr>\n",
       "    <tr>\n",
       "      <th>3</th>\n",
       "      <td>325</td>\n",
       "      <td>148</td>\n",
       "      <td>181</td>\n",
       "      <td>171</td>\n",
       "      <td>209</td>\n",
       "      <td>6334</td>\n",
       "      <td>6.700000</td>\n",
       "      <td>5.0</td>\n",
       "    </tr>\n",
       "    <tr>\n",
       "      <th>4</th>\n",
       "      <td>768</td>\n",
       "      <td>174</td>\n",
       "      <td>201</td>\n",
       "      <td>220</td>\n",
       "      <td>249</td>\n",
       "      <td>7802</td>\n",
       "      <td>8.785714</td>\n",
       "      <td>10.0</td>\n",
       "    </tr>\n",
       "    <tr>\n",
       "      <th>...</th>\n",
       "      <td>...</td>\n",
       "      <td>...</td>\n",
       "      <td>...</td>\n",
       "      <td>...</td>\n",
       "      <td>...</td>\n",
       "      <td>...</td>\n",
       "      <td>...</td>\n",
       "      <td>...</td>\n",
       "    </tr>\n",
       "    <tr>\n",
       "      <th>4838</th>\n",
       "      <td>701</td>\n",
       "      <td>297</td>\n",
       "      <td>335</td>\n",
       "      <td>405</td>\n",
       "      <td>468</td>\n",
       "      <td>15258</td>\n",
       "      <td>15.500000</td>\n",
       "      <td>25.0</td>\n",
       "    </tr>\n",
       "    <tr>\n",
       "      <th>4839</th>\n",
       "      <td>3357</td>\n",
       "      <td>284</td>\n",
       "      <td>455</td>\n",
       "      <td>343</td>\n",
       "      <td>447</td>\n",
       "      <td>24240</td>\n",
       "      <td>11.857143</td>\n",
       "      <td>19.0</td>\n",
       "    </tr>\n",
       "    <tr>\n",
       "      <th>4840</th>\n",
       "      <td>700</td>\n",
       "      <td>322</td>\n",
       "      <td>415</td>\n",
       "      <td>356</td>\n",
       "      <td>446</td>\n",
       "      <td>14360</td>\n",
       "      <td>11.333333</td>\n",
       "      <td>10.0</td>\n",
       "    </tr>\n",
       "    <tr>\n",
       "      <th>4841</th>\n",
       "      <td>601</td>\n",
       "      <td>206</td>\n",
       "      <td>225</td>\n",
       "      <td>251</td>\n",
       "      <td>289</td>\n",
       "      <td>9801</td>\n",
       "      <td>13.000000</td>\n",
       "      <td>25.0</td>\n",
       "    </tr>\n",
       "    <tr>\n",
       "      <th>4842</th>\n",
       "      <td>919</td>\n",
       "      <td>425</td>\n",
       "      <td>562</td>\n",
       "      <td>558</td>\n",
       "      <td>697</td>\n",
       "      <td>25784</td>\n",
       "      <td>17.923077</td>\n",
       "      <td>25.0</td>\n",
       "    </tr>\n",
       "  </tbody>\n",
       "</table>\n",
       "<p>4843 rows × 8 columns</p>\n",
       "</div>"
      ],
      "text/plain": [
       "       HV1  IC1  IC2  IC3  IC4    IC5    AVGGIFT  TARGET_D\n",
       "0     2346  420  446  468  503  14552  15.500000      21.0\n",
       "1      497  350  364  357  384  11696   3.080000       3.0\n",
       "2     1229  469  502  507  544  17313   7.500000      20.0\n",
       "3      325  148  181  171  209   6334   6.700000       5.0\n",
       "4      768  174  201  220  249   7802   8.785714      10.0\n",
       "...    ...  ...  ...  ...  ...    ...        ...       ...\n",
       "4838   701  297  335  405  468  15258  15.500000      25.0\n",
       "4839  3357  284  455  343  447  24240  11.857143      19.0\n",
       "4840   700  322  415  356  446  14360  11.333333      10.0\n",
       "4841   601  206  225  251  289   9801  13.000000      25.0\n",
       "4842   919  425  562  558  697  25784  17.923077      25.0\n",
       "\n",
       "[4843 rows x 8 columns]"
      ]
     },
     "execution_count": 80,
     "metadata": {},
     "output_type": "execute_result"
    }
   ],
   "source": [
    "data = pd.read_csv('regression_data1.csv')\n",
    "data"
   ]
  },
  {
   "cell_type": "code",
   "execution_count": 81,
   "metadata": {
    "executionInfo": {
     "elapsed": 36,
     "status": "aborted",
     "timestamp": 1669220740404,
     "user": {
      "displayName": "Jan Molendijk",
      "userId": "00665875236133738524"
     },
     "user_tz": -60
    },
    "id": "0uSvR-Gn8trR"
   },
   "outputs": [
    {
     "data": {
      "text/html": [
       "<div>\n",
       "<style scoped>\n",
       "    .dataframe tbody tr th:only-of-type {\n",
       "        vertical-align: middle;\n",
       "    }\n",
       "\n",
       "    .dataframe tbody tr th {\n",
       "        vertical-align: top;\n",
       "    }\n",
       "\n",
       "    .dataframe thead th {\n",
       "        text-align: right;\n",
       "    }\n",
       "</style>\n",
       "<table border=\"1\" class=\"dataframe\">\n",
       "  <thead>\n",
       "    <tr style=\"text-align: right;\">\n",
       "      <th></th>\n",
       "      <th>HV1</th>\n",
       "      <th>IC1</th>\n",
       "      <th>IC2</th>\n",
       "      <th>IC3</th>\n",
       "      <th>IC4</th>\n",
       "      <th>IC5</th>\n",
       "      <th>AVGGIFT</th>\n",
       "      <th>TARGET_D</th>\n",
       "    </tr>\n",
       "  </thead>\n",
       "  <tbody>\n",
       "    <tr>\n",
       "      <th>HV1</th>\n",
       "      <td>1.000000</td>\n",
       "      <td>0.703625</td>\n",
       "      <td>0.739520</td>\n",
       "      <td>0.731628</td>\n",
       "      <td>0.746706</td>\n",
       "      <td>0.737448</td>\n",
       "      <td>0.137374</td>\n",
       "      <td>0.126180</td>\n",
       "    </tr>\n",
       "    <tr>\n",
       "      <th>IC1</th>\n",
       "      <td>0.703625</td>\n",
       "      <td>1.000000</td>\n",
       "      <td>0.952263</td>\n",
       "      <td>0.974436</td>\n",
       "      <td>0.928996</td>\n",
       "      <td>0.811115</td>\n",
       "      <td>0.118425</td>\n",
       "      <td>0.118255</td>\n",
       "    </tr>\n",
       "    <tr>\n",
       "      <th>IC2</th>\n",
       "      <td>0.739520</td>\n",
       "      <td>0.952263</td>\n",
       "      <td>1.000000</td>\n",
       "      <td>0.954477</td>\n",
       "      <td>0.972286</td>\n",
       "      <td>0.875394</td>\n",
       "      <td>0.134469</td>\n",
       "      <td>0.134289</td>\n",
       "    </tr>\n",
       "    <tr>\n",
       "      <th>IC3</th>\n",
       "      <td>0.731628</td>\n",
       "      <td>0.974436</td>\n",
       "      <td>0.954477</td>\n",
       "      <td>1.000000</td>\n",
       "      <td>0.972117</td>\n",
       "      <td>0.829505</td>\n",
       "      <td>0.126843</td>\n",
       "      <td>0.127239</td>\n",
       "    </tr>\n",
       "    <tr>\n",
       "      <th>IC4</th>\n",
       "      <td>0.746706</td>\n",
       "      <td>0.928996</td>\n",
       "      <td>0.972286</td>\n",
       "      <td>0.972117</td>\n",
       "      <td>1.000000</td>\n",
       "      <td>0.868960</td>\n",
       "      <td>0.133909</td>\n",
       "      <td>0.136632</td>\n",
       "    </tr>\n",
       "    <tr>\n",
       "      <th>IC5</th>\n",
       "      <td>0.737448</td>\n",
       "      <td>0.811115</td>\n",
       "      <td>0.875394</td>\n",
       "      <td>0.829505</td>\n",
       "      <td>0.868960</td>\n",
       "      <td>1.000000</td>\n",
       "      <td>0.135712</td>\n",
       "      <td>0.135409</td>\n",
       "    </tr>\n",
       "    <tr>\n",
       "      <th>AVGGIFT</th>\n",
       "      <td>0.137374</td>\n",
       "      <td>0.118425</td>\n",
       "      <td>0.134469</td>\n",
       "      <td>0.126843</td>\n",
       "      <td>0.133909</td>\n",
       "      <td>0.135712</td>\n",
       "      <td>1.000000</td>\n",
       "      <td>0.516725</td>\n",
       "    </tr>\n",
       "    <tr>\n",
       "      <th>TARGET_D</th>\n",
       "      <td>0.126180</td>\n",
       "      <td>0.118255</td>\n",
       "      <td>0.134289</td>\n",
       "      <td>0.127239</td>\n",
       "      <td>0.136632</td>\n",
       "      <td>0.135409</td>\n",
       "      <td>0.516725</td>\n",
       "      <td>1.000000</td>\n",
       "    </tr>\n",
       "  </tbody>\n",
       "</table>\n",
       "</div>"
      ],
      "text/plain": [
       "               HV1       IC1       IC2       IC3       IC4       IC5  \\\n",
       "HV1       1.000000  0.703625  0.739520  0.731628  0.746706  0.737448   \n",
       "IC1       0.703625  1.000000  0.952263  0.974436  0.928996  0.811115   \n",
       "IC2       0.739520  0.952263  1.000000  0.954477  0.972286  0.875394   \n",
       "IC3       0.731628  0.974436  0.954477  1.000000  0.972117  0.829505   \n",
       "IC4       0.746706  0.928996  0.972286  0.972117  1.000000  0.868960   \n",
       "IC5       0.737448  0.811115  0.875394  0.829505  0.868960  1.000000   \n",
       "AVGGIFT   0.137374  0.118425  0.134469  0.126843  0.133909  0.135712   \n",
       "TARGET_D  0.126180  0.118255  0.134289  0.127239  0.136632  0.135409   \n",
       "\n",
       "           AVGGIFT  TARGET_D  \n",
       "HV1       0.137374  0.126180  \n",
       "IC1       0.118425  0.118255  \n",
       "IC2       0.134469  0.134289  \n",
       "IC3       0.126843  0.127239  \n",
       "IC4       0.133909  0.136632  \n",
       "IC5       0.135712  0.135409  \n",
       "AVGGIFT   1.000000  0.516725  \n",
       "TARGET_D  0.516725  1.000000  "
      ]
     },
     "execution_count": 81,
     "metadata": {},
     "output_type": "execute_result"
    }
   ],
   "source": [
    "data.corr()"
   ]
  },
  {
   "cell_type": "code",
   "execution_count": 83,
   "metadata": {
    "executionInfo": {
     "elapsed": 38,
     "status": "aborted",
     "timestamp": 1669220740406,
     "user": {
      "displayName": "Jan Molendijk",
      "userId": "00665875236133738524"
     },
     "user_tz": -60
    },
    "id": "zo8PTUMz8trR"
   },
   "outputs": [
    {
     "data": {
      "image/png": "[encoded data removed]",
      "text/plain": [
       "<Figure size 500x500 with 1 Axes>"
      ]
     },
     "metadata": {},
     "output_type": "display_data"
    }
   ],
   "source": [
    "sns.displot(data['IC1'])\n",
    "plt.show()"
   ]
  },
  {
   "cell_type": "code",
   "execution_count": 84,
   "metadata": {
    "executionInfo": {
     "elapsed": 39,
     "status": "aborted",
     "timestamp": 1669220740407,
     "user": {
      "displayName": "Jan Molendijk",
      "userId": "00665875236133738524"
     },
     "user_tz": -60
    },
    "id": "22bXiq2X8trR"
   },
   "outputs": [
    {
     "data": {
      "image/png": "[encoded data removed]",
      "text/plain": [
       "<Figure size 500x500 with 1 Axes>"
      ]
     },
     "metadata": {},
     "output_type": "display_data"
    }
   ],
   "source": [
    "sns.displot(data['IC2'])\n",
    "plt.show()"
   ]
  },
  {
   "cell_type": "code",
   "execution_count": 85,
   "metadata": {
    "executionInfo": {
     "elapsed": 39,
     "status": "aborted",
     "timestamp": 1669220740408,
     "user": {
      "displayName": "Jan Molendijk",
      "userId": "00665875236133738524"
     },
     "user_tz": -60
    },
    "id": "fmnY5KGK8trS"
   },
   "outputs": [
    {
     "data": {
      "image/png": "[encoded data removed]",
      "text/plain": [
       "<Figure size 500x500 with 1 Axes>"
      ]
     },
     "metadata": {},
     "output_type": "display_data"
    }
   ],
   "source": [
    "sns.displot(data['IC3'])\n",
    "plt.show()"
   ]
  },
  {
   "cell_type": "code",
   "execution_count": 92,
   "metadata": {},
   "outputs": [],
   "source": [
    "data_new = data[['IC1', 'IC2', 'IC5']]"
   ]
  },
  {
   "cell_type": "code",
   "execution_count": 90,
   "metadata": {
    "executionInfo": {
     "elapsed": 40,
     "status": "aborted",
     "timestamp": 1669220740409,
     "user": {
      "displayName": "Jan Molendijk",
      "userId": "00665875236133738524"
     },
     "user_tz": -60
    },
    "id": "CbwNMReHTO9F"
   },
   "outputs": [
    {
     "ename": "KeyError",
     "evalue": "('HV1', 'IC4', 'IC5', 'AVGGIFT', 'TARGET_D')",
     "output_type": "error",
     "traceback": [
      "\u001b[1;31m---------------------------------------------------------------------------\u001b[0m",
      "\u001b[1;31mKeyError\u001b[0m                                  Traceback (most recent call last)",
      "File \u001b[1;32m~\\anaconda3\\lib\\site-packages\\pandas\\core\\indexes\\base.py:3802\u001b[0m, in \u001b[0;36mIndex.get_loc\u001b[1;34m(self, key, method, tolerance)\u001b[0m\n\u001b[0;32m   3801\u001b[0m \u001b[38;5;28;01mtry\u001b[39;00m:\n\u001b[1;32m-> 3802\u001b[0m     \u001b[38;5;28;01mreturn\u001b[39;00m \u001b[38;5;28;43mself\u001b[39;49m\u001b[38;5;241;43m.\u001b[39;49m\u001b[43m_engine\u001b[49m\u001b[38;5;241;43m.\u001b[39;49m\u001b[43mget_loc\u001b[49m\u001b[43m(\u001b[49m\u001b[43mcasted_key\u001b[49m\u001b[43m)\u001b[49m\n\u001b[0;32m   3803\u001b[0m \u001b[38;5;28;01mexcept\u001b[39;00m \u001b[38;5;167;01mKeyError\u001b[39;00m \u001b[38;5;28;01mas\u001b[39;00m err:\n",
      "File \u001b[1;32m~\\anaconda3\\lib\\site-packages\\pandas\\_libs\\index.pyx:138\u001b[0m, in \u001b[0;36mpandas._libs.index.IndexEngine.get_loc\u001b[1;34m()\u001b[0m\n",
      "File \u001b[1;32m~\\anaconda3\\lib\\site-packages\\pandas\\_libs\\index.pyx:165\u001b[0m, in \u001b[0;36mpandas._libs.index.IndexEngine.get_loc\u001b[1;34m()\u001b[0m\n",
      "File \u001b[1;32mpandas\\_libs\\hashtable_class_helper.pxi:5745\u001b[0m, in \u001b[0;36mpandas._libs.hashtable.PyObjectHashTable.get_item\u001b[1;34m()\u001b[0m\n",
      "File \u001b[1;32mpandas\\_libs\\hashtable_class_helper.pxi:5753\u001b[0m, in \u001b[0;36mpandas._libs.hashtable.PyObjectHashTable.get_item\u001b[1;34m()\u001b[0m\n",
      "\u001b[1;31mKeyError\u001b[0m: ('HV1', 'IC4', 'IC5', 'AVGGIFT', 'TARGET_D')",
      "\nThe above exception was the direct cause of the following exception:\n",
      "\u001b[1;31mKeyError\u001b[0m                                  Traceback (most recent call last)",
      "Cell \u001b[1;32mIn[90], line 1\u001b[0m\n\u001b[1;32m----> 1\u001b[0m y1 \u001b[38;5;241m=\u001b[39m \u001b[43mdata\u001b[49m\u001b[43m[\u001b[49m\u001b[38;5;124;43m'\u001b[39;49m\u001b[38;5;124;43mHV1\u001b[39;49m\u001b[38;5;124;43m'\u001b[39;49m\u001b[43m,\u001b[49m\u001b[38;5;124;43m'\u001b[39;49m\u001b[38;5;124;43mIC4\u001b[39;49m\u001b[38;5;124;43m'\u001b[39;49m\u001b[43m,\u001b[49m\u001b[38;5;124;43m'\u001b[39;49m\u001b[38;5;124;43mIC5\u001b[39;49m\u001b[38;5;124;43m'\u001b[39;49m\u001b[43m,\u001b[49m\u001b[38;5;124;43m'\u001b[39;49m\u001b[38;5;124;43mAVGGIFT\u001b[39;49m\u001b[38;5;124;43m'\u001b[39;49m\u001b[43m,\u001b[49m\u001b[38;5;124;43m'\u001b[39;49m\u001b[38;5;124;43mTARGET_D\u001b[39;49m\u001b[38;5;124;43m'\u001b[39;49m\u001b[43m]\u001b[49m\n\u001b[0;32m      2\u001b[0m X1 \u001b[38;5;241m=\u001b[39m data\u001b[38;5;241m.\u001b[39mdrop([\u001b[38;5;124m'\u001b[39m\u001b[38;5;124mHV1\u001b[39m\u001b[38;5;124m'\u001b[39m,\u001b[38;5;124m'\u001b[39m\u001b[38;5;124mIC4\u001b[39m\u001b[38;5;124m'\u001b[39m,\u001b[38;5;124m'\u001b[39m\u001b[38;5;124mIC5\u001b[39m\u001b[38;5;124m'\u001b[39m,\u001b[38;5;124m'\u001b[39m\u001b[38;5;124mAVGGIFT\u001b[39m\u001b[38;5;124m'\u001b[39m,\u001b[38;5;124m'\u001b[39m\u001b[38;5;124mTARGET_D\u001b[39m\u001b[38;5;124m'\u001b[39m], axis\u001b[38;5;241m=\u001b[39m\u001b[38;5;241m1\u001b[39m)\n\u001b[0;32m      3\u001b[0m X1_num \u001b[38;5;241m=\u001b[39m X\u001b[38;5;241m.\u001b[39mselect_dtypes(include \u001b[38;5;241m=\u001b[39m np\u001b[38;5;241m.\u001b[39mnumber)\n",
      "File \u001b[1;32m~\\anaconda3\\lib\\site-packages\\pandas\\core\\frame.py:3807\u001b[0m, in \u001b[0;36mDataFrame.__getitem__\u001b[1;34m(self, key)\u001b[0m\n\u001b[0;32m   3805\u001b[0m \u001b[38;5;28;01mif\u001b[39;00m \u001b[38;5;28mself\u001b[39m\u001b[38;5;241m.\u001b[39mcolumns\u001b[38;5;241m.\u001b[39mnlevels \u001b[38;5;241m>\u001b[39m \u001b[38;5;241m1\u001b[39m:\n\u001b[0;32m   3806\u001b[0m     \u001b[38;5;28;01mreturn\u001b[39;00m \u001b[38;5;28mself\u001b[39m\u001b[38;5;241m.\u001b[39m_getitem_multilevel(key)\n\u001b[1;32m-> 3807\u001b[0m indexer \u001b[38;5;241m=\u001b[39m \u001b[38;5;28;43mself\u001b[39;49m\u001b[38;5;241;43m.\u001b[39;49m\u001b[43mcolumns\u001b[49m\u001b[38;5;241;43m.\u001b[39;49m\u001b[43mget_loc\u001b[49m\u001b[43m(\u001b[49m\u001b[43mkey\u001b[49m\u001b[43m)\u001b[49m\n\u001b[0;32m   3808\u001b[0m \u001b[38;5;28;01mif\u001b[39;00m is_integer(indexer):\n\u001b[0;32m   3809\u001b[0m     indexer \u001b[38;5;241m=\u001b[39m [indexer]\n",
      "File \u001b[1;32m~\\anaconda3\\lib\\site-packages\\pandas\\core\\indexes\\base.py:3804\u001b[0m, in \u001b[0;36mIndex.get_loc\u001b[1;34m(self, key, method, tolerance)\u001b[0m\n\u001b[0;32m   3802\u001b[0m     \u001b[38;5;28;01mreturn\u001b[39;00m \u001b[38;5;28mself\u001b[39m\u001b[38;5;241m.\u001b[39m_engine\u001b[38;5;241m.\u001b[39mget_loc(casted_key)\n\u001b[0;32m   3803\u001b[0m \u001b[38;5;28;01mexcept\u001b[39;00m \u001b[38;5;167;01mKeyError\u001b[39;00m \u001b[38;5;28;01mas\u001b[39;00m err:\n\u001b[1;32m-> 3804\u001b[0m     \u001b[38;5;28;01mraise\u001b[39;00m \u001b[38;5;167;01mKeyError\u001b[39;00m(key) \u001b[38;5;28;01mfrom\u001b[39;00m \u001b[38;5;21;01merr\u001b[39;00m\n\u001b[0;32m   3805\u001b[0m \u001b[38;5;28;01mexcept\u001b[39;00m \u001b[38;5;167;01mTypeError\u001b[39;00m:\n\u001b[0;32m   3806\u001b[0m     \u001b[38;5;66;03m# If we have a listlike key, _check_indexing_error will raise\u001b[39;00m\n\u001b[0;32m   3807\u001b[0m     \u001b[38;5;66;03m#  InvalidIndexError. Otherwise we fall through and re-raise\u001b[39;00m\n\u001b[0;32m   3808\u001b[0m     \u001b[38;5;66;03m#  the TypeError.\u001b[39;00m\n\u001b[0;32m   3809\u001b[0m     \u001b[38;5;28mself\u001b[39m\u001b[38;5;241m.\u001b[39m_check_indexing_error(key)\n",
      "\u001b[1;31mKeyError\u001b[0m: ('HV1', 'IC4', 'IC5', 'AVGGIFT', 'TARGET_D')"
     ]
    }
   ],
   "source": [
    "y1 = data['HV1','IC4','IC5','AVGGIFT','TARGET_D']\n",
    "X1 = data.drop(['HV1','IC4','IC5','AVGGIFT','TARGET_D'], axis=1)\n",
    "X1_num = X.select_dtypes(include = np.number)\n",
    "X1_cat = X.select_dtypes(include = object)"
   ]
  },
  {
   "cell_type": "code",
   "execution_count": null,
   "metadata": {
    "executionInfo": {
     "elapsed": 41,
     "status": "aborted",
     "timestamp": 1669220740410,
     "user": {
      "displayName": "Jan Molendijk",
      "userId": "00665875236133738524"
     },
     "user_tz": -60
    },
    "id": "RwZfKKCNTO9F"
   },
   "outputs": [],
   "source": []
  },
  {
   "cell_type": "code",
   "execution_count": null,
   "metadata": {
    "executionInfo": {
     "elapsed": 41,
     "status": "aborted",
     "timestamp": 1669220740410,
     "user": {
      "displayName": "Jan Molendijk",
      "userId": "00665875236133738524"
     },
     "user_tz": -60
    },
    "id": "3BXH1Nc88trS"
   },
   "outputs": [],
   "source": [
    "# End Activity 4"
   ]
  }
 ],
 "metadata": {
  "colab": {
   "provenance": []
  },
  "kernelspec": {
   "display_name": "Python 3 (ipykernel)",
   "language": "python",
   "name": "python3"
  },
  "language_info": {
   "codemirror_mode": {
    "name": "ipython",
    "version": 3
   },
   "file_extension": ".py",
   "mimetype": "text/x-python",
   "name": "python",
   "nbconvert_exporter": "python",
   "pygments_lexer": "ipython3",
   "version": "3.10.9"
  }
 },
 "nbformat": 4,
 "nbformat_minor": 1
}
