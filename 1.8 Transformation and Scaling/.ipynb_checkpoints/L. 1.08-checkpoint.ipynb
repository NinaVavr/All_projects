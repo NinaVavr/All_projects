{
 "cells": [
  {
   "cell_type": "code",
   "execution_count": 1,
   "metadata": {
    "id": "ON__8MOB8trA"
   },
   "outputs": [],
   "source": [
    "import pandas as pd\n",
    "import numpy as np\n",
    "import matplotlib.pyplot as plt\n",
    "import seaborn as sns\n",
    "%matplotlib inline\n"
   ]
  },
  {
   "cell_type": "code",
   "execution_count": 2,
   "metadata": {
    "id": "Vjheiwjs8trG"
   },
   "outputs": [],
   "source": [
    "data = pd.read_csv('regression_data1.csv')"
   ]
  },
  {
   "cell_type": "code",
   "execution_count": 3,
   "metadata": {
    "id": "c6jYbmjk8trH"
   },
   "outputs": [
    {
     "data": {
      "text/html": [
       "<div>\n",
       "<style scoped>\n",
       "    .dataframe tbody tr th:only-of-type {\n",
       "        vertical-align: middle;\n",
       "    }\n",
       "\n",
       "    .dataframe tbody tr th {\n",
       "        vertical-align: top;\n",
       "    }\n",
       "\n",
       "    .dataframe thead th {\n",
       "        text-align: right;\n",
       "    }\n",
       "</style>\n",
       "<table border=\"1\" class=\"dataframe\">\n",
       "  <thead>\n",
       "    <tr style=\"text-align: right;\">\n",
       "      <th></th>\n",
       "      <th>HV1</th>\n",
       "      <th>IC1</th>\n",
       "      <th>IC2</th>\n",
       "      <th>IC3</th>\n",
       "      <th>IC4</th>\n",
       "      <th>IC5</th>\n",
       "      <th>AVGGIFT</th>\n",
       "      <th>TARGET_D</th>\n",
       "    </tr>\n",
       "  </thead>\n",
       "  <tbody>\n",
       "    <tr>\n",
       "      <th>0</th>\n",
       "      <td>2346</td>\n",
       "      <td>420</td>\n",
       "      <td>446</td>\n",
       "      <td>468</td>\n",
       "      <td>503</td>\n",
       "      <td>14552</td>\n",
       "      <td>15.500000</td>\n",
       "      <td>21.0</td>\n",
       "    </tr>\n",
       "    <tr>\n",
       "      <th>1</th>\n",
       "      <td>497</td>\n",
       "      <td>350</td>\n",
       "      <td>364</td>\n",
       "      <td>357</td>\n",
       "      <td>384</td>\n",
       "      <td>11696</td>\n",
       "      <td>3.080000</td>\n",
       "      <td>3.0</td>\n",
       "    </tr>\n",
       "    <tr>\n",
       "      <th>2</th>\n",
       "      <td>1229</td>\n",
       "      <td>469</td>\n",
       "      <td>502</td>\n",
       "      <td>507</td>\n",
       "      <td>544</td>\n",
       "      <td>17313</td>\n",
       "      <td>7.500000</td>\n",
       "      <td>20.0</td>\n",
       "    </tr>\n",
       "    <tr>\n",
       "      <th>3</th>\n",
       "      <td>325</td>\n",
       "      <td>148</td>\n",
       "      <td>181</td>\n",
       "      <td>171</td>\n",
       "      <td>209</td>\n",
       "      <td>6334</td>\n",
       "      <td>6.700000</td>\n",
       "      <td>5.0</td>\n",
       "    </tr>\n",
       "    <tr>\n",
       "      <th>4</th>\n",
       "      <td>768</td>\n",
       "      <td>174</td>\n",
       "      <td>201</td>\n",
       "      <td>220</td>\n",
       "      <td>249</td>\n",
       "      <td>7802</td>\n",
       "      <td>8.785714</td>\n",
       "      <td>10.0</td>\n",
       "    </tr>\n",
       "  </tbody>\n",
       "</table>\n",
       "</div>"
      ],
      "text/plain": [
       "    HV1  IC1  IC2  IC3  IC4    IC5    AVGGIFT  TARGET_D\n",
       "0  2346  420  446  468  503  14552  15.500000      21.0\n",
       "1   497  350  364  357  384  11696   3.080000       3.0\n",
       "2  1229  469  502  507  544  17313   7.500000      20.0\n",
       "3   325  148  181  171  209   6334   6.700000       5.0\n",
       "4   768  174  201  220  249   7802   8.785714      10.0"
      ]
     },
     "execution_count": 3,
     "metadata": {},
     "output_type": "execute_result"
    }
   ],
   "source": [
    "data.head()"
   ]
  },
  {
   "cell_type": "code",
   "execution_count": 4,
   "metadata": {
    "id": "0kxuTKxjTO8y"
   },
   "outputs": [
    {
     "data": {
      "text/html": [
       "<div>\n",
       "<style scoped>\n",
       "    .dataframe tbody tr th:only-of-type {\n",
       "        vertical-align: middle;\n",
       "    }\n",
       "\n",
       "    .dataframe tbody tr th {\n",
       "        vertical-align: top;\n",
       "    }\n",
       "\n",
       "    .dataframe thead th {\n",
       "        text-align: right;\n",
       "    }\n",
       "</style>\n",
       "<table border=\"1\" class=\"dataframe\">\n",
       "  <thead>\n",
       "    <tr style=\"text-align: right;\">\n",
       "      <th></th>\n",
       "      <th>count</th>\n",
       "      <th>mean</th>\n",
       "      <th>std</th>\n",
       "      <th>min</th>\n",
       "      <th>25%</th>\n",
       "      <th>50%</th>\n",
       "      <th>75%</th>\n",
       "      <th>max</th>\n",
       "    </tr>\n",
       "  </thead>\n",
       "  <tbody>\n",
       "    <tr>\n",
       "      <th>HV1</th>\n",
       "      <td>4843.0</td>\n",
       "      <td>1163.701425</td>\n",
       "      <td>1032.104682</td>\n",
       "      <td>0.00000</td>\n",
       "      <td>548.000000</td>\n",
       "      <td>809.0</td>\n",
       "      <td>1367.5</td>\n",
       "      <td>5982.0</td>\n",
       "    </tr>\n",
       "    <tr>\n",
       "      <th>IC1</th>\n",
       "      <td>4843.0</td>\n",
       "      <td>352.831922</td>\n",
       "      <td>171.357547</td>\n",
       "      <td>0.00000</td>\n",
       "      <td>239.000000</td>\n",
       "      <td>318.0</td>\n",
       "      <td>427.0</td>\n",
       "      <td>1500.0</td>\n",
       "    </tr>\n",
       "    <tr>\n",
       "      <th>IC2</th>\n",
       "      <td>4843.0</td>\n",
       "      <td>401.913690</td>\n",
       "      <td>182.660078</td>\n",
       "      <td>0.00000</td>\n",
       "      <td>283.000000</td>\n",
       "      <td>366.0</td>\n",
       "      <td>481.0</td>\n",
       "      <td>1500.0</td>\n",
       "    </tr>\n",
       "    <tr>\n",
       "      <th>IC3</th>\n",
       "      <td>4843.0</td>\n",
       "      <td>400.962214</td>\n",
       "      <td>166.681913</td>\n",
       "      <td>0.00000</td>\n",
       "      <td>287.000000</td>\n",
       "      <td>366.0</td>\n",
       "      <td>482.5</td>\n",
       "      <td>1394.0</td>\n",
       "    </tr>\n",
       "    <tr>\n",
       "      <th>IC4</th>\n",
       "      <td>4843.0</td>\n",
       "      <td>446.035102</td>\n",
       "      <td>176.689128</td>\n",
       "      <td>0.00000</td>\n",
       "      <td>325.000000</td>\n",
       "      <td>411.0</td>\n",
       "      <td>531.5</td>\n",
       "      <td>1394.0</td>\n",
       "    </tr>\n",
       "    <tr>\n",
       "      <th>IC5</th>\n",
       "      <td>4843.0</td>\n",
       "      <td>16483.862482</td>\n",
       "      <td>9499.090544</td>\n",
       "      <td>0.00000</td>\n",
       "      <td>11164.000000</td>\n",
       "      <td>14377.0</td>\n",
       "      <td>18819.5</td>\n",
       "      <td>174523.0</td>\n",
       "    </tr>\n",
       "    <tr>\n",
       "      <th>AVGGIFT</th>\n",
       "      <td>4843.0</td>\n",
       "      <td>11.836754</td>\n",
       "      <td>10.147951</td>\n",
       "      <td>2.26087</td>\n",
       "      <td>7.181818</td>\n",
       "      <td>10.0</td>\n",
       "      <td>14.5</td>\n",
       "      <td>450.0</td>\n",
       "    </tr>\n",
       "    <tr>\n",
       "      <th>TARGET_D</th>\n",
       "      <td>4843.0</td>\n",
       "      <td>15.624344</td>\n",
       "      <td>12.445137</td>\n",
       "      <td>1.00000</td>\n",
       "      <td>10.000000</td>\n",
       "      <td>13.0</td>\n",
       "      <td>20.0</td>\n",
       "      <td>200.0</td>\n",
       "    </tr>\n",
       "  </tbody>\n",
       "</table>\n",
       "</div>"
      ],
      "text/plain": [
       "           count          mean          std      min           25%      50%  \\\n",
       "HV1       4843.0   1163.701425  1032.104682  0.00000    548.000000    809.0   \n",
       "IC1       4843.0    352.831922   171.357547  0.00000    239.000000    318.0   \n",
       "IC2       4843.0    401.913690   182.660078  0.00000    283.000000    366.0   \n",
       "IC3       4843.0    400.962214   166.681913  0.00000    287.000000    366.0   \n",
       "IC4       4843.0    446.035102   176.689128  0.00000    325.000000    411.0   \n",
       "IC5       4843.0  16483.862482  9499.090544  0.00000  11164.000000  14377.0   \n",
       "AVGGIFT   4843.0     11.836754    10.147951  2.26087      7.181818     10.0   \n",
       "TARGET_D  4843.0     15.624344    12.445137  1.00000     10.000000     13.0   \n",
       "\n",
       "              75%       max  \n",
       "HV1        1367.5    5982.0  \n",
       "IC1         427.0    1500.0  \n",
       "IC2         481.0    1500.0  \n",
       "IC3         482.5    1394.0  \n",
       "IC4         531.5    1394.0  \n",
       "IC5       18819.5  174523.0  \n",
       "AVGGIFT      14.5     450.0  \n",
       "TARGET_D     20.0     200.0  "
      ]
     },
     "execution_count": 4,
     "metadata": {},
     "output_type": "execute_result"
    }
   ],
   "source": [
    "data.describe().T"
   ]
  },
  {
   "cell_type": "code",
   "execution_count": 5,
   "metadata": {
    "id": "wZlFCIpe8trI"
   },
   "outputs": [
    {
     "data": {
      "image/png": "[encoded data removed]",
      "text/plain": [
       "<Figure size 640x480 with 1 Axes>"
      ]
     },
     "metadata": {},
     "output_type": "display_data"
    }
   ],
   "source": [
    "data['HV1'].hist()\n",
    "plt.show()\n"
   ]
  },
  {
   "cell_type": "code",
   "execution_count": 6,
   "metadata": {
    "id": "HfFrAX4f8trI"
   },
   "outputs": [
    {
     "data": {
      "image/png": "[encoded data removed]",
      "text/plain": [
       "<Figure size 500x500 with 1 Axes>"
      ]
     },
     "metadata": {},
     "output_type": "display_data"
    }
   ],
   "source": [
    "sns.displot(data['HV1'])\n",
    "plt.show()\n"
   ]
  },
  {
   "cell_type": "code",
   "execution_count": 7,
   "metadata": {
    "id": "wPZFRiX98trJ"
   },
   "outputs": [
    {
     "data": {
      "image/png": "[encoded data removed]",
      "text/plain": [
       "<Figure size 500x500 with 1 Axes>"
      ]
     },
     "metadata": {},
     "output_type": "display_data"
    }
   ],
   "source": [
    "sns.displot(data['IC1'])\n",
    "plt.show()\n"
   ]
  },
  {
   "cell_type": "code",
   "execution_count": 8,
   "metadata": {
    "id": "RnnPGN0Q8trJ"
   },
   "outputs": [
    {
     "data": {
      "image/png": "[encoded data removed]",
      "text/plain": [
       "<Figure size 640x480 with 1 Axes>"
      ]
     },
     "metadata": {},
     "output_type": "display_data"
    }
   ],
   "source": [
    "sns.boxplot(x=data['IC1'])\n",
    "plt.show()\n"
   ]
  },
  {
   "cell_type": "code",
   "execution_count": null,
   "metadata": {
    "id": "9yKKesCq8trJ"
   },
   "outputs": [],
   "source": [
    "# removing the outliers from IC1 - we don't always do it, only for good reasons\n",
    "# but if we want to do it, this is how:\n",
    "iqr = np.percentile(data['IC1'],75) - np.percentile(data['IC1'],25)\n",
    "upper_limit = np.percentile(data['IC1'],75) + 1.5*iqr\n",
    "lower_limit = np.percentile(data['IC1'],25) - 1.5*iqr\n"
   ]
  },
  {
   "cell_type": "code",
   "execution_count": null,
   "metadata": {
    "id": "JBoT03xW8trK"
   },
   "outputs": [],
   "source": [
    "upper_limit"
   ]
  },
  {
   "cell_type": "code",
   "execution_count": null,
   "metadata": {
    "id": "bEwfi9B5TO82"
   },
   "outputs": [],
   "source": [
    "data.shape"
   ]
  },
  {
   "cell_type": "code",
   "execution_count": null,
   "metadata": {
    "id": "v6vp-C-N8trK"
   },
   "outputs": [],
   "source": [
    "data1 = data[(data['IC1']>lower_limit) & (data['IC1']<upper_limit)].copy()\n",
    "sns.displot(data1['IC1'])\n",
    "plt.show()"
   ]
  },
  {
   "cell_type": "code",
   "execution_count": null,
   "metadata": {
    "id": "t4J_nmfmTO83"
   },
   "outputs": [],
   "source": [
    "data1.shape"
   ]
  },
  {
   "cell_type": "code",
   "execution_count": null,
   "metadata": {
    "id": "9as7xs5_TO83",
    "scrolled": true
   },
   "outputs": [],
   "source": [
    "data2 = data[(data['IC1']>np.percentile(data['IC1'],25) - 3*iqr) & (data['IC1']<np.percentile(data['IC1'],75) + 3*iqr)].copy()\n",
    "sns.displot(data2['IC1'])\n",
    "plt.show()"
   ]
  },
  {
   "cell_type": "code",
   "execution_count": null,
   "metadata": {
    "id": "KIRHk6SSTO84"
   },
   "outputs": [],
   "source": [
    "data = data[(data['IC1']>lower_limit) & (data['IC1']<upper_limit)]"
   ]
  },
  {
   "cell_type": "code",
   "execution_count": null,
   "metadata": {
    "id": "qoECSKvd8trK"
   },
   "outputs": [],
   "source": [
    "#Activity 1\n",
    "# Draw a box plot for the IC2.\n",
    "# Print the descriptive statistics for IC2.\n",
    "# Remove the outliers from the column IC2."
   ]
  },
  {
   "cell_type": "code",
   "execution_count": null,
   "metadata": {
    "id": "0aa_vh_D8trK"
   },
   "outputs": [],
   "source": []
  },
  {
   "cell_type": "code",
   "execution_count": null,
   "metadata": {
    "id": "-gxZoPKc8trL"
   },
   "outputs": [],
   "source": [
    "\n"
   ]
  },
  {
   "cell_type": "code",
   "execution_count": null,
   "metadata": {
    "id": "4iT7TnF98trL"
   },
   "outputs": [],
   "source": [
    "\n",
    "#End Acivity1\n"
   ]
  },
  {
   "cell_type": "code",
   "execution_count": null,
   "metadata": {
    "id": "UjENYGVLTO85"
   },
   "outputs": [],
   "source": [
    "lower_limit"
   ]
  },
  {
   "cell_type": "code",
   "execution_count": null,
   "metadata": {
    "id": "Gsgj-M_dTO86"
   },
   "outputs": [],
   "source": [
    "data.shape"
   ]
  },
  {
   "cell_type": "code",
   "execution_count": null,
   "metadata": {
    "id": "qbU9Sez28trL"
   },
   "outputs": [],
   "source": [
    "sns.distplot(data['HV1'])\n",
    "plt.show()\n"
   ]
  },
  {
   "cell_type": "code",
   "execution_count": null,
   "metadata": {
    "id": "PnjUje8zTO86"
   },
   "outputs": [],
   "source": [
    "# we want to have all the features in a reasonable (and similar) range.\n",
    "# sometimes we do that by scaling (normalizing), and sometimes by perofrmming a log transformation\n",
    "# or a box-cox transform"
   ]
  },
  {
   "cell_type": "code",
   "execution_count": null,
   "metadata": {
    "id": "EiHNfXfb8trM"
   },
   "outputs": [],
   "source": [
    "# Log10 tranformation: reduce range of 0 - 100000 to a range of 0-5\n",
    "\n",
    "# Code to test how the transformation will look like.\n",
    "# Here we are trying two different codes. Notice that in the first function\n",
    "# we are replacing the -inf values after we take logarithm by 0 while in\n",
    "# the second case we will replace them with np.NaN. The idea is that\n",
    "# we will then replace those NaN values in the column with the mean or\n",
    "# median of the column\n",
    "\n",
    "def log_transfom_clean1(x):\n",
    "    x = np.log10(x)\n",
    "    if np.isfinite(x):\n",
    "        return x\n",
    "    else:\n",
    "        return 0\n",
    "\n",
    "AVGGIFT_log = data['AVGGIFT'].apply(log_transfom_clean1)\n",
    "sns.displot(AVGGIFT_log)\n",
    "plt.show()\n"
   ]
  },
  {
   "cell_type": "code",
   "execution_count": null,
   "metadata": {
    "id": "okbHg47tTO87"
   },
   "outputs": [],
   "source": [
    "sns.displot(data['AVGGIFT'])\n",
    "plt.show()"
   ]
  },
  {
   "cell_type": "code",
   "execution_count": null,
   "metadata": {
    "id": "M2stNgZy8trM"
   },
   "outputs": [],
   "source": [
    "def log_transform_clean2(x):\n",
    "    x = np.log10(x)\n",
    "    if np.isfinite(x):\n",
    "        return x\n",
    "    else:\n",
    "        return np.NAN # We are returning NaNs so that we can replace them with means later\n",
    "data['AVGGIFT_log'] = list(map(log_transform_clean2, data['AVGGIFT']))\n",
    "# Now we replace the NAN by the mean\n",
    "data['AVGGIFT_log'] = data['AVGGIFT_log'].fillna(np.mean(data['AVGGIFT_log']))\n",
    "sns.displot(data['AVGGIFT_log'])\n",
    "plt.show()\n"
   ]
  },
  {
   "cell_type": "code",
   "execution_count": null,
   "metadata": {
    "id": "ONWi9mk2TO88"
   },
   "outputs": [],
   "source": [
    "data.head()"
   ]
  },
  {
   "cell_type": "code",
   "execution_count": null,
   "metadata": {
    "id": "fgj4ewkoTO88"
   },
   "outputs": [],
   "source": [
    "data['HV1'].corr(data['HV1_log'])"
   ]
  },
  {
   "cell_type": "code",
   "execution_count": null,
   "metadata": {
    "id": "ArQOppE18trM"
   },
   "outputs": [],
   "source": [
    "data = data.drop(['HV1'], axis=1)\n",
    "data.head()"
   ]
  },
  {
   "cell_type": "code",
   "execution_count": null,
   "metadata": {
    "id": "fXTVEY7z8trM"
   },
   "outputs": [],
   "source": [
    "# Activity 2\n",
    "# Repeat the process(log transformation) for the column IC5. Define the function again yourself.\n",
    "# Remove the tails of the transformed column to make it closer to the normal distribution.\n",
    "# This time change the factor from 1.5 to 3 when calculating the upper limit and the lower limit. Check the distribution plot. Does it remove the tails effectively? If not change the factor back to 1.5 and see the results."
   ]
  },
  {
   "cell_type": "code",
   "execution_count": null,
   "metadata": {
    "id": "pmdOWH0M8trN"
   },
   "outputs": [],
   "source": [
    "# 1\n",
    "\n"
   ]
  },
  {
   "cell_type": "code",
   "execution_count": null,
   "metadata": {
    "id": "ePLxNq1H8trN"
   },
   "outputs": [],
   "source": [
    "# 2\n",
    "\n"
   ]
  },
  {
   "cell_type": "code",
   "execution_count": null,
   "metadata": {
    "id": "MYjUqs9ITO8-"
   },
   "outputs": [],
   "source": []
  },
  {
   "cell_type": "code",
   "execution_count": null,
   "metadata": {
    "id": "olxMz87i8trN"
   },
   "outputs": [],
   "source": [
    "#End Activity 2"
   ]
  },
  {
   "cell_type": "code",
   "execution_count": null,
   "metadata": {
    "id": "v_YBFqNK8trN"
   },
   "outputs": [],
   "source": [
    "# # BoxCox transformation - another one of many transforms, to get the data more like normal\n",
    "\n",
    "# # BoxCox does not like nagative values\n",
    "# #Since this is median household income, we can filter out negative values:\n",
    "# len(data[data['IC1']<=0])  # number of such observations.\n",
    "# # if you do not want to lose this data, replace it with the mean of the column\n",
    "# data['IC1_'] = np.where(data['IC1']<=0,0,data['IC1'])\n",
    "\n",
    "# # now calculate mean of the new column , excluding zeros in the count\n",
    "# mean = np.sum(data['IC1_'])/len(data[data['IC1_']>0])\n",
    "\n",
    "# data['IC1_'] = data['IC1_'].replace(0,mean)\n",
    "# # data = data.drop(['IC1'], axis=1)\n",
    "# sns.displot(data['IC1_'])\n",
    "# plt.show()\n"
   ]
  },
  {
   "cell_type": "code",
   "execution_count": null,
   "metadata": {
    "id": "HaJoWs0K8trO"
   },
   "outputs": [],
   "source": [
    "# from scipy import stats\n",
    "# xt, lmbda = stats.boxcox(data['IC1_'])\n",
    "# sns.displot(xt)\n",
    "# plt.show()\n"
   ]
  },
  {
   "cell_type": "code",
   "execution_count": null,
   "metadata": {
    "id": "IFqZz1nq8trO"
   },
   "outputs": [],
   "source": []
  },
  {
   "cell_type": "code",
   "execution_count": null,
   "metadata": {
    "id": "jeEhUBRk8trO"
   },
   "outputs": [],
   "source": [
    "#Activity 3\n",
    "# Repeat the same steps for column IC3 for box-cox transformation."
   ]
  },
  {
   "cell_type": "code",
   "execution_count": null,
   "metadata": {
    "id": "lMYEpa9o8trO"
   },
   "outputs": [],
   "source": [
    "# # Repeat the same steps for column 'IC3'\n",
    "# # for box cox transformation, we can also use sklearn's preprocessing module. It will be introduced later\n",
    "\n",
    "\n"
   ]
  },
  {
   "cell_type": "code",
   "execution_count": null,
   "metadata": {
    "id": "kC-jDnV78trP"
   },
   "outputs": [],
   "source": [
    "\n",
    "\n",
    "# End Activity 3\n"
   ]
  },
  {
   "cell_type": "markdown",
   "metadata": {
    "id": "bNqxJjB8TO9A"
   },
   "source": [
    "### NOTE: \n",
    "the transformations that we did before aim to make the distributions more like a normal distribution.\n",
    "While there are numeric modelling methods that require this, Linear Regression is not one of them.\n",
    "LR only requires the <i>error terms</i> to be normally ditributed.\n",
    "We still wanted to show these transformations as they might come in handy.\n"
   ]
  },
  {
   "cell_type": "code",
   "execution_count": null,
   "metadata": {
    "id": "0sUiMkTo8trP"
   },
   "outputs": [],
   "source": [
    "# Normalizing and scaling ()\n",
    "# going back to oiginal data\n",
    "data = pd.read_csv('regression_data1.csv') \n",
    "display(data.head())\n",
    "data.shape"
   ]
  },
  {
   "cell_type": "code",
   "execution_count": null,
   "metadata": {
    "id": "SDdp6Aq4TO9B"
   },
   "outputs": [],
   "source": [
    "data.corr()"
   ]
  },
  {
   "cell_type": "code",
   "execution_count": null,
   "metadata": {
    "executionInfo": {
     "elapsed": 27,
     "status": "aborted",
     "timestamp": 1669220740389,
     "user": {
      "displayName": "Jan Molendijk",
      "userId": "00665875236133738524"
     },
     "user_tz": -60
    },
    "id": "czQqJtE7TO9B"
   },
   "outputs": [],
   "source": [
    "data.describe().T"
   ]
  },
  {
   "cell_type": "code",
   "execution_count": null,
   "metadata": {
    "executionInfo": {
     "elapsed": 29,
     "status": "aborted",
     "timestamp": 1669220740391,
     "user": {
      "displayName": "Jan Molendijk",
      "userId": "00665875236133738524"
     },
     "user_tz": -60
    },
    "id": "K0HsOo7NTO9C"
   },
   "outputs": [],
   "source": [
    "plt.boxplot(data['IC5'])"
   ]
  },
  {
   "cell_type": "code",
   "execution_count": null,
   "metadata": {
    "executionInfo": {
     "elapsed": 30,
     "status": "aborted",
     "timestamp": 1669220740392,
     "user": {
      "displayName": "Jan Molendijk",
      "userId": "00665875236133738524"
     },
     "user_tz": -60
    },
    "id": "GTLdksfK8trP"
   },
   "outputs": [],
   "source": [
    "sns.scatterplot(x=data['AVGGIFT'], y=data['TARGET_D'])\n",
    "plt.show()"
   ]
  },
  {
   "cell_type": "code",
   "execution_count": null,
   "metadata": {
    "executionInfo": {
     "elapsed": 30,
     "status": "aborted",
     "timestamp": 1669220740393,
     "user": {
      "displayName": "Jan Molendijk",
      "userId": "00665875236133738524"
     },
     "user_tz": -60
    },
    "id": "h1MPHPZI8trQ"
   },
   "outputs": [],
   "source": [
    "from sklearn.preprocessing import MinMaxScaler # do not use the function Normalise() - it does something entirely different\n",
    "from sklearn.preprocessing import StandardScaler\n",
    "\n",
    "y = data['TARGET_D']\n",
    "X = data.drop(['TARGET_D'], axis=1)\n",
    "X_num = X.select_dtypes(include = np.number)\n",
    "X_cat = X.select_dtypes(include = object)"
   ]
  },
  {
   "cell_type": "code",
   "execution_count": null,
   "metadata": {
    "executionInfo": {
     "elapsed": 31,
     "status": "aborted",
     "timestamp": 1669220740394,
     "user": {
      "displayName": "Jan Molendijk",
      "userId": "00665875236133738524"
     },
     "user_tz": -60
    },
    "id": "zhBYmzjY8trQ"
   },
   "outputs": [],
   "source": [
    "X_num"
   ]
  },
  {
   "cell_type": "code",
   "execution_count": null,
   "metadata": {
    "executionInfo": {
     "elapsed": 30,
     "status": "aborted",
     "timestamp": 1669220740394,
     "user": {
      "displayName": "Jan Molendijk",
      "userId": "00665875236133738524"
     },
     "user_tz": -60
    },
    "id": "3qaWniU28trQ"
   },
   "outputs": [],
   "source": [
    "# Normalizing data: make data range from 0 - 1, instead of from min to max\n",
    "transformer = MinMaxScaler().fit(X_num)\n",
    "x_normalized = transformer.transform(X_num)\n",
    "print(x_normalized.shape)\n",
    "x_normalized\n",
    "pd.DataFrame(x_normalized, columns=X_num.columns)"
   ]
  },
  {
   "cell_type": "code",
   "execution_count": null,
   "metadata": {
    "executionInfo": {
     "elapsed": 31,
     "status": "aborted",
     "timestamp": 1669220740395,
     "user": {
      "displayName": "Jan Molendijk",
      "userId": "00665875236133738524"
     },
     "user_tz": -60
    },
    "id": "PgB2a3j6TO9D"
   },
   "outputs": [],
   "source": [
    "pd.DataFrame(x_normalized, columns=X_num.columns).corr()"
   ]
  },
  {
   "cell_type": "code",
   "execution_count": null,
   "metadata": {
    "executionInfo": {
     "elapsed": 31,
     "status": "aborted",
     "timestamp": 1669220740396,
     "user": {
      "displayName": "Jan Molendijk",
      "userId": "00665875236133738524"
     },
     "user_tz": -60
    },
    "id": "Hgm0dHMK8trQ",
    "scrolled": true
   },
   "outputs": [],
   "source": [
    "# scaling standard scaler: make data distributed with mean=0 and std=1\n",
    "transformer = StandardScaler().fit(X_num)\n",
    "x_standardized = transformer.transform(X_num)\n",
    "print(x_standardized.shape)\n",
    "pd.DataFrame(x_standardized, columns=X_num.columns)"
   ]
  },
  {
   "cell_type": "code",
   "execution_count": null,
   "metadata": {
    "executionInfo": {
     "elapsed": 31,
     "status": "aborted",
     "timestamp": 1669220740397,
     "user": {
      "displayName": "Jan Molendijk",
      "userId": "00665875236133738524"
     },
     "user_tz": -60
    },
    "id": "CqpsZAnATO9D"
   },
   "outputs": [],
   "source": [
    "pd.DataFrame(x_standardized, columns=X_num.columns).describe().T"
   ]
  },
  {
   "cell_type": "code",
   "execution_count": null,
   "metadata": {
    "executionInfo": {
     "elapsed": 32,
     "status": "aborted",
     "timestamp": 1669220740399,
     "user": {
      "displayName": "Jan Molendijk",
      "userId": "00665875236133738524"
     },
     "user_tz": -60
    },
    "id": "kqxkbPGH8trR"
   },
   "outputs": [],
   "source": [
    "#Activity 4\n",
    "\n",
    "# Keep using the same file (regression_data1.csv) for this exercise.\n",
    "\n",
    "# Select 3 numeric columns.\n",
    "# Plot distributions.\n",
    "# Normalize using minmaxscaler\n",
    "# Plot the distributions again.\n",
    "# do the same for standardscaler"
   ]
  },
  {
   "cell_type": "code",
   "execution_count": null,
   "metadata": {
    "executionInfo": {
     "elapsed": 36,
     "status": "aborted",
     "timestamp": 1669220740403,
     "user": {
      "displayName": "Jan Molendijk",
      "userId": "00665875236133738524"
     },
     "user_tz": -60
    },
    "id": "8v4DFFUC8trR"
   },
   "outputs": [],
   "source": [
    "# 1\n"
   ]
  },
  {
   "cell_type": "code",
   "execution_count": null,
   "metadata": {
    "executionInfo": {
     "elapsed": 36,
     "status": "aborted",
     "timestamp": 1669220740404,
     "user": {
      "displayName": "Jan Molendijk",
      "userId": "00665875236133738524"
     },
     "user_tz": -60
    },
    "id": "0uSvR-Gn8trR"
   },
   "outputs": [],
   "source": []
  },
  {
   "cell_type": "code",
   "execution_count": null,
   "metadata": {
    "executionInfo": {
     "elapsed": 38,
     "status": "aborted",
     "timestamp": 1669220740406,
     "user": {
      "displayName": "Jan Molendijk",
      "userId": "00665875236133738524"
     },
     "user_tz": -60
    },
    "id": "zo8PTUMz8trR"
   },
   "outputs": [],
   "source": []
  },
  {
   "cell_type": "code",
   "execution_count": null,
   "metadata": {
    "executionInfo": {
     "elapsed": 39,
     "status": "aborted",
     "timestamp": 1669220740407,
     "user": {
      "displayName": "Jan Molendijk",
      "userId": "00665875236133738524"
     },
     "user_tz": -60
    },
    "id": "22bXiq2X8trR"
   },
   "outputs": [],
   "source": []
  },
  {
   "cell_type": "code",
   "execution_count": null,
   "metadata": {
    "executionInfo": {
     "elapsed": 39,
     "status": "aborted",
     "timestamp": 1669220740408,
     "user": {
      "displayName": "Jan Molendijk",
      "userId": "00665875236133738524"
     },
     "user_tz": -60
    },
    "id": "fmnY5KGK8trS"
   },
   "outputs": [],
   "source": []
  },
  {
   "cell_type": "code",
   "execution_count": null,
   "metadata": {
    "executionInfo": {
     "elapsed": 40,
     "status": "aborted",
     "timestamp": 1669220740409,
     "user": {
      "displayName": "Jan Molendijk",
      "userId": "00665875236133738524"
     },
     "user_tz": -60
    },
    "id": "CbwNMReHTO9F"
   },
   "outputs": [],
   "source": []
  },
  {
   "cell_type": "code",
   "execution_count": null,
   "metadata": {
    "executionInfo": {
     "elapsed": 41,
     "status": "aborted",
     "timestamp": 1669220740410,
     "user": {
      "displayName": "Jan Molendijk",
      "userId": "00665875236133738524"
     },
     "user_tz": -60
    },
    "id": "RwZfKKCNTO9F"
   },
   "outputs": [],
   "source": []
  },
  {
   "cell_type": "code",
   "execution_count": null,
   "metadata": {
    "executionInfo": {
     "elapsed": 41,
     "status": "aborted",
     "timestamp": 1669220740410,
     "user": {
      "displayName": "Jan Molendijk",
      "userId": "00665875236133738524"
     },
     "user_tz": -60
    },
    "id": "3BXH1Nc88trS"
   },
   "outputs": [],
   "source": [
    "# End Activity 4"
   ]
  }
 ],
 "metadata": {
  "colab": {
   "provenance": []
  },
  "kernelspec": {
   "display_name": "Python 3 (ipykernel)",
   "language": "python",
   "name": "python3"
  },
  "language_info": {
   "codemirror_mode": {
    "name": "ipython",
    "version": 3
   },
   "file_extension": ".py",
   "mimetype": "text/x-python",
   "name": "python",
   "nbconvert_exporter": "python",
   "pygments_lexer": "ipython3",
   "version": "3.10.9"
  }
 },
 "nbformat": 4,
 "nbformat_minor": 1
}
